{
 "cells": [
  {
   "cell_type": "code",
   "execution_count": 1,
   "metadata": {
    "execution": {
     "iopub.execute_input": "2020-12-21T13:07:57.125548Z",
     "iopub.status.busy": "2020-12-21T13:07:57.124785Z",
     "iopub.status.idle": "2020-12-21T13:07:59.083406Z",
     "shell.execute_reply": "2020-12-21T13:07:59.084222Z"
    },
    "papermill": {
     "duration": 2.075552,
     "end_time": "2020-12-21T13:07:59.084465",
     "exception": false,
     "start_time": "2020-12-21T13:07:57.008913",
     "status": "completed"
    },
    "tags": []
   },
   "outputs": [],
   "source": [
    "import numpy as np\n",
    "import pandas as pd\n",
    "from matplotlib import pyplot as plt\n",
    "import seaborn as sns\n",
    "import statsmodels.api as sm\n",
    "import scipy.stats as stats\n",
    "from scipy.stats import chi2_contingency\n",
    "from matplotlib import gridspec\n",
    "import os\n",
    "import sys\n",
    "import glob\n",
    "%matplotlib inline\n",
    "%precision 4\n",
    "plt.style.use('ggplot')\n"
   ]
  },
  {
   "cell_type": "code",
   "execution_count": 2,
   "metadata": {
    "execution": {
     "iopub.execute_input": "2020-12-21T13:07:59.288784Z",
     "iopub.status.busy": "2020-12-21T13:07:59.288000Z",
     "iopub.status.idle": "2020-12-21T13:07:59.344707Z",
     "shell.execute_reply": "2020-12-21T13:07:59.345228Z"
    },
    "papermill": {
     "duration": 0.160779,
     "end_time": "2020-12-21T13:07:59.345380",
     "exception": false,
     "start_time": "2020-12-21T13:07:59.184601",
     "status": "completed"
    },
    "tags": []
   },
   "outputs": [
    {
     "data": {
      "text/html": [
       "<div>\n",
       "<style scoped>\n",
       "    .dataframe tbody tr th:only-of-type {\n",
       "        vertical-align: middle;\n",
       "    }\n",
       "\n",
       "    .dataframe tbody tr th {\n",
       "        vertical-align: top;\n",
       "    }\n",
       "\n",
       "    .dataframe thead th {\n",
       "        text-align: right;\n",
       "    }\n",
       "</style>\n",
       "<table border=\"1\" class=\"dataframe\">\n",
       "  <thead>\n",
       "    <tr style=\"text-align: right;\">\n",
       "      <th></th>\n",
       "      <th>App</th>\n",
       "      <th>Category</th>\n",
       "      <th>Rating</th>\n",
       "      <th>Reviews</th>\n",
       "      <th>Size</th>\n",
       "      <th>Installs</th>\n",
       "      <th>Type</th>\n",
       "      <th>Content Rating</th>\n",
       "    </tr>\n",
       "  </thead>\n",
       "  <tbody>\n",
       "    <tr>\n",
       "      <th>0</th>\n",
       "      <td>Photo Editor &amp; Candy Camera &amp; Grid &amp; ScrapBook</td>\n",
       "      <td>ART_AND_DESIGN</td>\n",
       "      <td>4.1</td>\n",
       "      <td>159</td>\n",
       "      <td>19M</td>\n",
       "      <td>10,000+</td>\n",
       "      <td>Free</td>\n",
       "      <td>Everyone</td>\n",
       "    </tr>\n",
       "    <tr>\n",
       "      <th>1</th>\n",
       "      <td>Coloring book moana</td>\n",
       "      <td>ART_AND_DESIGN</td>\n",
       "      <td>3.9</td>\n",
       "      <td>967</td>\n",
       "      <td>14M</td>\n",
       "      <td>500,000+</td>\n",
       "      <td>Free</td>\n",
       "      <td>Everyone</td>\n",
       "    </tr>\n",
       "    <tr>\n",
       "      <th>2</th>\n",
       "      <td>U Launcher Lite – FREE Live Cool Themes, Hide ...</td>\n",
       "      <td>ART_AND_DESIGN</td>\n",
       "      <td>4.7</td>\n",
       "      <td>87510</td>\n",
       "      <td>8.7M</td>\n",
       "      <td>5,000,000+</td>\n",
       "      <td>Free</td>\n",
       "      <td>Everyone</td>\n",
       "    </tr>\n",
       "    <tr>\n",
       "      <th>3</th>\n",
       "      <td>Sketch - Draw &amp; Paint</td>\n",
       "      <td>ART_AND_DESIGN</td>\n",
       "      <td>4.5</td>\n",
       "      <td>215644</td>\n",
       "      <td>25M</td>\n",
       "      <td>50,000,000+</td>\n",
       "      <td>Free</td>\n",
       "      <td>Teen</td>\n",
       "    </tr>\n",
       "    <tr>\n",
       "      <th>4</th>\n",
       "      <td>Pixel Draw - Number Art Coloring Book</td>\n",
       "      <td>ART_AND_DESIGN</td>\n",
       "      <td>4.3</td>\n",
       "      <td>967</td>\n",
       "      <td>2.8M</td>\n",
       "      <td>100,000+</td>\n",
       "      <td>Free</td>\n",
       "      <td>Everyone</td>\n",
       "    </tr>\n",
       "    <tr>\n",
       "      <th>...</th>\n",
       "      <td>...</td>\n",
       "      <td>...</td>\n",
       "      <td>...</td>\n",
       "      <td>...</td>\n",
       "      <td>...</td>\n",
       "      <td>...</td>\n",
       "      <td>...</td>\n",
       "      <td>...</td>\n",
       "    </tr>\n",
       "    <tr>\n",
       "      <th>1995</th>\n",
       "      <td>Bubble Shooter Space</td>\n",
       "      <td>GAME</td>\n",
       "      <td>4.2</td>\n",
       "      <td>4355</td>\n",
       "      <td>Varies with device</td>\n",
       "      <td>1,000,000+</td>\n",
       "      <td>Free</td>\n",
       "      <td>Everyone</td>\n",
       "    </tr>\n",
       "    <tr>\n",
       "      <th>1996</th>\n",
       "      <td>Swamp Attack</td>\n",
       "      <td>GAME</td>\n",
       "      <td>4.4</td>\n",
       "      <td>2119235</td>\n",
       "      <td>70M</td>\n",
       "      <td>50,000,000+</td>\n",
       "      <td>Free</td>\n",
       "      <td>Everyone 10+</td>\n",
       "    </tr>\n",
       "    <tr>\n",
       "      <th>1997</th>\n",
       "      <td>1LINE – One Line with One Touch</td>\n",
       "      <td>GAME</td>\n",
       "      <td>4.6</td>\n",
       "      <td>214878</td>\n",
       "      <td>10M</td>\n",
       "      <td>10,000,000+</td>\n",
       "      <td>Free</td>\n",
       "      <td>Everyone</td>\n",
       "    </tr>\n",
       "    <tr>\n",
       "      <th>1998</th>\n",
       "      <td>Stick War: Legacy</td>\n",
       "      <td>GAME</td>\n",
       "      <td>4.6</td>\n",
       "      <td>811040</td>\n",
       "      <td>77M</td>\n",
       "      <td>10,000,000+</td>\n",
       "      <td>Free</td>\n",
       "      <td>Teen</td>\n",
       "    </tr>\n",
       "    <tr>\n",
       "      <th>1999</th>\n",
       "      <td>Bowmasters</td>\n",
       "      <td>GAME</td>\n",
       "      <td>4.7</td>\n",
       "      <td>1536349</td>\n",
       "      <td>Varies with device</td>\n",
       "      <td>50,000,000+</td>\n",
       "      <td>Free</td>\n",
       "      <td>Teen</td>\n",
       "    </tr>\n",
       "  </tbody>\n",
       "</table>\n",
       "<p>2000 rows × 8 columns</p>\n",
       "</div>"
      ],
      "text/plain": [
       "                                                    App        Category  \\\n",
       "0        Photo Editor & Candy Camera & Grid & ScrapBook  ART_AND_DESIGN   \n",
       "1                                   Coloring book moana  ART_AND_DESIGN   \n",
       "2     U Launcher Lite – FREE Live Cool Themes, Hide ...  ART_AND_DESIGN   \n",
       "3                                 Sketch - Draw & Paint  ART_AND_DESIGN   \n",
       "4                 Pixel Draw - Number Art Coloring Book  ART_AND_DESIGN   \n",
       "...                                                 ...             ...   \n",
       "1995                               Bubble Shooter Space            GAME   \n",
       "1996                                       Swamp Attack            GAME   \n",
       "1997                    1LINE – One Line with One Touch            GAME   \n",
       "1998                                  Stick War: Legacy            GAME   \n",
       "1999                                         Bowmasters            GAME   \n",
       "\n",
       "      Rating  Reviews                Size     Installs  Type Content Rating  \n",
       "0        4.1      159                 19M      10,000+  Free       Everyone  \n",
       "1        3.9      967                 14M     500,000+  Free       Everyone  \n",
       "2        4.7    87510                8.7M   5,000,000+  Free       Everyone  \n",
       "3        4.5   215644                 25M  50,000,000+  Free           Teen  \n",
       "4        4.3      967                2.8M     100,000+  Free       Everyone  \n",
       "...      ...      ...                 ...          ...   ...            ...  \n",
       "1995     4.2     4355  Varies with device   1,000,000+  Free       Everyone  \n",
       "1996     4.4  2119235                 70M  50,000,000+  Free   Everyone 10+  \n",
       "1997     4.6   214878                 10M  10,000,000+  Free       Everyone  \n",
       "1998     4.6   811040                 77M  10,000,000+  Free           Teen  \n",
       "1999     4.7  1536349  Varies with device  50,000,000+  Free           Teen  \n",
       "\n",
       "[2000 rows x 8 columns]"
      ]
     },
     "execution_count": 2,
     "metadata": {},
     "output_type": "execute_result"
    }
   ],
   "source": [
    "df=pd.read_csv('../input/google-playstore-dataset/playstore.csv')\n",
    "df"
   ]
  },
  {
   "cell_type": "code",
   "execution_count": 3,
   "metadata": {
    "execution": {
     "iopub.execute_input": "2020-12-21T13:07:59.565713Z",
     "iopub.status.busy": "2020-12-21T13:07:59.564936Z",
     "iopub.status.idle": "2020-12-21T13:07:59.573837Z",
     "shell.execute_reply": "2020-12-21T13:07:59.573114Z"
    },
    "papermill": {
     "duration": 0.113094,
     "end_time": "2020-12-21T13:07:59.573979",
     "exception": false,
     "start_time": "2020-12-21T13:07:59.460885",
     "status": "completed"
    },
    "tags": []
   },
   "outputs": [
    {
     "data": {
      "text/plain": [
       "0       4.1\n",
       "1       3.9\n",
       "2       4.7\n",
       "3       4.5\n",
       "4       4.3\n",
       "       ... \n",
       "1995    4.2\n",
       "1996    4.4\n",
       "1997    4.6\n",
       "1998    4.6\n",
       "1999    4.7\n",
       "Name: Rating, Length: 2000, dtype: float64"
      ]
     },
     "execution_count": 3,
     "metadata": {},
     "output_type": "execute_result"
    }
   ],
   "source": [
    "df[\"Rating\"]\n"
   ]
  },
  {
   "cell_type": "code",
   "execution_count": 4,
   "metadata": {
    "execution": {
     "iopub.execute_input": "2020-12-21T13:07:59.783969Z",
     "iopub.status.busy": "2020-12-21T13:07:59.782862Z",
     "iopub.status.idle": "2020-12-21T13:07:59.788138Z",
     "shell.execute_reply": "2020-12-21T13:07:59.787479Z"
    },
    "papermill": {
     "duration": 0.113432,
     "end_time": "2020-12-21T13:07:59.788266",
     "exception": false,
     "start_time": "2020-12-21T13:07:59.674834",
     "status": "completed"
    },
    "tags": []
   },
   "outputs": [
    {
     "data": {
      "text/plain": [
       "(2000, 8)"
      ]
     },
     "execution_count": 4,
     "metadata": {},
     "output_type": "execute_result"
    }
   ],
   "source": [
    "df.shape"
   ]
  },
  {
   "cell_type": "code",
   "execution_count": 5,
   "metadata": {
    "execution": {
     "iopub.execute_input": "2020-12-21T13:08:00.008214Z",
     "iopub.status.busy": "2020-12-21T13:08:00.007339Z",
     "iopub.status.idle": "2020-12-21T13:08:00.021565Z",
     "shell.execute_reply": "2020-12-21T13:08:00.020791Z"
    },
    "papermill": {
     "duration": 0.129733,
     "end_time": "2020-12-21T13:08:00.021692",
     "exception": false,
     "start_time": "2020-12-21T13:07:59.891959",
     "status": "completed"
    },
    "tags": []
   },
   "outputs": [
    {
     "name": "stdout",
     "output_type": "stream",
     "text": [
      "<class 'pandas.core.frame.DataFrame'>\n",
      "RangeIndex: 2000 entries, 0 to 1999\n",
      "Data columns (total 8 columns):\n",
      " #   Column          Non-Null Count  Dtype  \n",
      "---  ------          --------------  -----  \n",
      " 0   App             2000 non-null   object \n",
      " 1   Category        2000 non-null   object \n",
      " 2   Rating          1918 non-null   float64\n",
      " 3   Reviews         2000 non-null   int64  \n",
      " 4   Size            2000 non-null   object \n",
      " 5   Installs        2000 non-null   object \n",
      " 6   Type            2000 non-null   object \n",
      " 7   Content Rating  2000 non-null   object \n",
      "dtypes: float64(1), int64(1), object(6)\n",
      "memory usage: 125.1+ KB\n"
     ]
    }
   ],
   "source": [
    "df.info()"
   ]
  },
  {
   "cell_type": "markdown",
   "metadata": {
    "papermill": {
     "duration": 0.098724,
     "end_time": "2020-12-21T13:08:00.223692",
     "exception": false,
     "start_time": "2020-12-21T13:08:00.124968",
     "status": "completed"
    },
    "tags": []
   },
   "source": [
    "### There are 2000 entries and 8 columns out of which reviews and rating are numeric and other 6 columns are categorial in nature"
   ]
  },
  {
   "cell_type": "code",
   "execution_count": 6,
   "metadata": {
    "execution": {
     "iopub.execute_input": "2020-12-21T13:08:00.435224Z",
     "iopub.status.busy": "2020-12-21T13:08:00.434543Z",
     "iopub.status.idle": "2020-12-21T13:08:00.462477Z",
     "shell.execute_reply": "2020-12-21T13:08:00.462998Z"
    },
    "papermill": {
     "duration": 0.140663,
     "end_time": "2020-12-21T13:08:00.463159",
     "exception": false,
     "start_time": "2020-12-21T13:08:00.322496",
     "status": "completed"
    },
    "tags": []
   },
   "outputs": [
    {
     "data": {
      "text/html": [
       "<div>\n",
       "<style scoped>\n",
       "    .dataframe tbody tr th:only-of-type {\n",
       "        vertical-align: middle;\n",
       "    }\n",
       "\n",
       "    .dataframe tbody tr th {\n",
       "        vertical-align: top;\n",
       "    }\n",
       "\n",
       "    .dataframe thead th {\n",
       "        text-align: right;\n",
       "    }\n",
       "</style>\n",
       "<table border=\"1\" class=\"dataframe\">\n",
       "  <thead>\n",
       "    <tr style=\"text-align: right;\">\n",
       "      <th></th>\n",
       "      <th>App</th>\n",
       "      <th>Category</th>\n",
       "      <th>Rating</th>\n",
       "      <th>Reviews</th>\n",
       "      <th>Size</th>\n",
       "      <th>Installs</th>\n",
       "      <th>Type</th>\n",
       "      <th>Content Rating</th>\n",
       "    </tr>\n",
       "  </thead>\n",
       "  <tbody>\n",
       "    <tr>\n",
       "      <th>False</th>\n",
       "      <td>2000.0</td>\n",
       "      <td>2000.0</td>\n",
       "      <td>1918</td>\n",
       "      <td>2000.0</td>\n",
       "      <td>2000.0</td>\n",
       "      <td>2000.0</td>\n",
       "      <td>2000.0</td>\n",
       "      <td>2000.0</td>\n",
       "    </tr>\n",
       "    <tr>\n",
       "      <th>True</th>\n",
       "      <td>NaN</td>\n",
       "      <td>NaN</td>\n",
       "      <td>82</td>\n",
       "      <td>NaN</td>\n",
       "      <td>NaN</td>\n",
       "      <td>NaN</td>\n",
       "      <td>NaN</td>\n",
       "      <td>NaN</td>\n",
       "    </tr>\n",
       "  </tbody>\n",
       "</table>\n",
       "</div>"
      ],
      "text/plain": [
       "          App  Category  Rating  Reviews    Size  Installs    Type  \\\n",
       "False  2000.0    2000.0    1918   2000.0  2000.0    2000.0  2000.0   \n",
       "True      NaN       NaN      82      NaN     NaN       NaN     NaN   \n",
       "\n",
       "       Content Rating  \n",
       "False          2000.0  \n",
       "True              NaN  "
      ]
     },
     "execution_count": 6,
     "metadata": {},
     "output_type": "execute_result"
    }
   ],
   "source": [
    "df.isna().apply(pd.value_counts) "
   ]
  },
  {
   "cell_type": "markdown",
   "metadata": {
    "papermill": {
     "duration": 0.097711,
     "end_time": "2020-12-21T13:08:00.662377",
     "exception": false,
     "start_time": "2020-12-21T13:08:00.564666",
     "status": "completed"
    },
    "tags": []
   },
   "source": [
    "#### There are 82 null values in ratings column"
   ]
  },
  {
   "cell_type": "markdown",
   "metadata": {
    "papermill": {
     "duration": 0.097874,
     "end_time": "2020-12-21T13:08:00.861797",
     "exception": false,
     "start_time": "2020-12-21T13:08:00.763923",
     "status": "completed"
    },
    "tags": []
   },
   "source": [
    "### Handling NULL values"
   ]
  },
  {
   "cell_type": "code",
   "execution_count": 7,
   "metadata": {
    "execution": {
     "iopub.execute_input": "2020-12-21T13:08:01.071750Z",
     "iopub.status.busy": "2020-12-21T13:08:01.071064Z",
     "iopub.status.idle": "2020-12-21T13:08:01.075100Z",
     "shell.execute_reply": "2020-12-21T13:08:01.074517Z"
    },
    "papermill": {
     "duration": 0.113495,
     "end_time": "2020-12-21T13:08:01.075211",
     "exception": false,
     "start_time": "2020-12-21T13:08:00.961716",
     "status": "completed"
    },
    "tags": []
   },
   "outputs": [
    {
     "data": {
      "text/plain": [
       "0       4.1\n",
       "1       3.9\n",
       "2       4.7\n",
       "3       4.5\n",
       "4       4.3\n",
       "       ... \n",
       "1995    4.2\n",
       "1996    4.4\n",
       "1997    4.6\n",
       "1998    4.6\n",
       "1999    4.7\n",
       "Name: Rating, Length: 2000, dtype: float64"
      ]
     },
     "execution_count": 7,
     "metadata": {},
     "output_type": "execute_result"
    }
   ],
   "source": [
    "df[\"Rating\"].fillna(df[\"Rating\"].mean(),inplace=True)\n",
    "df[\"Rating\"]"
   ]
  },
  {
   "cell_type": "code",
   "execution_count": 8,
   "metadata": {
    "execution": {
     "iopub.execute_input": "2020-12-21T13:08:01.287507Z",
     "iopub.status.busy": "2020-12-21T13:08:01.286764Z",
     "iopub.status.idle": "2020-12-21T13:08:01.304060Z",
     "shell.execute_reply": "2020-12-21T13:08:01.303357Z"
    },
    "papermill": {
     "duration": 0.126618,
     "end_time": "2020-12-21T13:08:01.304177",
     "exception": false,
     "start_time": "2020-12-21T13:08:01.177559",
     "status": "completed"
    },
    "tags": []
   },
   "outputs": [
    {
     "data": {
      "text/html": [
       "<div>\n",
       "<style scoped>\n",
       "    .dataframe tbody tr th:only-of-type {\n",
       "        vertical-align: middle;\n",
       "    }\n",
       "\n",
       "    .dataframe tbody tr th {\n",
       "        vertical-align: top;\n",
       "    }\n",
       "\n",
       "    .dataframe thead th {\n",
       "        text-align: right;\n",
       "    }\n",
       "</style>\n",
       "<table border=\"1\" class=\"dataframe\">\n",
       "  <thead>\n",
       "    <tr style=\"text-align: right;\">\n",
       "      <th></th>\n",
       "      <th>App</th>\n",
       "      <th>Category</th>\n",
       "      <th>Rating</th>\n",
       "      <th>Reviews</th>\n",
       "      <th>Size</th>\n",
       "      <th>Installs</th>\n",
       "      <th>Type</th>\n",
       "      <th>Content Rating</th>\n",
       "    </tr>\n",
       "  </thead>\n",
       "  <tbody>\n",
       "    <tr>\n",
       "      <th>False</th>\n",
       "      <td>2000</td>\n",
       "      <td>2000</td>\n",
       "      <td>2000</td>\n",
       "      <td>2000</td>\n",
       "      <td>2000</td>\n",
       "      <td>2000</td>\n",
       "      <td>2000</td>\n",
       "      <td>2000</td>\n",
       "    </tr>\n",
       "  </tbody>\n",
       "</table>\n",
       "</div>"
      ],
      "text/plain": [
       "        App  Category  Rating  Reviews  Size  Installs  Type  Content Rating\n",
       "False  2000      2000    2000     2000  2000      2000  2000            2000"
      ]
     },
     "execution_count": 8,
     "metadata": {},
     "output_type": "execute_result"
    }
   ],
   "source": [
    "df.isna().apply(pd.value_counts) "
   ]
  },
  {
   "cell_type": "markdown",
   "metadata": {
    "papermill": {
     "duration": 0.121344,
     "end_time": "2020-12-21T13:08:01.532641",
     "exception": false,
     "start_time": "2020-12-21T13:08:01.411297",
     "status": "completed"
    },
    "tags": []
   },
   "source": [
    "### Replacing null values with average ratings"
   ]
  },
  {
   "cell_type": "markdown",
   "metadata": {
    "papermill": {
     "duration": 0.101025,
     "end_time": "2020-12-21T13:08:01.737549",
     "exception": false,
     "start_time": "2020-12-21T13:08:01.636524",
     "status": "completed"
    },
    "tags": []
   },
   "source": [
    "##  <h1 style=\"color:Tomato;\"> CATEGORY </h1>"
   ]
  },
  {
   "cell_type": "code",
   "execution_count": 9,
   "metadata": {
    "execution": {
     "iopub.execute_input": "2020-12-21T13:08:01.949525Z",
     "iopub.status.busy": "2020-12-21T13:08:01.948301Z",
     "iopub.status.idle": "2020-12-21T13:08:01.952904Z",
     "shell.execute_reply": "2020-12-21T13:08:01.952205Z"
    },
    "papermill": {
     "duration": 0.114323,
     "end_time": "2020-12-21T13:08:01.953026",
     "exception": false,
     "start_time": "2020-12-21T13:08:01.838703",
     "status": "completed"
    },
    "tags": []
   },
   "outputs": [
    {
     "data": {
      "text/plain": [
       "array(['ART_AND_DESIGN', 'AUTO_AND_VEHICLES', 'BEAUTY',\n",
       "       'BOOKS_AND_REFERENCE', 'BUSINESS', 'COMICS', 'COMMUNICATION',\n",
       "       'DATING', 'EDUCATION', 'ENTERTAINMENT', 'EVENTS', 'FINANCE',\n",
       "       'FOOD_AND_DRINK', 'HEALTH_AND_FITNESS', 'HOUSE_AND_HOME',\n",
       "       'LIBRARIES_AND_DEMO', 'LIFESTYLE', 'GAME'], dtype=object)"
      ]
     },
     "execution_count": 9,
     "metadata": {},
     "output_type": "execute_result"
    }
   ],
   "source": [
    "df[\"Category\"].unique()\n"
   ]
  },
  {
   "cell_type": "code",
   "execution_count": 10,
   "metadata": {
    "execution": {
     "iopub.execute_input": "2020-12-21T13:08:02.177465Z",
     "iopub.status.busy": "2020-12-21T13:08:02.176515Z",
     "iopub.status.idle": "2020-12-21T13:08:02.184854Z",
     "shell.execute_reply": "2020-12-21T13:08:02.184102Z"
    },
    "papermill": {
     "duration": 0.115822,
     "end_time": "2020-12-21T13:08:02.184980",
     "exception": false,
     "start_time": "2020-12-21T13:08:02.069158",
     "status": "completed"
    },
    "tags": []
   },
   "outputs": [
    {
     "data": {
      "text/plain": [
       "18"
      ]
     },
     "execution_count": 10,
     "metadata": {},
     "output_type": "execute_result"
    }
   ],
   "source": [
    "df[\"Category\"].nunique()"
   ]
  },
  {
   "cell_type": "markdown",
   "metadata": {
    "papermill": {
     "duration": 0.11135,
     "end_time": "2020-12-21T13:08:02.402351",
     "exception": false,
     "start_time": "2020-12-21T13:08:02.291001",
     "status": "completed"
    },
    "tags": []
   },
   "source": [
    "### There are 18 categories in Category column"
   ]
  },
  {
   "cell_type": "markdown",
   "metadata": {
    "papermill": {
     "duration": 0.112358,
     "end_time": "2020-12-21T13:08:02.621813",
     "exception": false,
     "start_time": "2020-12-21T13:08:02.509455",
     "status": "completed"
    },
    "tags": []
   },
   "source": [
    "##  <h1 style=\"color:Tomato;\"> RATING </h1>"
   ]
  },
  {
   "cell_type": "code",
   "execution_count": 11,
   "metadata": {
    "execution": {
     "iopub.execute_input": "2020-12-21T13:08:02.838076Z",
     "iopub.status.busy": "2020-12-21T13:08:02.836937Z",
     "iopub.status.idle": "2020-12-21T13:08:02.842175Z",
     "shell.execute_reply": "2020-12-21T13:08:02.841511Z"
    },
    "papermill": {
     "duration": 0.112382,
     "end_time": "2020-12-21T13:08:02.842290",
     "exception": false,
     "start_time": "2020-12-21T13:08:02.729908",
     "status": "completed"
    },
    "tags": []
   },
   "outputs": [
    {
     "name": "stdout",
     "output_type": "stream",
     "text": [
      "Range:  1.0 - 5.0\n"
     ]
    }
   ],
   "source": [
    "print(\"Range: \", df[\"Rating\"].min(),\"-\",df[\"Rating\"].max())\n"
   ]
  },
  {
   "cell_type": "markdown",
   "metadata": {
    "papermill": {
     "duration": 0.103008,
     "end_time": "2020-12-21T13:08:03.047327",
     "exception": false,
     "start_time": "2020-12-21T13:08:02.944319",
     "status": "completed"
    },
    "tags": []
   },
   "source": [
    "##  <h1 style=\"color:Tomato;\"> REVIEWS </h1>"
   ]
  },
  {
   "cell_type": "markdown",
   "metadata": {
    "papermill": {
     "duration": 0.100746,
     "end_time": "2020-12-21T13:08:03.250890",
     "exception": false,
     "start_time": "2020-12-21T13:08:03.150144",
     "status": "completed"
    },
    "tags": []
   },
   "source": [
    "#### Checking if all values in number of Reviews numeric"
   ]
  },
  {
   "cell_type": "code",
   "execution_count": 12,
   "metadata": {
    "execution": {
     "iopub.execute_input": "2020-12-21T13:08:03.461134Z",
     "iopub.status.busy": "2020-12-21T13:08:03.460084Z",
     "iopub.status.idle": "2020-12-21T13:08:03.464462Z",
     "shell.execute_reply": "2020-12-21T13:08:03.463836Z"
    },
    "papermill": {
     "duration": 0.112952,
     "end_time": "2020-12-21T13:08:03.464576",
     "exception": false,
     "start_time": "2020-12-21T13:08:03.351624",
     "status": "completed"
    },
    "tags": []
   },
   "outputs": [
    {
     "data": {
      "text/plain": [
       "0           159\n",
       "1           967\n",
       "2         87510\n",
       "3        215644\n",
       "4           967\n",
       "         ...   \n",
       "1995       4355\n",
       "1996    2119235\n",
       "1997     214878\n",
       "1998     811040\n",
       "1999    1536349\n",
       "Name: Reviews, Length: 2000, dtype: int64"
      ]
     },
     "execution_count": 12,
     "metadata": {},
     "output_type": "execute_result"
    }
   ],
   "source": [
    "df[\"Reviews\"]"
   ]
  },
  {
   "cell_type": "code",
   "execution_count": 13,
   "metadata": {
    "execution": {
     "iopub.execute_input": "2020-12-21T13:08:03.678405Z",
     "iopub.status.busy": "2020-12-21T13:08:03.677382Z",
     "iopub.status.idle": "2020-12-21T13:08:03.682020Z",
     "shell.execute_reply": "2020-12-21T13:08:03.681371Z"
    },
    "papermill": {
     "duration": 0.116291,
     "end_time": "2020-12-21T13:08:03.682138",
     "exception": false,
     "start_time": "2020-12-21T13:08:03.565847",
     "status": "completed"
    },
    "tags": []
   },
   "outputs": [
    {
     "data": {
      "text/plain": [
       "0           159\n",
       "1           967\n",
       "2         87510\n",
       "3        215644\n",
       "4           967\n",
       "         ...   \n",
       "1995       4355\n",
       "1996    2119235\n",
       "1997     214878\n",
       "1998     811040\n",
       "1999    1536349\n",
       "Name: Reviews, Length: 2000, dtype: int64"
      ]
     },
     "execution_count": 13,
     "metadata": {},
     "output_type": "execute_result"
    }
   ],
   "source": [
    "df[\"Reviews\"] = df[\"Reviews\"].astype(int)\n",
    "df[\"Reviews\"] "
   ]
  },
  {
   "cell_type": "code",
   "execution_count": 14,
   "metadata": {
    "execution": {
     "iopub.execute_input": "2020-12-21T13:08:03.894456Z",
     "iopub.status.busy": "2020-12-21T13:08:03.893644Z",
     "iopub.status.idle": "2020-12-21T13:08:04.238068Z",
     "shell.execute_reply": "2020-12-21T13:08:04.237262Z"
    },
    "papermill": {
     "duration": 0.452547,
     "end_time": "2020-12-21T13:08:04.238192",
     "exception": false,
     "start_time": "2020-12-21T13:08:03.785645",
     "status": "completed"
    },
    "tags": []
   },
   "outputs": [
    {
     "data": {
      "text/plain": [
       "Text(0, 0.5, 'Frequency')"
      ]
     },
     "execution_count": 14,
     "metadata": {},
     "output_type": "execute_result"
    },
    {
     "data": {
      "image/png": "[encoded data removed]",
      "text/plain": [
       "<Figure size 432x288 with 1 Axes>"
      ]
     },
     "metadata": {},
     "output_type": "display_data"
    }
   ],
   "source": [
    "df.Reviews.hist();\n",
    "plt.xlabel('No. of Reviews')\n",
    "plt.ylabel('Frequency')"
   ]
  },
  {
   "cell_type": "markdown",
   "metadata": {
    "papermill": {
     "duration": 0.107901,
     "end_time": "2020-12-21T13:08:04.452792",
     "exception": false,
     "start_time": "2020-12-21T13:08:04.344891",
     "status": "completed"
    },
    "tags": []
   },
   "source": [
    "## <h1 style=\"color:Tomato;\"> SIZE </h1>"
   ]
  },
  {
   "cell_type": "code",
   "execution_count": 15,
   "metadata": {
    "execution": {
     "iopub.execute_input": "2020-12-21T13:08:04.672625Z",
     "iopub.status.busy": "2020-12-21T13:08:04.671669Z",
     "iopub.status.idle": "2020-12-21T13:08:04.676745Z",
     "shell.execute_reply": "2020-12-21T13:08:04.676157Z"
    },
    "papermill": {
     "duration": 0.119101,
     "end_time": "2020-12-21T13:08:04.676873",
     "exception": false,
     "start_time": "2020-12-21T13:08:04.557772",
     "status": "completed"
    },
    "tags": []
   },
   "outputs": [
    {
     "data": {
      "text/plain": [
       "Varies with device    502\n",
       "19M                    45\n",
       "11M                    43\n",
       "21M                    39\n",
       "15M                    38\n",
       "Name: Size, dtype: int64"
      ]
     },
     "execution_count": 15,
     "metadata": {},
     "output_type": "execute_result"
    }
   ],
   "source": [
    "df.Size.value_counts().head()"
   ]
  },
  {
   "cell_type": "markdown",
   "metadata": {
    "papermill": {
     "duration": 0.10455,
     "end_time": "2020-12-21T13:08:04.889276",
     "exception": false,
     "start_time": "2020-12-21T13:08:04.784726",
     "status": "completed"
    },
    "tags": []
   },
   "source": [
    "### It can be seen that data has metric prefixes (Kilo and Mega) along with another string. Replacing M with their values to convert values to numeric."
   ]
  },
  {
   "cell_type": "code",
   "execution_count": 16,
   "metadata": {
    "execution": {
     "iopub.execute_input": "2020-12-21T13:08:05.120729Z",
     "iopub.status.busy": "2020-12-21T13:08:05.116822Z",
     "iopub.status.idle": "2020-12-21T13:08:05.124851Z",
     "shell.execute_reply": "2020-12-21T13:08:05.125348Z"
    },
    "papermill": {
     "duration": 0.127269,
     "end_time": "2020-12-21T13:08:05.125530",
     "exception": false,
     "start_time": "2020-12-21T13:08:04.998261",
     "status": "completed"
    },
    "tags": []
   },
   "outputs": [
    {
     "data": {
      "text/plain": [
       "0     19e+6\n",
       "1     14e+6\n",
       "2    8.7e+6\n",
       "3     25e+6\n",
       "4    2.8e+6\n",
       "Name: Size, dtype: object"
      ]
     },
     "execution_count": 16,
     "metadata": {},
     "output_type": "execute_result"
    }
   ],
   "source": [
    "df.Size=df.Size.str.replace('M','e+6')\n",
    "df.Size.head()"
   ]
  },
  {
   "cell_type": "code",
   "execution_count": 17,
   "metadata": {
    "execution": {
     "iopub.execute_input": "2020-12-21T13:08:05.350165Z",
     "iopub.status.busy": "2020-12-21T13:08:05.348171Z",
     "iopub.status.idle": "2020-12-21T13:08:05.353856Z",
     "shell.execute_reply": "2020-12-21T13:08:05.353180Z"
    },
    "papermill": {
     "duration": 0.123565,
     "end_time": "2020-12-21T13:08:05.353994",
     "exception": false,
     "start_time": "2020-12-21T13:08:05.230429",
     "status": "completed"
    },
    "tags": []
   },
   "outputs": [
    {
     "name": "stdout",
     "output_type": "stream",
     "text": [
      "<class 'pandas.core.frame.DataFrame'>\n",
      "RangeIndex: 2000 entries, 0 to 1999\n",
      "Data columns (total 8 columns):\n",
      " #   Column          Non-Null Count  Dtype  \n",
      "---  ------          --------------  -----  \n",
      " 0   App             2000 non-null   object \n",
      " 1   Category        2000 non-null   object \n",
      " 2   Rating          2000 non-null   float64\n",
      " 3   Reviews         2000 non-null   int64  \n",
      " 4   Size            2000 non-null   object \n",
      " 5   Installs        2000 non-null   object \n",
      " 6   Type            2000 non-null   object \n",
      " 7   Content Rating  2000 non-null   object \n",
      "dtypes: float64(1), int64(1), object(6)\n",
      "memory usage: 125.1+ KB\n"
     ]
    }
   ],
   "source": [
    "df.info()"
   ]
  },
  {
   "cell_type": "markdown",
   "metadata": {
    "papermill": {
     "duration": 0.105631,
     "end_time": "2020-12-21T13:08:05.569399",
     "exception": false,
     "start_time": "2020-12-21T13:08:05.463768",
     "status": "completed"
    },
    "tags": []
   },
   "source": [
    "### Now, we have some two types of values in our Size data.\n",
    "\n",
    "Exponential values (not yet converted to string)\n",
    "Strings (that cannot be converted into numeric)\n",
    "Thus specifing categories 1 and 2 as an boolean array temp, to convert category 1 to numeric."
   ]
  },
  {
   "cell_type": "code",
   "execution_count": 18,
   "metadata": {
    "execution": {
     "iopub.execute_input": "2020-12-21T13:08:05.795786Z",
     "iopub.status.busy": "2020-12-21T13:08:05.794652Z",
     "iopub.status.idle": "2020-12-21T13:08:05.799463Z",
     "shell.execute_reply": "2020-12-21T13:08:05.798879Z"
    },
    "papermill": {
     "duration": 0.122577,
     "end_time": "2020-12-21T13:08:05.799582",
     "exception": false,
     "start_time": "2020-12-21T13:08:05.677005",
     "status": "completed"
    },
    "tags": []
   },
   "outputs": [
    {
     "data": {
      "text/plain": [
       "0    True\n",
       "1    True\n",
       "2    True\n",
       "3    True\n",
       "4    True\n",
       "Name: Size, dtype: bool"
      ]
     },
     "execution_count": 18,
     "metadata": {},
     "output_type": "execute_result"
    }
   ],
   "source": [
    "def is_convertable(v):\n",
    "    try:\n",
    "        float(v)\n",
    "        return True\n",
    "    except ValueError:\n",
    "        return False\n",
    "    \n",
    "temp=df.Size.apply(lambda x: is_convertable(x))\n",
    "temp.head()"
   ]
  },
  {
   "cell_type": "markdown",
   "metadata": {
    "papermill": {
     "duration": 0.112348,
     "end_time": "2020-12-21T13:08:06.018759",
     "exception": false,
     "start_time": "2020-12-21T13:08:05.906411",
     "status": "completed"
    },
    "tags": []
   },
   "source": [
    "Now checking unique non numeric values (~temp) in Size."
   ]
  },
  {
   "cell_type": "code",
   "execution_count": 19,
   "metadata": {
    "execution": {
     "iopub.execute_input": "2020-12-21T13:08:06.243036Z",
     "iopub.status.busy": "2020-12-21T13:08:06.242066Z",
     "iopub.status.idle": "2020-12-21T13:08:06.246800Z",
     "shell.execute_reply": "2020-12-21T13:08:06.246176Z"
    },
    "papermill": {
     "duration": 0.120868,
     "end_time": "2020-12-21T13:08:06.246921",
     "exception": false,
     "start_time": "2020-12-21T13:08:06.126053",
     "status": "completed"
    },
    "tags": []
   },
   "outputs": [
    {
     "data": {
      "text/plain": [
       "Varies with device    502\n",
       "201k                    1\n",
       "624k                    1\n",
       "526k                    1\n",
       "41k                     1\n",
       "18k                     1\n",
       "695k                    1\n",
       "79k                     1\n",
       "292k                    1\n",
       "334k                    1\n",
       "8.5k                    1\n",
       "23k                     1\n",
       "118k                    1\n",
       "556k                    1\n",
       "232k                    1\n",
       "11k                     1\n",
       "Name: Size, dtype: int64"
      ]
     },
     "execution_count": 19,
     "metadata": {},
     "output_type": "execute_result"
    }
   ],
   "source": [
    "df.Size[~temp].value_counts()"
   ]
  },
  {
   "cell_type": "markdown",
   "metadata": {
    "papermill": {
     "duration": 0.115903,
     "end_time": "2020-12-21T13:08:06.471009",
     "exception": false,
     "start_time": "2020-12-21T13:08:06.355106",
     "status": "completed"
    },
    "tags": []
   },
   "source": [
    "Replacing 'Varies with Device' by nan "
   ]
  },
  {
   "cell_type": "code",
   "execution_count": 20,
   "metadata": {
    "execution": {
     "iopub.execute_input": "2020-12-21T13:08:06.697159Z",
     "iopub.status.busy": "2020-12-21T13:08:06.696400Z",
     "iopub.status.idle": "2020-12-21T13:08:06.700074Z",
     "shell.execute_reply": "2020-12-21T13:08:06.699361Z"
    },
    "papermill": {
     "duration": 0.117081,
     "end_time": "2020-12-21T13:08:06.700192",
     "exception": false,
     "start_time": "2020-12-21T13:08:06.583111",
     "status": "completed"
    },
    "tags": []
   },
   "outputs": [],
   "source": [
    "df.Size=df.Size.replace('Varies with device',np.nan)"
   ]
  },
  {
   "cell_type": "markdown",
   "metadata": {
    "papermill": {
     "duration": 0.109051,
     "end_time": "2020-12-21T13:08:06.917920",
     "exception": false,
     "start_time": "2020-12-21T13:08:06.808869",
     "status": "completed"
    },
    "tags": []
   },
   "source": [
    "Converting the cleaned Size data to numeric type"
   ]
  },
  {
   "cell_type": "markdown",
   "metadata": {
    "papermill": {
     "duration": 0.111109,
     "end_time": "2020-12-21T13:08:07.142075",
     "exception": false,
     "start_time": "2020-12-21T13:08:07.030966",
     "status": "completed"
    },
    "tags": []
   },
   "source": [
    "## <h1 style=\"color:Tomato;\"> INSTALLS </h1>"
   ]
  },
  {
   "cell_type": "code",
   "execution_count": 21,
   "metadata": {
    "execution": {
     "iopub.execute_input": "2020-12-21T13:08:07.367463Z",
     "iopub.status.busy": "2020-12-21T13:08:07.366420Z",
     "iopub.status.idle": "2020-12-21T13:08:07.371520Z",
     "shell.execute_reply": "2020-12-21T13:08:07.372002Z"
    },
    "papermill": {
     "duration": 0.122417,
     "end_time": "2020-12-21T13:08:07.372166",
     "exception": false,
     "start_time": "2020-12-21T13:08:07.249749",
     "status": "completed"
    },
    "tags": []
   },
   "outputs": [
    {
     "data": {
      "text/plain": [
       "1,000,000+        471\n",
       "10,000,000+       358\n",
       "100,000+          266\n",
       "5,000,000+        216\n",
       "500,000+          159\n",
       "100,000,000+      144\n",
       "10,000+            89\n",
       "50,000,000+        71\n",
       "50,000+            67\n",
       "1,000+             29\n",
       "500,000,000+       28\n",
       "100+               26\n",
       "5,000+             21\n",
       "1,000,000,000+     20\n",
       "500+               16\n",
       "10+                10\n",
       "50+                 6\n",
       "1+                  2\n",
       "5+                  1\n",
       "Name: Installs, dtype: int64"
      ]
     },
     "execution_count": 21,
     "metadata": {},
     "output_type": "execute_result"
    }
   ],
   "source": [
    "df.Installs.value_counts()"
   ]
  },
  {
   "cell_type": "markdown",
   "metadata": {
    "papermill": {
     "duration": 0.108338,
     "end_time": "2020-12-21T13:08:07.589134",
     "exception": false,
     "start_time": "2020-12-21T13:08:07.480796",
     "status": "completed"
    },
    "tags": []
   },
   "source": [
    "It can be seen that there are 22 unique values, out of which\n",
    "\n",
    "1 is 0,\n",
    "1 is Free(string) , which we will be converting to nan here\n",
    "and rest are numeric but with '+' and ',' which shall be removed to convert these into numeric type."
   ]
  },
  {
   "cell_type": "code",
   "execution_count": 22,
   "metadata": {
    "execution": {
     "iopub.execute_input": "2020-12-21T13:08:07.822364Z",
     "iopub.status.busy": "2020-12-21T13:08:07.821405Z",
     "iopub.status.idle": "2020-12-21T13:08:07.827674Z",
     "shell.execute_reply": "2020-12-21T13:08:07.826893Z"
    },
    "papermill": {
     "duration": 0.130622,
     "end_time": "2020-12-21T13:08:07.827806",
     "exception": false,
     "start_time": "2020-12-21T13:08:07.697184",
     "status": "completed"
    },
    "tags": []
   },
   "outputs": [
    {
     "data": {
      "text/plain": [
       "1000000       471\n",
       "10000000      358\n",
       "100000        266\n",
       "5000000       216\n",
       "500000        159\n",
       "100000000     144\n",
       "10000          89\n",
       "50000000       71\n",
       "50000          67\n",
       "1000           29\n",
       "500000000      28\n",
       "100            26\n",
       "5000           21\n",
       "1000000000     20\n",
       "500            16\n",
       "10             10\n",
       "50              6\n",
       "1               2\n",
       "5               1\n",
       "Name: Installs, dtype: int64"
      ]
     },
     "execution_count": 22,
     "metadata": {},
     "output_type": "execute_result"
    }
   ],
   "source": [
    "df.Installs=df.Installs.apply(lambda x: x.strip('+'))\n",
    "df.Installs=df.Installs.apply(lambda x: x.replace(',',''))\n",
    "df.Installs=df.Installs.replace('Free',np.nan)\n",
    "df.Installs.value_counts()"
   ]
  },
  {
   "cell_type": "markdown",
   "metadata": {
    "papermill": {
     "duration": 0.163656,
     "end_time": "2020-12-21T13:08:08.103712",
     "exception": false,
     "start_time": "2020-12-21T13:08:07.940056",
     "status": "completed"
    },
    "tags": []
   },
   "source": [
    "Checking if data is converted to numeric"
   ]
  },
  {
   "cell_type": "code",
   "execution_count": 23,
   "metadata": {
    "execution": {
     "iopub.execute_input": "2020-12-21T13:08:08.337158Z",
     "iopub.status.busy": "2020-12-21T13:08:08.336299Z",
     "iopub.status.idle": "2020-12-21T13:08:08.340988Z",
     "shell.execute_reply": "2020-12-21T13:08:08.340295Z"
    },
    "papermill": {
     "duration": 0.123965,
     "end_time": "2020-12-21T13:08:08.341117",
     "exception": false,
     "start_time": "2020-12-21T13:08:08.217152",
     "status": "completed"
    },
    "tags": []
   },
   "outputs": [
    {
     "data": {
      "text/plain": [
       "2000"
      ]
     },
     "execution_count": 23,
     "metadata": {},
     "output_type": "execute_result"
    }
   ],
   "source": [
    "df.Installs.str.isnumeric().sum()"
   ]
  },
  {
   "cell_type": "markdown",
   "metadata": {
    "papermill": {
     "duration": 0.111109,
     "end_time": "2020-12-21T13:08:08.565396",
     "exception": false,
     "start_time": "2020-12-21T13:08:08.454287",
     "status": "completed"
    },
    "tags": []
   },
   "source": [
    "## <h1 style=\"color:Tomato;\"> TYPE </h1>"
   ]
  },
  {
   "cell_type": "code",
   "execution_count": 24,
   "metadata": {
    "execution": {
     "iopub.execute_input": "2020-12-21T13:08:08.801184Z",
     "iopub.status.busy": "2020-12-21T13:08:08.800065Z",
     "iopub.status.idle": "2020-12-21T13:08:08.804765Z",
     "shell.execute_reply": "2020-12-21T13:08:08.804076Z"
    },
    "papermill": {
     "duration": 0.126355,
     "end_time": "2020-12-21T13:08:08.804890",
     "exception": false,
     "start_time": "2020-12-21T13:08:08.678535",
     "status": "completed"
    },
    "tags": []
   },
   "outputs": [
    {
     "data": {
      "text/plain": [
       "Free    1967\n",
       "Paid      33\n",
       "Name: Type, dtype: int64"
      ]
     },
     "execution_count": 24,
     "metadata": {},
     "output_type": "execute_result"
    }
   ],
   "source": [
    "df.Type.value_counts()"
   ]
  },
  {
   "cell_type": "markdown",
   "metadata": {
    "papermill": {
     "duration": 0.111597,
     "end_time": "2020-12-21T13:08:09.027811",
     "exception": false,
     "start_time": "2020-12-21T13:08:08.916214",
     "status": "completed"
    },
    "tags": []
   },
   "source": [
    "There are only two types, free and paid. No unwanted data here."
   ]
  },
  {
   "cell_type": "markdown",
   "metadata": {
    "papermill": {
     "duration": 0.110364,
     "end_time": "2020-12-21T13:08:09.248999",
     "exception": false,
     "start_time": "2020-12-21T13:08:09.138635",
     "status": "completed"
    },
    "tags": []
   },
   "source": [
    "## <h1 style=\"color:Tomato;\"> CONTENT RATING </h1>"
   ]
  },
  {
   "cell_type": "code",
   "execution_count": 25,
   "metadata": {
    "execution": {
     "iopub.execute_input": "2020-12-21T13:08:09.479870Z",
     "iopub.status.busy": "2020-12-21T13:08:09.478759Z",
     "iopub.status.idle": "2020-12-21T13:08:09.484338Z",
     "shell.execute_reply": "2020-12-21T13:08:09.484831Z"
    },
    "papermill": {
     "duration": 0.126169,
     "end_time": "2020-12-21T13:08:09.484984",
     "exception": false,
     "start_time": "2020-12-21T13:08:09.358815",
     "status": "completed"
    },
    "tags": []
   },
   "outputs": [
    {
     "data": {
      "text/plain": [
       "array(['Everyone', 'Teen', 'Everyone 10+', 'Mature 17+',\n",
       "       'Adults only 18+'], dtype=object)"
      ]
     },
     "execution_count": 25,
     "metadata": {},
     "output_type": "execute_result"
    }
   ],
   "source": [
    "df[\"Content Rating\"].unique()"
   ]
  },
  {
   "cell_type": "code",
   "execution_count": 26,
   "metadata": {
    "execution": {
     "iopub.execute_input": "2020-12-21T13:08:09.712227Z",
     "iopub.status.busy": "2020-12-21T13:08:09.711521Z",
     "iopub.status.idle": "2020-12-21T13:08:09.714755Z",
     "shell.execute_reply": "2020-12-21T13:08:09.715300Z"
    },
    "papermill": {
     "duration": 0.121607,
     "end_time": "2020-12-21T13:08:09.715466",
     "exception": false,
     "start_time": "2020-12-21T13:08:09.593859",
     "status": "completed"
    },
    "tags": []
   },
   "outputs": [
    {
     "data": {
      "text/plain": [
       "App                object\n",
       "Category           object\n",
       "Rating            float64\n",
       "Reviews             int64\n",
       "Size               object\n",
       "Installs           object\n",
       "Type               object\n",
       "Content Rating     object\n",
       "dtype: object"
      ]
     },
     "execution_count": 26,
     "metadata": {},
     "output_type": "execute_result"
    }
   ],
   "source": [
    "df.dtypes"
   ]
  },
  {
   "cell_type": "code",
   "execution_count": 27,
   "metadata": {
    "execution": {
     "iopub.execute_input": "2020-12-21T13:08:09.946610Z",
     "iopub.status.busy": "2020-12-21T13:08:09.945892Z",
     "iopub.status.idle": "2020-12-21T13:08:09.954769Z",
     "shell.execute_reply": "2020-12-21T13:08:09.955337Z"
    },
    "papermill": {
     "duration": 0.127193,
     "end_time": "2020-12-21T13:08:09.955507",
     "exception": false,
     "start_time": "2020-12-21T13:08:09.828314",
     "status": "completed"
    },
    "tags": []
   },
   "outputs": [
    {
     "data": {
      "text/plain": [
       "App                 0\n",
       "Category            0\n",
       "Rating              0\n",
       "Reviews             0\n",
       "Size              502\n",
       "Installs            0\n",
       "Type                0\n",
       "Content Rating      0\n",
       "dtype: int64"
      ]
     },
     "execution_count": 27,
     "metadata": {},
     "output_type": "execute_result"
    }
   ],
   "source": [
    "df.isna().sum()"
   ]
  },
  {
   "cell_type": "code",
   "execution_count": 28,
   "metadata": {
    "execution": {
     "iopub.execute_input": "2020-12-21T13:08:10.186042Z",
     "iopub.status.busy": "2020-12-21T13:08:10.185326Z",
     "iopub.status.idle": "2020-12-21T13:08:10.212913Z",
     "shell.execute_reply": "2020-12-21T13:08:10.212242Z"
    },
    "papermill": {
     "duration": 0.14269,
     "end_time": "2020-12-21T13:08:10.213046",
     "exception": false,
     "start_time": "2020-12-21T13:08:10.070356",
     "status": "completed"
    },
    "tags": []
   },
   "outputs": [],
   "source": [
    "df.dropna(inplace=True)"
   ]
  },
  {
   "cell_type": "code",
   "execution_count": 29,
   "metadata": {
    "execution": {
     "iopub.execute_input": "2020-12-21T13:08:10.443611Z",
     "iopub.status.busy": "2020-12-21T13:08:10.442810Z",
     "iopub.status.idle": "2020-12-21T13:08:10.452075Z",
     "shell.execute_reply": "2020-12-21T13:08:10.452742Z"
    },
    "papermill": {
     "duration": 0.128104,
     "end_time": "2020-12-21T13:08:10.452892",
     "exception": false,
     "start_time": "2020-12-21T13:08:10.324788",
     "status": "completed"
    },
    "tags": []
   },
   "outputs": [
    {
     "name": "stdout",
     "output_type": "stream",
     "text": [
      "<class 'pandas.core.frame.DataFrame'>\n",
      "Int64Index: 1498 entries, 0 to 1998\n",
      "Data columns (total 8 columns):\n",
      " #   Column          Non-Null Count  Dtype  \n",
      "---  ------          --------------  -----  \n",
      " 0   App             1498 non-null   object \n",
      " 1   Category        1498 non-null   object \n",
      " 2   Rating          1498 non-null   float64\n",
      " 3   Reviews         1498 non-null   int64  \n",
      " 4   Size            1498 non-null   object \n",
      " 5   Installs        1498 non-null   object \n",
      " 6   Type            1498 non-null   object \n",
      " 7   Content Rating  1498 non-null   object \n",
      "dtypes: float64(1), int64(1), object(6)\n",
      "memory usage: 105.3+ KB\n"
     ]
    }
   ],
   "source": [
    "df.info()"
   ]
  },
  {
   "cell_type": "markdown",
   "metadata": {
    "papermill": {
     "duration": 0.112719,
     "end_time": "2020-12-21T13:08:10.676785",
     "exception": false,
     "start_time": "2020-12-21T13:08:10.564066",
     "status": "completed"
    },
    "tags": []
   },
   "source": [
    "# Descriptive Statistics"
   ]
  },
  {
   "cell_type": "code",
   "execution_count": 30,
   "metadata": {
    "execution": {
     "iopub.execute_input": "2020-12-21T13:08:10.913060Z",
     "iopub.status.busy": "2020-12-21T13:08:10.911994Z",
     "iopub.status.idle": "2020-12-21T13:08:10.922504Z",
     "shell.execute_reply": "2020-12-21T13:08:10.922994Z"
    },
    "papermill": {
     "duration": 0.130965,
     "end_time": "2020-12-21T13:08:10.923160",
     "exception": false,
     "start_time": "2020-12-21T13:08:10.792195",
     "status": "completed"
    },
    "tags": []
   },
   "outputs": [],
   "source": [
    "df_num=df.select_dtypes(include=np.number)\n",
    "df_cat=df.select_dtypes(include='object')"
   ]
  },
  {
   "cell_type": "code",
   "execution_count": 31,
   "metadata": {
    "execution": {
     "iopub.execute_input": "2020-12-21T13:08:11.155467Z",
     "iopub.status.busy": "2020-12-21T13:08:11.154294Z",
     "iopub.status.idle": "2020-12-21T13:08:11.164897Z",
     "shell.execute_reply": "2020-12-21T13:08:11.165376Z"
    },
    "papermill": {
     "duration": 0.126759,
     "end_time": "2020-12-21T13:08:11.165559",
     "exception": false,
     "start_time": "2020-12-21T13:08:11.038800",
     "status": "completed"
    },
    "tags": []
   },
   "outputs": [
    {
     "data": {
      "text/html": [
       "<div>\n",
       "<style scoped>\n",
       "    .dataframe tbody tr th:only-of-type {\n",
       "        vertical-align: middle;\n",
       "    }\n",
       "\n",
       "    .dataframe tbody tr th {\n",
       "        vertical-align: top;\n",
       "    }\n",
       "\n",
       "    .dataframe thead th {\n",
       "        text-align: right;\n",
       "    }\n",
       "</style>\n",
       "<table border=\"1\" class=\"dataframe\">\n",
       "  <thead>\n",
       "    <tr style=\"text-align: right;\">\n",
       "      <th></th>\n",
       "      <th>Rating</th>\n",
       "      <th>Reviews</th>\n",
       "    </tr>\n",
       "  </thead>\n",
       "  <tbody>\n",
       "    <tr>\n",
       "      <th>0</th>\n",
       "      <td>4.1</td>\n",
       "      <td>159</td>\n",
       "    </tr>\n",
       "    <tr>\n",
       "      <th>1</th>\n",
       "      <td>3.9</td>\n",
       "      <td>967</td>\n",
       "    </tr>\n",
       "    <tr>\n",
       "      <th>2</th>\n",
       "      <td>4.7</td>\n",
       "      <td>87510</td>\n",
       "    </tr>\n",
       "    <tr>\n",
       "      <th>3</th>\n",
       "      <td>4.5</td>\n",
       "      <td>215644</td>\n",
       "    </tr>\n",
       "    <tr>\n",
       "      <th>4</th>\n",
       "      <td>4.3</td>\n",
       "      <td>967</td>\n",
       "    </tr>\n",
       "  </tbody>\n",
       "</table>\n",
       "</div>"
      ],
      "text/plain": [
       "   Rating  Reviews\n",
       "0     4.1      159\n",
       "1     3.9      967\n",
       "2     4.7    87510\n",
       "3     4.5   215644\n",
       "4     4.3      967"
      ]
     },
     "execution_count": 31,
     "metadata": {},
     "output_type": "execute_result"
    }
   ],
   "source": [
    "df_num.head(5)"
   ]
  },
  {
   "cell_type": "code",
   "execution_count": 32,
   "metadata": {
    "execution": {
     "iopub.execute_input": "2020-12-21T13:08:11.405073Z",
     "iopub.status.busy": "2020-12-21T13:08:11.404039Z",
     "iopub.status.idle": "2020-12-21T13:08:11.420372Z",
     "shell.execute_reply": "2020-12-21T13:08:11.419409Z"
    },
    "papermill": {
     "duration": 0.138134,
     "end_time": "2020-12-21T13:08:11.420558",
     "exception": false,
     "start_time": "2020-12-21T13:08:11.282424",
     "status": "completed"
    },
    "tags": []
   },
   "outputs": [
    {
     "data": {
      "text/html": [
       "<div>\n",
       "<style scoped>\n",
       "    .dataframe tbody tr th:only-of-type {\n",
       "        vertical-align: middle;\n",
       "    }\n",
       "\n",
       "    .dataframe tbody tr th {\n",
       "        vertical-align: top;\n",
       "    }\n",
       "\n",
       "    .dataframe thead th {\n",
       "        text-align: right;\n",
       "    }\n",
       "</style>\n",
       "<table border=\"1\" class=\"dataframe\">\n",
       "  <thead>\n",
       "    <tr style=\"text-align: right;\">\n",
       "      <th></th>\n",
       "      <th>App</th>\n",
       "      <th>Category</th>\n",
       "      <th>Size</th>\n",
       "      <th>Installs</th>\n",
       "      <th>Type</th>\n",
       "      <th>Content Rating</th>\n",
       "    </tr>\n",
       "  </thead>\n",
       "  <tbody>\n",
       "    <tr>\n",
       "      <th>0</th>\n",
       "      <td>Photo Editor &amp; Candy Camera &amp; Grid &amp; ScrapBook</td>\n",
       "      <td>ART_AND_DESIGN</td>\n",
       "      <td>19e+6</td>\n",
       "      <td>10000</td>\n",
       "      <td>Free</td>\n",
       "      <td>Everyone</td>\n",
       "    </tr>\n",
       "    <tr>\n",
       "      <th>1</th>\n",
       "      <td>Coloring book moana</td>\n",
       "      <td>ART_AND_DESIGN</td>\n",
       "      <td>14e+6</td>\n",
       "      <td>500000</td>\n",
       "      <td>Free</td>\n",
       "      <td>Everyone</td>\n",
       "    </tr>\n",
       "    <tr>\n",
       "      <th>2</th>\n",
       "      <td>U Launcher Lite – FREE Live Cool Themes, Hide ...</td>\n",
       "      <td>ART_AND_DESIGN</td>\n",
       "      <td>8.7e+6</td>\n",
       "      <td>5000000</td>\n",
       "      <td>Free</td>\n",
       "      <td>Everyone</td>\n",
       "    </tr>\n",
       "    <tr>\n",
       "      <th>3</th>\n",
       "      <td>Sketch - Draw &amp; Paint</td>\n",
       "      <td>ART_AND_DESIGN</td>\n",
       "      <td>25e+6</td>\n",
       "      <td>50000000</td>\n",
       "      <td>Free</td>\n",
       "      <td>Teen</td>\n",
       "    </tr>\n",
       "    <tr>\n",
       "      <th>4</th>\n",
       "      <td>Pixel Draw - Number Art Coloring Book</td>\n",
       "      <td>ART_AND_DESIGN</td>\n",
       "      <td>2.8e+6</td>\n",
       "      <td>100000</td>\n",
       "      <td>Free</td>\n",
       "      <td>Everyone</td>\n",
       "    </tr>\n",
       "  </tbody>\n",
       "</table>\n",
       "</div>"
      ],
      "text/plain": [
       "                                                 App        Category    Size  \\\n",
       "0     Photo Editor & Candy Camera & Grid & ScrapBook  ART_AND_DESIGN   19e+6   \n",
       "1                                Coloring book moana  ART_AND_DESIGN   14e+6   \n",
       "2  U Launcher Lite – FREE Live Cool Themes, Hide ...  ART_AND_DESIGN  8.7e+6   \n",
       "3                              Sketch - Draw & Paint  ART_AND_DESIGN   25e+6   \n",
       "4              Pixel Draw - Number Art Coloring Book  ART_AND_DESIGN  2.8e+6   \n",
       "\n",
       "   Installs  Type Content Rating  \n",
       "0     10000  Free       Everyone  \n",
       "1    500000  Free       Everyone  \n",
       "2   5000000  Free       Everyone  \n",
       "3  50000000  Free           Teen  \n",
       "4    100000  Free       Everyone  "
      ]
     },
     "execution_count": 32,
     "metadata": {},
     "output_type": "execute_result"
    }
   ],
   "source": [
    "df_cat.head(5)"
   ]
  },
  {
   "cell_type": "markdown",
   "metadata": {
    "papermill": {
     "duration": 0.116803,
     "end_time": "2020-12-21T13:08:11.656505",
     "exception": false,
     "start_time": "2020-12-21T13:08:11.539702",
     "status": "completed"
    },
    "tags": []
   },
   "source": [
    "NOTE:-\n",
    "\n",
    "1)Numerical Columns: Ratings,Reviews,Size,Installs\n",
    "\n",
    "2)Categorical Columns: App,Category,Type,Content Rating"
   ]
  },
  {
   "cell_type": "markdown",
   "metadata": {
    "papermill": {
     "duration": 0.112312,
     "end_time": "2020-12-21T13:08:11.884240",
     "exception": false,
     "start_time": "2020-12-21T13:08:11.771928",
     "status": "completed"
    },
    "tags": []
   },
   "source": [
    "# Mean"
   ]
  },
  {
   "cell_type": "code",
   "execution_count": 33,
   "metadata": {
    "execution": {
     "iopub.execute_input": "2020-12-21T13:08:12.120781Z",
     "iopub.status.busy": "2020-12-21T13:08:12.119791Z",
     "iopub.status.idle": "2020-12-21T13:08:12.134423Z",
     "shell.execute_reply": "2020-12-21T13:08:12.133712Z"
    },
    "papermill": {
     "duration": 0.13617,
     "end_time": "2020-12-21T13:08:12.134562",
     "exception": false,
     "start_time": "2020-12-21T13:08:11.998392",
     "status": "completed"
    },
    "tags": []
   },
   "outputs": [
    {
     "data": {
      "text/plain": [
       "Rating      4.286053e+00\n",
       "Reviews     7.965442e+05\n",
       "Installs             inf\n",
       "dtype: float64"
      ]
     },
     "execution_count": 33,
     "metadata": {},
     "output_type": "execute_result"
    }
   ],
   "source": [
    "df.mean()"
   ]
  },
  {
   "cell_type": "markdown",
   "metadata": {
    "papermill": {
     "duration": 0.117983,
     "end_time": "2020-12-21T13:08:12.371657",
     "exception": false,
     "start_time": "2020-12-21T13:08:12.253674",
     "status": "completed"
    },
    "tags": []
   },
   "source": [
    "# Trimmed Mean"
   ]
  },
  {
   "cell_type": "code",
   "execution_count": 34,
   "metadata": {
    "execution": {
     "iopub.execute_input": "2020-12-21T13:08:12.645203Z",
     "iopub.status.busy": "2020-12-21T13:08:12.644115Z",
     "iopub.status.idle": "2020-12-21T13:08:12.648025Z",
     "shell.execute_reply": "2020-12-21T13:08:12.647455Z"
    },
    "papermill": {
     "duration": 0.137627,
     "end_time": "2020-12-21T13:08:12.648143",
     "exception": false,
     "start_time": "2020-12-21T13:08:12.510516",
     "status": "completed"
    },
    "tags": []
   },
   "outputs": [],
   "source": [
    "import scipy \n",
    "from scipy.stats import stats"
   ]
  },
  {
   "cell_type": "code",
   "execution_count": 35,
   "metadata": {
    "execution": {
     "iopub.execute_input": "2020-12-21T13:08:12.895779Z",
     "iopub.status.busy": "2020-12-21T13:08:12.895062Z",
     "iopub.status.idle": "2020-12-21T13:08:12.900586Z",
     "shell.execute_reply": "2020-12-21T13:08:12.901083Z"
    },
    "papermill": {
     "duration": 0.130582,
     "end_time": "2020-12-21T13:08:12.901242",
     "exception": false,
     "start_time": "2020-12-21T13:08:12.770660",
     "status": "completed"
    },
    "tags": []
   },
   "outputs": [
    {
     "data": {
      "text/plain": [
       "4.3306728362878"
      ]
     },
     "execution_count": 35,
     "metadata": {},
     "output_type": "execute_result"
    }
   ],
   "source": [
    "scipy.stats.trim_mean(df['Rating'],proportiontocut=0.1)"
   ]
  },
  {
   "cell_type": "code",
   "execution_count": 36,
   "metadata": {
    "execution": {
     "iopub.execute_input": "2020-12-21T13:08:13.137975Z",
     "iopub.status.busy": "2020-12-21T13:08:13.137246Z",
     "iopub.status.idle": "2020-12-21T13:08:13.143389Z",
     "shell.execute_reply": "2020-12-21T13:08:13.143952Z"
    },
    "papermill": {
     "duration": 0.125114,
     "end_time": "2020-12-21T13:08:13.144104",
     "exception": false,
     "start_time": "2020-12-21T13:08:13.018990",
     "status": "completed"
    },
    "tags": []
   },
   "outputs": [
    {
     "data": {
      "text/plain": [
       "75142.61083333334"
      ]
     },
     "execution_count": 36,
     "metadata": {},
     "output_type": "execute_result"
    }
   ],
   "source": [
    "scipy.stats.trim_mean(df['Reviews'],proportiontocut=0.1)"
   ]
  },
  {
   "cell_type": "code",
   "execution_count": 37,
   "metadata": {
    "execution": {
     "iopub.execute_input": "2020-12-21T13:08:13.376710Z",
     "iopub.status.busy": "2020-12-21T13:08:13.375915Z",
     "iopub.status.idle": "2020-12-21T13:08:13.379409Z",
     "shell.execute_reply": "2020-12-21T13:08:13.379978Z"
    },
    "papermill": {
     "duration": 0.122163,
     "end_time": "2020-12-21T13:08:13.380122",
     "exception": false,
     "start_time": "2020-12-21T13:08:13.257959",
     "status": "completed"
    },
    "tags": []
   },
   "outputs": [],
   "source": [
    "# We can say that Installs are having outliers"
   ]
  },
  {
   "cell_type": "markdown",
   "metadata": {
    "papermill": {
     "duration": 0.113837,
     "end_time": "2020-12-21T13:08:13.609938",
     "exception": false,
     "start_time": "2020-12-21T13:08:13.496101",
     "status": "completed"
    },
    "tags": []
   },
   "source": [
    "# Median"
   ]
  },
  {
   "cell_type": "code",
   "execution_count": 38,
   "metadata": {
    "execution": {
     "iopub.execute_input": "2020-12-21T13:08:13.847330Z",
     "iopub.status.busy": "2020-12-21T13:08:13.845035Z",
     "iopub.status.idle": "2020-12-21T13:08:13.854909Z",
     "shell.execute_reply": "2020-12-21T13:08:13.855449Z"
    },
    "papermill": {
     "duration": 0.131361,
     "end_time": "2020-12-21T13:08:13.855598",
     "exception": false,
     "start_time": "2020-12-21T13:08:13.724237",
     "status": "completed"
    },
    "tags": []
   },
   "outputs": [
    {
     "data": {
      "text/plain": [
       "Rating            4.3\n",
       "Reviews       15180.0\n",
       "Installs    1000000.0\n",
       "dtype: float64"
      ]
     },
     "execution_count": 38,
     "metadata": {},
     "output_type": "execute_result"
    }
   ],
   "source": [
    "df.median()"
   ]
  },
  {
   "cell_type": "markdown",
   "metadata": {
    "papermill": {
     "duration": 0.115792,
     "end_time": "2020-12-21T13:08:14.086989",
     "exception": false,
     "start_time": "2020-12-21T13:08:13.971197",
     "status": "completed"
    },
    "tags": []
   },
   "source": [
    "### The above values show the median for all the variables. These values divide the observations into two halves implying that there are exactly 50% of observations above this point and 50% below.\n"
   ]
  },
  {
   "cell_type": "markdown",
   "metadata": {
    "papermill": {
     "duration": 0.115906,
     "end_time": "2020-12-21T13:08:14.317483",
     "exception": false,
     "start_time": "2020-12-21T13:08:14.201577",
     "status": "completed"
    },
    "tags": []
   },
   "source": [
    "### For instance, consider the Installs , there are 50% of installs below 1000000  and 50% of installs below 1000000"
   ]
  },
  {
   "cell_type": "markdown",
   "metadata": {
    "papermill": {
     "duration": 0.117858,
     "end_time": "2020-12-21T13:08:14.551951",
     "exception": false,
     "start_time": "2020-12-21T13:08:14.434093",
     "status": "completed"
    },
    "tags": []
   },
   "source": [
    "# Mode"
   ]
  },
  {
   "cell_type": "code",
   "execution_count": 39,
   "metadata": {
    "execution": {
     "iopub.execute_input": "2020-12-21T13:08:14.787690Z",
     "iopub.status.busy": "2020-12-21T13:08:14.786965Z",
     "iopub.status.idle": "2020-12-21T13:08:14.809621Z",
     "shell.execute_reply": "2020-12-21T13:08:14.809001Z"
    },
    "papermill": {
     "duration": 0.142562,
     "end_time": "2020-12-21T13:08:14.809738",
     "exception": false,
     "start_time": "2020-12-21T13:08:14.667176",
     "status": "completed"
    },
    "tags": []
   },
   "outputs": [
    {
     "data": {
      "text/html": [
       "<div>\n",
       "<style scoped>\n",
       "    .dataframe tbody tr th:only-of-type {\n",
       "        vertical-align: middle;\n",
       "    }\n",
       "\n",
       "    .dataframe tbody tr th {\n",
       "        vertical-align: top;\n",
       "    }\n",
       "\n",
       "    .dataframe thead th {\n",
       "        text-align: right;\n",
       "    }\n",
       "</style>\n",
       "<table border=\"1\" class=\"dataframe\">\n",
       "  <thead>\n",
       "    <tr style=\"text-align: right;\">\n",
       "      <th></th>\n",
       "      <th>App</th>\n",
       "      <th>Category</th>\n",
       "      <th>Rating</th>\n",
       "      <th>Reviews</th>\n",
       "      <th>Size</th>\n",
       "      <th>Installs</th>\n",
       "      <th>Type</th>\n",
       "      <th>Content Rating</th>\n",
       "    </tr>\n",
       "  </thead>\n",
       "  <tbody>\n",
       "    <tr>\n",
       "      <th>0</th>\n",
       "      <td>8 Ball Pool</td>\n",
       "      <td>GAME</td>\n",
       "      <td>4.5</td>\n",
       "      <td>0.0</td>\n",
       "      <td>19e+6</td>\n",
       "      <td>1000000</td>\n",
       "      <td>Free</td>\n",
       "      <td>Everyone</td>\n",
       "    </tr>\n",
       "    <tr>\n",
       "      <th>1</th>\n",
       "      <td>Candy Crush Saga</td>\n",
       "      <td>NaN</td>\n",
       "      <td>NaN</td>\n",
       "      <td>NaN</td>\n",
       "      <td>NaN</td>\n",
       "      <td>NaN</td>\n",
       "      <td>NaN</td>\n",
       "      <td>NaN</td>\n",
       "    </tr>\n",
       "  </tbody>\n",
       "</table>\n",
       "</div>"
      ],
      "text/plain": [
       "                App Category  Rating  Reviews   Size Installs  Type  \\\n",
       "0       8 Ball Pool     GAME     4.5      0.0  19e+6  1000000  Free   \n",
       "1  Candy Crush Saga      NaN     NaN      NaN    NaN      NaN   NaN   \n",
       "\n",
       "  Content Rating  \n",
       "0       Everyone  \n",
       "1            NaN  "
      ]
     },
     "execution_count": 39,
     "metadata": {},
     "output_type": "execute_result"
    }
   ],
   "source": [
    "df.mode()"
   ]
  },
  {
   "cell_type": "code",
   "execution_count": 40,
   "metadata": {
    "execution": {
     "iopub.execute_input": "2020-12-21T13:08:15.065146Z",
     "iopub.status.busy": "2020-12-21T13:08:15.064412Z",
     "iopub.status.idle": "2020-12-21T13:08:15.067149Z",
     "shell.execute_reply": "2020-12-21T13:08:15.067698Z"
    },
    "papermill": {
     "duration": 0.139924,
     "end_time": "2020-12-21T13:08:15.067846",
     "exception": false,
     "start_time": "2020-12-21T13:08:14.927922",
     "status": "completed"
    },
    "tags": []
   },
   "outputs": [
    {
     "data": {
      "text/html": [
       "<div>\n",
       "<style scoped>\n",
       "    .dataframe tbody tr th:only-of-type {\n",
       "        vertical-align: middle;\n",
       "    }\n",
       "\n",
       "    .dataframe tbody tr th {\n",
       "        vertical-align: top;\n",
       "    }\n",
       "\n",
       "    .dataframe thead th {\n",
       "        text-align: right;\n",
       "    }\n",
       "</style>\n",
       "<table border=\"1\" class=\"dataframe\">\n",
       "  <thead>\n",
       "    <tr style=\"text-align: right;\">\n",
       "      <th></th>\n",
       "      <th>App</th>\n",
       "      <th>Category</th>\n",
       "      <th>Size</th>\n",
       "      <th>Installs</th>\n",
       "      <th>Type</th>\n",
       "      <th>Content Rating</th>\n",
       "    </tr>\n",
       "  </thead>\n",
       "  <tbody>\n",
       "    <tr>\n",
       "      <th>0</th>\n",
       "      <td>8 Ball Pool</td>\n",
       "      <td>GAME</td>\n",
       "      <td>19e+6</td>\n",
       "      <td>1000000</td>\n",
       "      <td>Free</td>\n",
       "      <td>Everyone</td>\n",
       "    </tr>\n",
       "    <tr>\n",
       "      <th>1</th>\n",
       "      <td>Candy Crush Saga</td>\n",
       "      <td>NaN</td>\n",
       "      <td>NaN</td>\n",
       "      <td>NaN</td>\n",
       "      <td>NaN</td>\n",
       "      <td>NaN</td>\n",
       "    </tr>\n",
       "  </tbody>\n",
       "</table>\n",
       "</div>"
      ],
      "text/plain": [
       "                App Category   Size Installs  Type Content Rating\n",
       "0       8 Ball Pool     GAME  19e+6  1000000  Free       Everyone\n",
       "1  Candy Crush Saga      NaN    NaN      NaN   NaN            NaN"
      ]
     },
     "execution_count": 40,
     "metadata": {},
     "output_type": "execute_result"
    }
   ],
   "source": [
    "df_cat.mode()"
   ]
  },
  {
   "cell_type": "code",
   "execution_count": 41,
   "metadata": {
    "execution": {
     "iopub.execute_input": "2020-12-21T13:08:15.307862Z",
     "iopub.status.busy": "2020-12-21T13:08:15.307189Z",
     "iopub.status.idle": "2020-12-21T13:08:15.337394Z",
     "shell.execute_reply": "2020-12-21T13:08:15.338173Z"
    },
    "papermill": {
     "duration": 0.152331,
     "end_time": "2020-12-21T13:08:15.338412",
     "exception": false,
     "start_time": "2020-12-21T13:08:15.186081",
     "status": "completed"
    },
    "tags": []
   },
   "outputs": [
    {
     "data": {
      "text/html": [
       "<div>\n",
       "<style scoped>\n",
       "    .dataframe tbody tr th:only-of-type {\n",
       "        vertical-align: middle;\n",
       "    }\n",
       "\n",
       "    .dataframe tbody tr th {\n",
       "        vertical-align: top;\n",
       "    }\n",
       "\n",
       "    .dataframe thead th {\n",
       "        text-align: right;\n",
       "    }\n",
       "</style>\n",
       "<table border=\"1\" class=\"dataframe\">\n",
       "  <thead>\n",
       "    <tr style=\"text-align: right;\">\n",
       "      <th></th>\n",
       "      <th>App</th>\n",
       "      <th>Category</th>\n",
       "      <th>Size</th>\n",
       "      <th>Installs</th>\n",
       "      <th>Type</th>\n",
       "      <th>Content Rating</th>\n",
       "    </tr>\n",
       "  </thead>\n",
       "  <tbody>\n",
       "    <tr>\n",
       "      <th>count</th>\n",
       "      <td>1498</td>\n",
       "      <td>1498</td>\n",
       "      <td>1498</td>\n",
       "      <td>1498</td>\n",
       "      <td>1498</td>\n",
       "      <td>1498</td>\n",
       "    </tr>\n",
       "    <tr>\n",
       "      <th>unique</th>\n",
       "      <td>1218</td>\n",
       "      <td>18</td>\n",
       "      <td>192</td>\n",
       "      <td>19</td>\n",
       "      <td>2</td>\n",
       "      <td>5</td>\n",
       "    </tr>\n",
       "    <tr>\n",
       "      <th>top</th>\n",
       "      <td>8 Ball Pool</td>\n",
       "      <td>GAME</td>\n",
       "      <td>19e+6</td>\n",
       "      <td>1000000</td>\n",
       "      <td>Free</td>\n",
       "      <td>Everyone</td>\n",
       "    </tr>\n",
       "    <tr>\n",
       "      <th>freq</th>\n",
       "      <td>6</td>\n",
       "      <td>278</td>\n",
       "      <td>45</td>\n",
       "      <td>360</td>\n",
       "      <td>1473</td>\n",
       "      <td>1040</td>\n",
       "    </tr>\n",
       "  </tbody>\n",
       "</table>\n",
       "</div>"
      ],
      "text/plain": [
       "                App Category   Size Installs  Type Content Rating\n",
       "count          1498     1498   1498     1498  1498           1498\n",
       "unique         1218       18    192       19     2              5\n",
       "top     8 Ball Pool     GAME  19e+6  1000000  Free       Everyone\n",
       "freq              6      278     45      360  1473           1040"
      ]
     },
     "execution_count": 41,
     "metadata": {},
     "output_type": "execute_result"
    }
   ],
   "source": [
    "df_cat.describe()"
   ]
  },
  {
   "cell_type": "markdown",
   "metadata": {
    "papermill": {
     "duration": 0.121551,
     "end_time": "2020-12-21T13:08:15.580826",
     "exception": false,
     "start_time": "2020-12-21T13:08:15.459275",
     "status": "completed"
    },
    "tags": []
   },
   "source": [
    "We can conclude that 8 ball pool is the most installed app in the app store"
   ]
  },
  {
   "cell_type": "code",
   "execution_count": 42,
   "metadata": {
    "execution": {
     "iopub.execute_input": "2020-12-21T13:08:15.824149Z",
     "iopub.status.busy": "2020-12-21T13:08:15.823467Z",
     "iopub.status.idle": "2020-12-21T13:08:16.283543Z",
     "shell.execute_reply": "2020-12-21T13:08:16.282878Z"
    },
    "papermill": {
     "duration": 0.582019,
     "end_time": "2020-12-21T13:08:16.283668",
     "exception": false,
     "start_time": "2020-12-21T13:08:15.701649",
     "status": "completed"
    },
    "tags": []
   },
   "outputs": [
    {
     "name": "stdout",
     "output_type": "stream",
     "text": [
      "Mean:  4.286053006372069 \n",
      "Median:  4.3 \n",
      "Mode:  4.5\n"
     ]
    },
    {
     "data": {
      "image/png": "[encoded data removed]",
      "text/plain": [
       "<Figure size 720x360 with 1 Axes>"
      ]
     },
     "metadata": {},
     "output_type": "display_data"
    }
   ],
   "source": [
    "mean1=df['Rating'].mean()\n",
    "median1=df['Rating'].median()\n",
    "mode1=df['Rating'].mode()\n",
    "\n",
    "print('Mean: ',mean1,'\\nMedian: ',median1,'\\nMode: ',mode1[0])\n",
    "plt.figure(figsize=(10,5))\n",
    "plt.hist(df['Rating'],bins=100,color='#e6f49f')\n",
    "plt.axvline(mean1,color='#ed0909',label='Mean')\n",
    "plt.axvline(median1,color='#2a22c9',label='Median')\n",
    "plt.axvline(mode1[0],color='green',label='Mode')\n",
    "plt.xlabel('Rating')\n",
    "plt.ylabel('Frequency')\n",
    "plt.legend()\n",
    "plt.show()"
   ]
  },
  {
   "cell_type": "code",
   "execution_count": 43,
   "metadata": {
    "execution": {
     "iopub.execute_input": "2020-12-21T13:08:16.544560Z",
     "iopub.status.busy": "2020-12-21T13:08:16.542858Z",
     "iopub.status.idle": "2020-12-21T13:08:17.011646Z",
     "shell.execute_reply": "2020-12-21T13:08:17.009851Z"
    },
    "papermill": {
     "duration": 0.606039,
     "end_time": "2020-12-21T13:08:17.011783",
     "exception": false,
     "start_time": "2020-12-21T13:08:16.405744",
     "status": "completed"
    },
    "tags": []
   },
   "outputs": [
    {
     "name": "stdout",
     "output_type": "stream",
     "text": [
      "Mean:  796544.1575433912 \n",
      "Median:  15180.0 \n",
      "Mode:  0\n"
     ]
    },
    {
     "data": {
      "image/png": "[encoded data removed]",
      "text/plain": [
       "<Figure size 720x360 with 1 Axes>"
      ]
     },
     "metadata": {},
     "output_type": "display_data"
    }
   ],
   "source": [
    "mean2=df['Reviews'].mean()\n",
    "median2=df['Reviews'].median()\n",
    "mode2=df['Reviews'].mode()\n",
    "\n",
    "print('Mean: ',mean2,'\\nMedian: ',median2,'\\nMode: ',mode2[0])\n",
    "plt.figure(figsize=(10,5))\n",
    "plt.hist(df['Rating'],bins=100,color='#e6f49f')\n",
    "plt.axvline(mean2,color='#ed0909',label='Mean')\n",
    "plt.axvline(median2,color='#2a22c9',label='Median')\n",
    "plt.axvline(mode2[0],color='green',label='Mode')\n",
    "plt.xlabel('Rating')\n",
    "plt.ylabel('Frequency')\n",
    "plt.legend()\n",
    "plt.show()"
   ]
  },
  {
   "cell_type": "code",
   "execution_count": 44,
   "metadata": {
    "execution": {
     "iopub.execute_input": "2020-12-21T13:08:17.263602Z",
     "iopub.status.busy": "2020-12-21T13:08:17.262814Z",
     "iopub.status.idle": "2020-12-21T13:08:17.697994Z",
     "shell.execute_reply": "2020-12-21T13:08:17.698494Z"
    },
    "papermill": {
     "duration": 0.566449,
     "end_time": "2020-12-21T13:08:17.698647",
     "exception": false,
     "start_time": "2020-12-21T13:08:17.132198",
     "status": "completed"
    },
    "tags": []
   },
   "outputs": [
    {
     "name": "stdout",
     "output_type": "stream",
     "text": [
      "Mean:  inf \n",
      "Median:  1000000.0 \n",
      "Mode:  1000000\n"
     ]
    },
    {
     "data": {
      "image/png": "[encoded data removed]",
      "text/plain": [
       "<Figure size 720x360 with 1 Axes>"
      ]
     },
     "metadata": {},
     "output_type": "display_data"
    }
   ],
   "source": [
    "mean4=df['Installs'].mean()\n",
    "median4=df['Installs'].median()\n",
    "mode4=df['Installs'].mode()\n",
    "\n",
    "print('Mean: ',mean4,'\\nMedian: ',median4,'\\nMode: ',mode4[0])\n",
    "plt.figure(figsize=(10,5))\n",
    "plt.hist(df['Rating'],bins=100,color='#e6f49f')\n",
    "plt.axvline(mean4,color='#ed0909',label='Mean')\n",
    "plt.axvline(median4,color='#2a22c9',label='Median')\n",
    "plt.axvline(mode4[0],color='green',label='Mode')\n",
    "plt.xlabel('Installs')\n",
    "plt.ylabel('Frequency')\n",
    "plt.legend()\n",
    "plt.show()"
   ]
  },
  {
   "cell_type": "markdown",
   "metadata": {
    "papermill": {
     "duration": 0.120686,
     "end_time": "2020-12-21T13:08:17.940943",
     "exception": false,
     "start_time": "2020-12-21T13:08:17.820257",
     "status": "completed"
    },
    "tags": []
   },
   "source": [
    "We can say that Size and Installs follow symmetric distrubution as median=mode"
   ]
  },
  {
   "cell_type": "markdown",
   "metadata": {
    "papermill": {
     "duration": 0.120014,
     "end_time": "2020-12-21T13:08:18.182834",
     "exception": false,
     "start_time": "2020-12-21T13:08:18.062820",
     "status": "completed"
    },
    "tags": []
   },
   "source": [
    "# Quantiles"
   ]
  },
  {
   "cell_type": "code",
   "execution_count": 45,
   "metadata": {
    "execution": {
     "iopub.execute_input": "2020-12-21T13:08:18.429933Z",
     "iopub.status.busy": "2020-12-21T13:08:18.429180Z",
     "iopub.status.idle": "2020-12-21T13:08:18.437653Z",
     "shell.execute_reply": "2020-12-21T13:08:18.438155Z"
    },
    "papermill": {
     "duration": 0.135742,
     "end_time": "2020-12-21T13:08:18.438307",
     "exception": false,
     "start_time": "2020-12-21T13:08:18.302565",
     "status": "completed"
    },
    "tags": []
   },
   "outputs": [
    {
     "data": {
      "text/plain": [
       "Rating        4.10\n",
       "Reviews    1440.75\n",
       "Name: 0.25, dtype: float64"
      ]
     },
     "execution_count": 45,
     "metadata": {},
     "output_type": "execute_result"
    }
   ],
   "source": [
    "Q1=df.quantile(0.25)\n",
    "Q1"
   ]
  },
  {
   "cell_type": "code",
   "execution_count": 46,
   "metadata": {
    "execution": {
     "iopub.execute_input": "2020-12-21T13:08:18.684919Z",
     "iopub.status.busy": "2020-12-21T13:08:18.684121Z",
     "iopub.status.idle": "2020-12-21T13:08:18.691879Z",
     "shell.execute_reply": "2020-12-21T13:08:18.692365Z"
    },
    "papermill": {
     "duration": 0.13102,
     "end_time": "2020-12-21T13:08:18.692551",
     "exception": false,
     "start_time": "2020-12-21T13:08:18.561531",
     "status": "completed"
    },
    "tags": []
   },
   "outputs": [
    {
     "data": {
      "text/plain": [
       "Rating         4.3\n",
       "Reviews    15180.0\n",
       "Name: 0.5, dtype: float64"
      ]
     },
     "execution_count": 46,
     "metadata": {},
     "output_type": "execute_result"
    }
   ],
   "source": [
    "Q2=df.quantile(0.5)\n",
    "Q2"
   ]
  },
  {
   "cell_type": "code",
   "execution_count": 47,
   "metadata": {
    "execution": {
     "iopub.execute_input": "2020-12-21T13:08:18.940724Z",
     "iopub.status.busy": "2020-12-21T13:08:18.940064Z",
     "iopub.status.idle": "2020-12-21T13:08:18.948203Z",
     "shell.execute_reply": "2020-12-21T13:08:18.948792Z"
    },
    "papermill": {
     "duration": 0.133545,
     "end_time": "2020-12-21T13:08:18.948946",
     "exception": false,
     "start_time": "2020-12-21T13:08:18.815401",
     "status": "completed"
    },
    "tags": []
   },
   "outputs": [
    {
     "data": {
      "text/plain": [
       "Rating          4.50\n",
       "Reviews    122570.75\n",
       "Name: 0.75, dtype: float64"
      ]
     },
     "execution_count": 47,
     "metadata": {},
     "output_type": "execute_result"
    }
   ],
   "source": [
    "Q3=df.quantile(0.75)\n",
    "Q3"
   ]
  },
  {
   "cell_type": "code",
   "execution_count": 48,
   "metadata": {
    "execution": {
     "iopub.execute_input": "2020-12-21T13:08:19.200144Z",
     "iopub.status.busy": "2020-12-21T13:08:19.199316Z",
     "iopub.status.idle": "2020-12-21T13:08:19.547626Z",
     "shell.execute_reply": "2020-12-21T13:08:19.546986Z"
    },
    "papermill": {
     "duration": 0.476253,
     "end_time": "2020-12-21T13:08:19.547750",
     "exception": false,
     "start_time": "2020-12-21T13:08:19.071497",
     "status": "completed"
    },
    "tags": []
   },
   "outputs": [
    {
     "name": "stdout",
     "output_type": "stream",
     "text": [
      "Q1= 4.1\n",
      "Q2= 4.3\n",
      "Q3= 4.5\n"
     ]
    },
    {
     "data": {
      "image/png": "[encoded data removed]",
      "text/plain": [
       "<Figure size 1800x720 with 1 Axes>"
      ]
     },
     "metadata": {
      "needs_background": "light"
     },
     "output_type": "display_data"
    }
   ],
   "source": [
    "# import the library matplotlib.pyplot \n",
    "import matplotlib.pyplot as plt\n",
    "\n",
    "# using the below code line, matplotlib graphs are included in the python notebook\n",
    "%matplotlib inline\n",
    "\n",
    "# set the plot size\n",
    "plt.rcParams[\"figure.figsize\"] = [25,10]\n",
    "\n",
    "# compute the quartiles\n",
    "q1 = df.Rating.quantile(q=0.25)   # compute the first quartile\n",
    "q2 = df.Rating.quantile(q=0.50)   # compute the second quartile\n",
    "q3 = df.Rating.quantile(q=0.75)   # compute the third quartile\n",
    "print('Q1=',q1)\n",
    "print('Q2=',q2)\n",
    "print('Q3=',q3)\n",
    "# plot the density plot the density plot\n",
    "df.Rating.plot(kind='density') \n",
    "\n",
    "# to plot the quartile lines\n",
    "# plt.axvline(): plots a line perpendicular to the X-axis at specified location on X-axis\n",
    "# x: location on X-axis at which the line is to be plotted\n",
    "# ymax: specify the height of the line\n",
    "# color: color of the line\n",
    "# linestyle: specify the style of the line \n",
    "# label: the name of the line. This name is displayed in the legend\n",
    "plt.axvline(x = q1, color='red', linestyle='--', label =\"First Quartile\")     # plot the first quartile\n",
    "plt.axvline(x = q2, color='blue', linestyle='--', label =\"Second Quartile\")   # plot the second quartile\n",
    "plt.axvline(x = q3, color='green', linestyle='--', label =\"Third Quartile\")   # plot the third quartile\n",
    "# loc: specify the location of the legend\n",
    "# fontsize: set the font size of the legends\n",
    "plt.legend(loc=\"best\", fontsize= 15)\n",
    "\n",
    "# to display the plot title using plt.title()\n",
    "# fontsize: set the font size of the title\n",
    "plt.title(\"Ratings\", fontsize = 20)\n",
    "\n",
    "# to label the X-axis using plt.xlabel()\n",
    "# fontsize: set the font size of the label\n",
    "plt.xlabel(\"Rating\", fontsize = 15)\n",
    "\n",
    "# to label the Y-axis\n",
    "# fontsize: set the font size of the label\n",
    "plt.ylabel(\"Frequency\", fontsize = 15)\n",
    "\n",
    "\n",
    "# label the X-axis at the points where we draw the perpendicular lines using plt.xticks()\n",
    "# locs: specify the location on X-axis\n",
    "# labels: specify the labels on X-axis\n",
    "# fontsize: set the font size of the ticks\n",
    "locs,labels = [q1,q2,q3],[\"Q1\",\"Q2\",\"Q3\"]           # get locations and labels\n",
    "plt.xticks(locs, labels, fontsize = 15 )            # set locations and labels\n",
    "\n",
    "# to display the figure\n",
    "plt.show()"
   ]
  },
  {
   "cell_type": "code",
   "execution_count": 49,
   "metadata": {
    "execution": {
     "iopub.execute_input": "2020-12-21T13:08:19.819273Z",
     "iopub.status.busy": "2020-12-21T13:08:19.818025Z",
     "iopub.status.idle": "2020-12-21T13:08:20.007144Z",
     "shell.execute_reply": "2020-12-21T13:08:20.006430Z"
    },
    "papermill": {
     "duration": 0.333914,
     "end_time": "2020-12-21T13:08:20.007273",
     "exception": false,
     "start_time": "2020-12-21T13:08:19.673359",
     "status": "completed"
    },
    "tags": []
   },
   "outputs": [
    {
     "data": {
      "text/plain": [
       "<matplotlib.axes._subplots.AxesSubplot at 0x7fd1998b8490>"
      ]
     },
     "execution_count": 49,
     "metadata": {},
     "output_type": "execute_result"
    },
    {
     "data": {
      "image/png": "[encoded data removed]",
      "text/plain": [
       "<Figure size 1800x720 with 1 Axes>"
      ]
     },
     "metadata": {
      "needs_background": "light"
     },
     "output_type": "display_data"
    }
   ],
   "source": [
    "sns.boxplot(df.Rating)"
   ]
  },
  {
   "cell_type": "code",
   "execution_count": 50,
   "metadata": {
    "execution": {
     "iopub.execute_input": "2020-12-21T13:08:20.279432Z",
     "iopub.status.busy": "2020-12-21T13:08:20.274065Z",
     "iopub.status.idle": "2020-12-21T13:08:20.612129Z",
     "shell.execute_reply": "2020-12-21T13:08:20.612622Z"
    },
    "papermill": {
     "duration": 0.474877,
     "end_time": "2020-12-21T13:08:20.612776",
     "exception": false,
     "start_time": "2020-12-21T13:08:20.137899",
     "status": "completed"
    },
    "tags": []
   },
   "outputs": [
    {
     "name": "stdout",
     "output_type": "stream",
     "text": [
      "Q1= 1440.75\n",
      "Q2= 15180.0\n",
      "Q3= 122570.75\n"
     ]
    },
    {
     "data": {
      "image/png": "[encoded data removed]",
      "text/plain": [
       "<Figure size 1800x720 with 1 Axes>"
      ]
     },
     "metadata": {
      "needs_background": "light"
     },
     "output_type": "display_data"
    }
   ],
   "source": [
    "# import the library matplotlib.pyplot \n",
    "import matplotlib.pyplot as plt\n",
    "\n",
    "# using the below code line, matplotlib graphs are included in the python notebook\n",
    "%matplotlib inline\n",
    "\n",
    "# set the plot size\n",
    "plt.rcParams[\"figure.figsize\"] = [25,10]\n",
    "\n",
    "# compute the quartiles\n",
    "q11 = df.Reviews.quantile(q=0.25)   # compute the first quartile\n",
    "q21 = df.Reviews.quantile(q=0.50)   # compute the second quartile\n",
    "q31 = df.Reviews.quantile(q=0.75)   # compute the third quartile\n",
    "print('Q1=',q11)\n",
    "print('Q2=',q21)\n",
    "print('Q3=',q31)\n",
    "# plot the density plot the density plot\n",
    "df.Rating.plot(kind='density') \n",
    "\n",
    "# to plot the quartile lines\n",
    "# plt.axvline(): plots a line perpendicular to the X-axis at specified location on X-axis\n",
    "# x: location on X-axis at which the line is to be plotted\n",
    "# ymax: specify the height of the line\n",
    "# color: color of the line\n",
    "# linestyle: specify the style of the line \n",
    "# label: the name of the line. This name is displayed in the legend\n",
    "plt.axvline(x = q11, color='red', linestyle='--', label =\"First Quartile\")     # plot the first quartile\n",
    "plt.axvline(x = q21, color='blue', linestyle='--', label =\"Second Quartile\")   # plot the second quartile\n",
    "plt.axvline(x = q31, color='green', linestyle='--', label =\"Third Quartile\")   # plot the third quartile\n",
    "# loc: specify the location of the legend\n",
    "# fontsize: set the font size of the legends\n",
    "plt.legend(loc=\"best\", fontsize= 15)\n",
    "\n",
    "# to display the plot title using plt.title()\n",
    "# fontsize: set the font size of the title\n",
    "plt.title(\"Reviews\", fontsize = 20)\n",
    "\n",
    "# to label the X-axis using plt.xlabel()\n",
    "# fontsize: set the font size of the label\n",
    "plt.xlabel(\"Reviews\", fontsize = 15)\n",
    "\n",
    "# to label the Y-axis\n",
    "# fontsize: set the font size of the label\n",
    "plt.ylabel(\"Reviews\", fontsize = 15)\n",
    "\n",
    "\n",
    "# label the X-axis at the points where we draw the perpendicular lines using plt.xticks()\n",
    "# locs: specify the location on X-axis\n",
    "# labels: specify the labels on X-axis\n",
    "# fontsize: set the font size of the ticks\n",
    "locs,labels = [q11,q21,q31],[\"Q1\",\"Q2\",\"Q3\"]           # get locations and labels\n",
    "plt.xticks(locs, labels, fontsize = 15 )            # set locations and labels\n",
    "\n",
    "# to display the figure\n",
    "plt.show()"
   ]
  },
  {
   "cell_type": "code",
   "execution_count": 51,
   "metadata": {
    "execution": {
     "iopub.execute_input": "2020-12-21T13:08:20.882805Z",
     "iopub.status.busy": "2020-12-21T13:08:20.876989Z",
     "iopub.status.idle": "2020-12-21T13:08:21.151907Z",
     "shell.execute_reply": "2020-12-21T13:08:21.151353Z"
    },
    "papermill": {
     "duration": 0.40971,
     "end_time": "2020-12-21T13:08:21.152035",
     "exception": false,
     "start_time": "2020-12-21T13:08:20.742325",
     "status": "completed"
    },
    "tags": []
   },
   "outputs": [
    {
     "data": {
      "text/plain": [
       "<matplotlib.axes._subplots.AxesSubplot at 0x7fd1992a1910>"
      ]
     },
     "execution_count": 51,
     "metadata": {},
     "output_type": "execute_result"
    },
    {
     "data": {
      "image/png": "[encoded data removed]",
      "text/plain": [
       "<Figure size 1800x720 with 1 Axes>"
      ]
     },
     "metadata": {
      "needs_background": "light"
     },
     "output_type": "display_data"
    }
   ],
   "source": [
    "sns.boxplot(df.Reviews)"
   ]
  },
  {
   "cell_type": "markdown",
   "metadata": {
    "papermill": {
     "duration": 0.131542,
     "end_time": "2020-12-21T13:08:21.414210",
     "exception": false,
     "start_time": "2020-12-21T13:08:21.282668",
     "status": "completed"
    },
    "tags": []
   },
   "source": [
    "# Range"
   ]
  },
  {
   "cell_type": "code",
   "execution_count": 52,
   "metadata": {
    "execution": {
     "iopub.execute_input": "2020-12-21T13:08:21.682582Z",
     "iopub.status.busy": "2020-12-21T13:08:21.681613Z",
     "iopub.status.idle": "2020-12-21T13:08:21.687105Z",
     "shell.execute_reply": "2020-12-21T13:08:21.686409Z"
    },
    "papermill": {
     "duration": 0.142671,
     "end_time": "2020-12-21T13:08:21.687218",
     "exception": false,
     "start_time": "2020-12-21T13:08:21.544547",
     "status": "completed"
    },
    "tags": []
   },
   "outputs": [
    {
     "data": {
      "text/plain": [
       "Rating            4.0\n",
       "Reviews    44893888.0\n",
       "dtype: float64"
      ]
     },
     "execution_count": 52,
     "metadata": {},
     "output_type": "execute_result"
    }
   ],
   "source": [
    "r=df_num.max()-df_num.min()\n",
    "r"
   ]
  },
  {
   "cell_type": "markdown",
   "metadata": {
    "papermill": {
     "duration": 0.129396,
     "end_time": "2020-12-21T13:08:21.948220",
     "exception": false,
     "start_time": "2020-12-21T13:08:21.818824",
     "status": "completed"
    },
    "tags": []
   },
   "source": [
    "## Range for Reviews,Size and Installs is more so we can say that it is affected by outliers"
   ]
  },
  {
   "cell_type": "markdown",
   "metadata": {
    "papermill": {
     "duration": 0.129885,
     "end_time": "2020-12-21T13:08:22.208054",
     "exception": false,
     "start_time": "2020-12-21T13:08:22.078169",
     "status": "completed"
    },
    "tags": []
   },
   "source": [
    "# IQR"
   ]
  },
  {
   "cell_type": "code",
   "execution_count": 53,
   "metadata": {
    "execution": {
     "iopub.execute_input": "2020-12-21T13:08:22.483772Z",
     "iopub.status.busy": "2020-12-21T13:08:22.482597Z",
     "iopub.status.idle": "2020-12-21T13:08:22.492594Z",
     "shell.execute_reply": "2020-12-21T13:08:22.491860Z"
    },
    "papermill": {
     "duration": 0.154033,
     "end_time": "2020-12-21T13:08:22.492713",
     "exception": false,
     "start_time": "2020-12-21T13:08:22.338680",
     "status": "completed"
    },
    "tags": []
   },
   "outputs": [
    {
     "data": {
      "text/plain": [
       "Rating          0.4\n",
       "Reviews    121130.0\n",
       "dtype: float64"
      ]
     },
     "execution_count": 53,
     "metadata": {},
     "output_type": "execute_result"
    }
   ],
   "source": [
    "iqr=df.quantile(0.75)-df.quantile(0.25)\n",
    "iqr"
   ]
  },
  {
   "cell_type": "markdown",
   "metadata": {
    "papermill": {
     "duration": 0.131706,
     "end_time": "2020-12-21T13:08:22.769045",
     "exception": false,
     "start_time": "2020-12-21T13:08:22.637339",
     "status": "completed"
    },
    "tags": []
   },
   "source": [
    "## Range for Reviews,Size and Installs is more in the middle half of the dataset"
   ]
  },
  {
   "cell_type": "markdown",
   "metadata": {
    "papermill": {
     "duration": 0.17266,
     "end_time": "2020-12-21T13:08:23.076870",
     "exception": false,
     "start_time": "2020-12-21T13:08:22.904210",
     "status": "completed"
    },
    "tags": []
   },
   "source": [
    "# Coefficient of Variation"
   ]
  },
  {
   "cell_type": "code",
   "execution_count": 54,
   "metadata": {
    "execution": {
     "iopub.execute_input": "2020-12-21T13:08:23.343036Z",
     "iopub.status.busy": "2020-12-21T13:08:23.342023Z",
     "iopub.status.idle": "2020-12-21T13:08:23.346943Z",
     "shell.execute_reply": "2020-12-21T13:08:23.346348Z"
    },
    "papermill": {
     "duration": 0.140021,
     "end_time": "2020-12-21T13:08:23.347056",
     "exception": false,
     "start_time": "2020-12-21T13:08:23.207035",
     "status": "completed"
    },
    "tags": []
   },
   "outputs": [
    {
     "data": {
      "text/plain": [
       "array([0.0893, 4.4133])"
      ]
     },
     "execution_count": 54,
     "metadata": {},
     "output_type": "execute_result"
    }
   ],
   "source": [
    "from scipy.stats import variation\n",
    "scipy.stats.variation(df_num)"
   ]
  },
  {
   "cell_type": "markdown",
   "metadata": {
    "papermill": {
     "duration": 0.135542,
     "end_time": "2020-12-21T13:08:23.639851",
     "exception": false,
     "start_time": "2020-12-21T13:08:23.504309",
     "status": "completed"
    },
    "tags": []
   },
   "source": [
    "## We can say that coefficent of variation for Reviews and Rating is more"
   ]
  },
  {
   "cell_type": "markdown",
   "metadata": {
    "papermill": {
     "duration": 0.134098,
     "end_time": "2020-12-21T13:08:23.905926",
     "exception": false,
     "start_time": "2020-12-21T13:08:23.771828",
     "status": "completed"
    },
    "tags": []
   },
   "source": [
    "# Standard Deviation"
   ]
  },
  {
   "cell_type": "code",
   "execution_count": 55,
   "metadata": {
    "execution": {
     "iopub.execute_input": "2020-12-21T13:08:24.176099Z",
     "iopub.status.busy": "2020-12-21T13:08:24.175051Z",
     "iopub.status.idle": "2020-12-21T13:08:24.184059Z",
     "shell.execute_reply": "2020-12-21T13:08:24.184582Z"
    },
    "papermill": {
     "duration": 0.144135,
     "end_time": "2020-12-21T13:08:24.184723",
     "exception": false,
     "start_time": "2020-12-21T13:08:24.040588",
     "status": "completed"
    },
    "tags": []
   },
   "outputs": [
    {
     "data": {
      "text/plain": [
       "Rating     3.828439e-01\n",
       "Reviews    3.516532e+06\n",
       "dtype: float64"
      ]
     },
     "execution_count": 55,
     "metadata": {},
     "output_type": "execute_result"
    }
   ],
   "source": [
    "df.std()"
   ]
  },
  {
   "cell_type": "markdown",
   "metadata": {
    "papermill": {
     "duration": 0.132989,
     "end_time": "2020-12-21T13:08:24.448043",
     "exception": false,
     "start_time": "2020-12-21T13:08:24.315054",
     "status": "completed"
    },
    "tags": []
   },
   "source": [
    "# Reviews is having a significant higher standard deviation"
   ]
  },
  {
   "cell_type": "markdown",
   "metadata": {
    "papermill": {
     "duration": 0.135434,
     "end_time": "2020-12-21T13:08:24.715283",
     "exception": false,
     "start_time": "2020-12-21T13:08:24.579849",
     "status": "completed"
    },
    "tags": []
   },
   "source": [
    "# Understanding the Distrubution of the data"
   ]
  },
  {
   "cell_type": "code",
   "execution_count": 56,
   "metadata": {
    "execution": {
     "iopub.execute_input": "2020-12-21T13:08:24.984296Z",
     "iopub.status.busy": "2020-12-21T13:08:24.983175Z",
     "iopub.status.idle": "2020-12-21T13:08:25.596394Z",
     "shell.execute_reply": "2020-12-21T13:08:25.596893Z"
    },
    "papermill": {
     "duration": 0.74923,
     "end_time": "2020-12-21T13:08:25.597060",
     "exception": false,
     "start_time": "2020-12-21T13:08:24.847830",
     "status": "completed"
    },
    "tags": []
   },
   "outputs": [
    {
     "data": {
      "image/png": "[encoded data removed]",
      "text/plain": [
       "<Figure size 1080x720 with 9 Axes>"
      ]
     },
     "metadata": {
      "needs_background": "light"
     },
     "output_type": "display_data"
    }
   ],
   "source": [
    "# set plot size\n",
    "plt.rcParams[\"figure.figsize\"] = [15,10]\n",
    "\n",
    "# plot density plot using plot()\n",
    "# kind: set the type of plot\n",
    "# subplots: indicates whether to plot subplot for each variable or a single line plot\n",
    "# layout: specify the arrangement of the subplots\n",
    "# sharex: indicates whether to have the same scale on x-axis of all subplots\n",
    "df.plot(kind = 'density', subplots = True, layout = (3,3), sharex = False)\n",
    "\n",
    "# show plot\n",
    "plt.show()"
   ]
  },
  {
   "cell_type": "markdown",
   "metadata": {
    "papermill": {
     "duration": 0.134984,
     "end_time": "2020-12-21T13:08:25.872644",
     "exception": false,
     "start_time": "2020-12-21T13:08:25.737660",
     "status": "completed"
    },
    "tags": []
   },
   "source": [
    "# Skewness and Kurtosis"
   ]
  },
  {
   "cell_type": "code",
   "execution_count": 57,
   "metadata": {
    "execution": {
     "iopub.execute_input": "2020-12-21T13:08:26.144733Z",
     "iopub.status.busy": "2020-12-21T13:08:26.143967Z",
     "iopub.status.idle": "2020-12-21T13:08:26.152903Z",
     "shell.execute_reply": "2020-12-21T13:08:26.153412Z"
    },
    "papermill": {
     "duration": 0.148767,
     "end_time": "2020-12-21T13:08:26.153583",
     "exception": false,
     "start_time": "2020-12-21T13:08:26.004816",
     "status": "completed"
    },
    "tags": []
   },
   "outputs": [
    {
     "data": {
      "text/plain": [
       "Rating     -1.993549\n",
       "Reviews     7.529682\n",
       "Installs    8.133277\n",
       "dtype: float64"
      ]
     },
     "execution_count": 57,
     "metadata": {},
     "output_type": "execute_result"
    }
   ],
   "source": [
    "df.skew()"
   ]
  },
  {
   "cell_type": "markdown",
   "metadata": {
    "papermill": {
     "duration": 0.133552,
     "end_time": "2020-12-21T13:08:26.419212",
     "exception": false,
     "start_time": "2020-12-21T13:08:26.285660",
     "status": "completed"
    },
    "tags": []
   },
   "source": [
    "# Rating is seem to be Rating is negatively skewed and reviews is right skewed"
   ]
  },
  {
   "cell_type": "code",
   "execution_count": 58,
   "metadata": {
    "execution": {
     "iopub.execute_input": "2020-12-21T13:08:26.692776Z",
     "iopub.status.busy": "2020-12-21T13:08:26.691711Z",
     "iopub.status.idle": "2020-12-21T13:08:26.882341Z",
     "shell.execute_reply": "2020-12-21T13:08:26.881799Z"
    },
    "papermill": {
     "duration": 0.327279,
     "end_time": "2020-12-21T13:08:26.882477",
     "exception": false,
     "start_time": "2020-12-21T13:08:26.555198",
     "status": "completed"
    },
    "tags": []
   },
   "outputs": [
    {
     "data": {
      "image/png": "[encoded data removed]",
      "text/plain": [
       "<Figure size 1080x576 with 1 Axes>"
      ]
     },
     "metadata": {
      "needs_background": "light"
     },
     "output_type": "display_data"
    }
   ],
   "source": [
    "plt.figure(figsize=(15,8))\n",
    "sns.distplot(a = df['Rating'], hist = False)\n",
    "\n",
    "# plot and axes labels\n",
    "# set text size using 'fontsize'\n",
    "plt.xlabel('Rating', fontsize = 15)\n",
    "plt.ylabel('Density', fontsize = 15)\n",
    "plt.title('Distribution of Rating', fontsize = 15)\n",
    "\n",
    "# display the plot\n",
    "plt.show()"
   ]
  },
  {
   "cell_type": "code",
   "execution_count": 59,
   "metadata": {
    "execution": {
     "iopub.execute_input": "2020-12-21T13:08:27.166692Z",
     "iopub.status.busy": "2020-12-21T13:08:27.165594Z",
     "iopub.status.idle": "2020-12-21T13:08:27.314399Z",
     "shell.execute_reply": "2020-12-21T13:08:27.313739Z"
    },
    "papermill": {
     "duration": 0.299456,
     "end_time": "2020-12-21T13:08:27.314531",
     "exception": false,
     "start_time": "2020-12-21T13:08:27.015075",
     "status": "completed"
    },
    "tags": []
   },
   "outputs": [
    {
     "data": {
      "text/plain": [
       "<matplotlib.axes._subplots.AxesSubplot at 0x7fd1992655d0>"
      ]
     },
     "execution_count": 59,
     "metadata": {},
     "output_type": "execute_result"
    },
    {
     "data": {
      "image/png": "[encoded data removed]",
      "text/plain": [
       "<Figure size 1080x720 with 1 Axes>"
      ]
     },
     "metadata": {
      "needs_background": "light"
     },
     "output_type": "display_data"
    }
   ],
   "source": [
    "sns.boxplot(df.Rating)"
   ]
  },
  {
   "cell_type": "code",
   "execution_count": 60,
   "metadata": {
    "execution": {
     "iopub.execute_input": "2020-12-21T13:08:27.605286Z",
     "iopub.status.busy": "2020-12-21T13:08:27.602833Z",
     "iopub.status.idle": "2020-12-21T13:08:27.770484Z",
     "shell.execute_reply": "2020-12-21T13:08:27.769875Z"
    },
    "papermill": {
     "duration": 0.321559,
     "end_time": "2020-12-21T13:08:27.770601",
     "exception": false,
     "start_time": "2020-12-21T13:08:27.449042",
     "status": "completed"
    },
    "tags": []
   },
   "outputs": [
    {
     "data": {
      "image/png": "[encoded data removed]",
      "text/plain": [
       "<Figure size 1080x576 with 1 Axes>"
      ]
     },
     "metadata": {
      "needs_background": "light"
     },
     "output_type": "display_data"
    }
   ],
   "source": [
    "plt.figure(figsize=(15,8))\n",
    "sns.distplot(a = df['Reviews'], hist = False)\n",
    "\n",
    "# plot and axes labels\n",
    "# set text size using 'fontsize'\n",
    "plt.xlabel('Reviews', fontsize = 15)\n",
    "plt.ylabel('Density', fontsize = 15)\n",
    "plt.title('Distribution of Reviews', fontsize = 15)\n",
    "\n",
    "# display the plot\n",
    "plt.show()"
   ]
  },
  {
   "cell_type": "code",
   "execution_count": 61,
   "metadata": {
    "execution": {
     "iopub.execute_input": "2020-12-21T13:08:28.064917Z",
     "iopub.status.busy": "2020-12-21T13:08:28.058806Z",
     "iopub.status.idle": "2020-12-21T13:08:28.214691Z",
     "shell.execute_reply": "2020-12-21T13:08:28.213860Z"
    },
    "papermill": {
     "duration": 0.306184,
     "end_time": "2020-12-21T13:08:28.214857",
     "exception": false,
     "start_time": "2020-12-21T13:08:27.908673",
     "status": "completed"
    },
    "tags": []
   },
   "outputs": [
    {
     "data": {
      "text/plain": [
       "<matplotlib.axes._subplots.AxesSubplot at 0x7fd1995191d0>"
      ]
     },
     "execution_count": 61,
     "metadata": {},
     "output_type": "execute_result"
    },
    {
     "data": {
      "image/png": "[encoded data removed]",
      "text/plain": [
       "<Figure size 1080x720 with 1 Axes>"
      ]
     },
     "metadata": {
      "needs_background": "light"
     },
     "output_type": "display_data"
    }
   ],
   "source": [
    "sns.boxplot(df.Reviews)"
   ]
  },
  {
   "cell_type": "code",
   "execution_count": 62,
   "metadata": {
    "execution": {
     "iopub.execute_input": "2020-12-21T13:08:28.535506Z",
     "iopub.status.busy": "2020-12-21T13:08:28.534418Z",
     "iopub.status.idle": "2020-12-21T13:08:28.717286Z",
     "shell.execute_reply": "2020-12-21T13:08:28.716551Z"
    },
    "papermill": {
     "duration": 0.355871,
     "end_time": "2020-12-21T13:08:28.717410",
     "exception": false,
     "start_time": "2020-12-21T13:08:28.361539",
     "status": "completed"
    },
    "tags": []
   },
   "outputs": [
    {
     "data": {
      "image/png": "[encoded data removed]",
      "text/plain": [
       "<Figure size 1080x576 with 1 Axes>"
      ]
     },
     "metadata": {
      "needs_background": "light"
     },
     "output_type": "display_data"
    }
   ],
   "source": [
    "plt.figure(figsize=(15,8))\n",
    "sns.distplot(a = df['Installs'], hist = False)\n",
    "\n",
    "# plot and axes labels\n",
    "# set text size using 'fontsize'\n",
    "plt.xlabel('Installs', fontsize = 15)\n",
    "plt.ylabel('Density', fontsize = 15)\n",
    "plt.title('Distribution of Install', fontsize = 15)\n",
    "\n",
    "# display the plot\n",
    "plt.show()"
   ]
  },
  {
   "cell_type": "markdown",
   "metadata": {
    "papermill": {
     "duration": 0.149025,
     "end_time": "2020-12-21T13:08:29.011022",
     "exception": false,
     "start_time": "2020-12-21T13:08:28.861997",
     "status": "completed"
    },
    "tags": []
   },
   "source": [
    "# Variance"
   ]
  },
  {
   "cell_type": "code",
   "execution_count": 63,
   "metadata": {
    "execution": {
     "iopub.execute_input": "2020-12-21T13:08:29.308885Z",
     "iopub.status.busy": "2020-12-21T13:08:29.307862Z",
     "iopub.status.idle": "2020-12-21T13:08:29.316478Z",
     "shell.execute_reply": "2020-12-21T13:08:29.315847Z"
    },
    "papermill": {
     "duration": 0.159921,
     "end_time": "2020-12-21T13:08:29.316605",
     "exception": false,
     "start_time": "2020-12-21T13:08:29.156684",
     "status": "completed"
    },
    "tags": []
   },
   "outputs": [
    {
     "data": {
      "text/plain": [
       "Rating     1.465694e-01\n",
       "Reviews    1.236600e+13\n",
       "dtype: float64"
      ]
     },
     "execution_count": 63,
     "metadata": {},
     "output_type": "execute_result"
    }
   ],
   "source": [
    "var=df.var()\n",
    "var"
   ]
  },
  {
   "cell_type": "code",
   "execution_count": 64,
   "metadata": {
    "execution": {
     "iopub.execute_input": "2020-12-21T13:08:29.614478Z",
     "iopub.status.busy": "2020-12-21T13:08:29.613669Z",
     "iopub.status.idle": "2020-12-21T13:08:29.832283Z",
     "shell.execute_reply": "2020-12-21T13:08:29.831457Z"
    },
    "papermill": {
     "duration": 0.368841,
     "end_time": "2020-12-21T13:08:29.832431",
     "exception": false,
     "start_time": "2020-12-21T13:08:29.463590",
     "status": "completed"
    },
    "tags": []
   },
   "outputs": [
    {
     "data": {
      "text/plain": [
       "<matplotlib.axes._subplots.AxesSubplot at 0x7fd199649a90>"
      ]
     },
     "execution_count": 64,
     "metadata": {},
     "output_type": "execute_result"
    },
    {
     "data": {
      "image/png": "[encoded data removed]",
      "text/plain": [
       "<Figure size 1080x720 with 2 Axes>"
      ]
     },
     "metadata": {
      "needs_background": "light"
     },
     "output_type": "display_data"
    }
   ],
   "source": [
    "sns.heatmap(df.cov(),annot=True)"
   ]
  },
  {
   "cell_type": "markdown",
   "metadata": {
    "papermill": {
     "duration": 0.143501,
     "end_time": "2020-12-21T13:08:30.122635",
     "exception": false,
     "start_time": "2020-12-21T13:08:29.979134",
     "status": "completed"
    },
    "tags": []
   },
   "source": [
    "# Coorelation"
   ]
  },
  {
   "cell_type": "code",
   "execution_count": 65,
   "metadata": {
    "execution": {
     "iopub.execute_input": "2020-12-21T13:08:30.416316Z",
     "iopub.status.busy": "2020-12-21T13:08:30.415529Z",
     "iopub.status.idle": "2020-12-21T13:08:30.427612Z",
     "shell.execute_reply": "2020-12-21T13:08:30.428109Z"
    },
    "papermill": {
     "duration": 0.163414,
     "end_time": "2020-12-21T13:08:30.428282",
     "exception": false,
     "start_time": "2020-12-21T13:08:30.264868",
     "status": "completed"
    },
    "tags": []
   },
   "outputs": [
    {
     "data": {
      "text/html": [
       "<div>\n",
       "<style scoped>\n",
       "    .dataframe tbody tr th:only-of-type {\n",
       "        vertical-align: middle;\n",
       "    }\n",
       "\n",
       "    .dataframe tbody tr th {\n",
       "        vertical-align: top;\n",
       "    }\n",
       "\n",
       "    .dataframe thead th {\n",
       "        text-align: right;\n",
       "    }\n",
       "</style>\n",
       "<table border=\"1\" class=\"dataframe\">\n",
       "  <thead>\n",
       "    <tr style=\"text-align: right;\">\n",
       "      <th></th>\n",
       "      <th>Rating</th>\n",
       "      <th>Reviews</th>\n",
       "    </tr>\n",
       "  </thead>\n",
       "  <tbody>\n",
       "    <tr>\n",
       "      <th>Rating</th>\n",
       "      <td>1.000000</td>\n",
       "      <td>0.107024</td>\n",
       "    </tr>\n",
       "    <tr>\n",
       "      <th>Reviews</th>\n",
       "      <td>0.107024</td>\n",
       "      <td>1.000000</td>\n",
       "    </tr>\n",
       "  </tbody>\n",
       "</table>\n",
       "</div>"
      ],
      "text/plain": [
       "           Rating   Reviews\n",
       "Rating   1.000000  0.107024\n",
       "Reviews  0.107024  1.000000"
      ]
     },
     "execution_count": 65,
     "metadata": {},
     "output_type": "execute_result"
    }
   ],
   "source": [
    "corr=df.corr()\n",
    "corr"
   ]
  },
  {
   "cell_type": "code",
   "execution_count": 66,
   "metadata": {
    "execution": {
     "iopub.execute_input": "2020-12-21T13:08:30.731100Z",
     "iopub.status.busy": "2020-12-21T13:08:30.729529Z",
     "iopub.status.idle": "2020-12-21T13:08:30.939170Z",
     "shell.execute_reply": "2020-12-21T13:08:30.938380Z"
    },
    "papermill": {
     "duration": 0.359634,
     "end_time": "2020-12-21T13:08:30.939291",
     "exception": false,
     "start_time": "2020-12-21T13:08:30.579657",
     "status": "completed"
    },
    "tags": []
   },
   "outputs": [
    {
     "data": {
      "text/plain": [
       "<matplotlib.axes._subplots.AxesSubplot at 0x7fd19bf660d0>"
      ]
     },
     "execution_count": 66,
     "metadata": {},
     "output_type": "execute_result"
    },
    {
     "data": {
      "image/png": "[encoded data removed]",
      "text/plain": [
       "<Figure size 1080x720 with 2 Axes>"
      ]
     },
     "metadata": {
      "needs_background": "light"
     },
     "output_type": "display_data"
    }
   ],
   "source": [
    "sns.heatmap(df.corr(),annot=True)"
   ]
  },
  {
   "cell_type": "markdown",
   "metadata": {
    "papermill": {
     "duration": 0.147672,
     "end_time": "2020-12-21T13:08:31.233525",
     "exception": false,
     "start_time": "2020-12-21T13:08:31.085853",
     "status": "completed"
    },
    "tags": []
   },
   "source": [
    "\n",
    "Lets formulate our hypothesis to answer this question.\n",
    "\n",
    "##### Null Hypothesis ($H_0$)\n",
    "    The type of app has no significant impact on the average ratings.\n",
    "\n",
    "##### Alternative Hypothesis ($H_A$)\n",
    "    The type of app has significant impact on the average ratings.\n",
    "    \n"
   ]
  },
  {
   "cell_type": "code",
   "execution_count": 67,
   "metadata": {
    "execution": {
     "iopub.execute_input": "2020-12-21T13:08:31.532231Z",
     "iopub.status.busy": "2020-12-21T13:08:31.531401Z",
     "iopub.status.idle": "2020-12-21T13:08:31.535284Z",
     "shell.execute_reply": "2020-12-21T13:08:31.534713Z"
    },
    "papermill": {
     "duration": 0.158479,
     "end_time": "2020-12-21T13:08:31.535396",
     "exception": false,
     "start_time": "2020-12-21T13:08:31.376917",
     "status": "completed"
    },
    "tags": []
   },
   "outputs": [
    {
     "data": {
      "text/plain": [
       "Free    1473\n",
       "Paid      25\n",
       "Name: Type, dtype: int64"
      ]
     },
     "execution_count": 67,
     "metadata": {},
     "output_type": "execute_result"
    }
   ],
   "source": [
    "df[\"Type\"].value_counts()"
   ]
  },
  {
   "cell_type": "code",
   "execution_count": 68,
   "metadata": {
    "execution": {
     "iopub.execute_input": "2020-12-21T13:08:31.836809Z",
     "iopub.status.busy": "2020-12-21T13:08:31.834839Z",
     "iopub.status.idle": "2020-12-21T13:08:31.996975Z",
     "shell.execute_reply": "2020-12-21T13:08:31.996085Z"
    },
    "papermill": {
     "duration": 0.31845,
     "end_time": "2020-12-21T13:08:31.997108",
     "exception": false,
     "start_time": "2020-12-21T13:08:31.678658",
     "status": "completed"
    },
    "tags": []
   },
   "outputs": [
    {
     "data": {
      "text/plain": [
       "Text(0.5, 1.0, 'Number of Free Apps vs Paid Apps')"
      ]
     },
     "execution_count": 68,
     "metadata": {},
     "output_type": "execute_result"
    },
    {
     "data": {
      "image/png": "[encoded data removed]",
      "text/plain": [
       "<Figure size 1080x720 with 1 Axes>"
      ]
     },
     "metadata": {
      "needs_background": "light"
     },
     "output_type": "display_data"
    }
   ],
   "source": [
    "type_plot = sns.countplot(x=\"Type\", data=df, palette = \"winter\")\n",
    "type_plot.set_xticklabels(type_plot.get_xticklabels(), rotation=90, ha=\"right\")\n",
    "type_plot \n",
    "plt.title('Number of Free Apps vs Paid Apps',size = 10)"
   ]
  },
  {
   "cell_type": "code",
   "execution_count": 69,
   "metadata": {
    "execution": {
     "iopub.execute_input": "2020-12-21T13:08:32.306767Z",
     "iopub.status.busy": "2020-12-21T13:08:32.298112Z",
     "iopub.status.idle": "2020-12-21T13:08:32.311572Z",
     "shell.execute_reply": "2020-12-21T13:08:32.310870Z"
    },
    "papermill": {
     "duration": 0.167815,
     "end_time": "2020-12-21T13:08:32.311686",
     "exception": false,
     "start_time": "2020-12-21T13:08:32.143871",
     "status": "completed"
    },
    "tags": []
   },
   "outputs": [
    {
     "data": {
      "text/plain": [
       "16"
      ]
     },
     "execution_count": 69,
     "metadata": {},
     "output_type": "execute_result"
    }
   ],
   "source": [
    "sample=df.groupby('Type').apply(lambda x:x.sample(8,random_state=4))\n",
    "len(sample)"
   ]
  },
  {
   "cell_type": "markdown",
   "metadata": {
    "papermill": {
     "duration": 0.155482,
     "end_time": "2020-12-21T13:08:32.619078",
     "exception": false,
     "start_time": "2020-12-21T13:08:32.463596",
     "status": "completed"
    },
    "tags": []
   },
   "source": [
    "CHECKING TO PERFORM TWO-SAMPLE T-TEST (INDEPENDENT)"
   ]
  },
  {
   "cell_type": "markdown",
   "metadata": {
    "papermill": {
     "duration": 0.152702,
     "end_time": "2020-12-21T13:08:32.925047",
     "exception": false,
     "start_time": "2020-12-21T13:08:32.772345",
     "status": "completed"
    },
    "tags": []
   },
   "source": [
    "#### SHAPIRO TEST TO CHECK FOR NORMALITY"
   ]
  },
  {
   "cell_type": "code",
   "execution_count": 70,
   "metadata": {
    "execution": {
     "iopub.execute_input": "2020-12-21T13:08:33.231088Z",
     "iopub.status.busy": "2020-12-21T13:08:33.230361Z",
     "iopub.status.idle": "2020-12-21T13:08:33.235068Z",
     "shell.execute_reply": "2020-12-21T13:08:33.234384Z"
    },
    "papermill": {
     "duration": 0.15943,
     "end_time": "2020-12-21T13:08:33.235180",
     "exception": false,
     "start_time": "2020-12-21T13:08:33.075750",
     "status": "completed"
    },
    "tags": []
   },
   "outputs": [
    {
     "name": "stdout",
     "output_type": "stream",
     "text": [
      "P-Value: 0.44745707511901855\n",
      "pval > 0.05 Therefore Ratings are normally distributed\n"
     ]
    }
   ],
   "source": [
    "import scipy.stats as stats\n",
    "stat, p_value = stats.shapiro(sample[\"Rating\"])\n",
    "\n",
    "# print the p-value \n",
    "print('P-Value:', p_value)\n",
    "print(\"pval > 0.05 Therefore Ratings are normally distributed\")\n"
   ]
  },
  {
   "cell_type": "code",
   "execution_count": 71,
   "metadata": {
    "execution": {
     "iopub.execute_input": "2020-12-21T13:08:33.544139Z",
     "iopub.status.busy": "2020-12-21T13:08:33.543339Z",
     "iopub.status.idle": "2020-12-21T13:08:33.546911Z",
     "shell.execute_reply": "2020-12-21T13:08:33.546357Z"
    },
    "papermill": {
     "duration": 0.15936,
     "end_time": "2020-12-21T13:08:33.547025",
     "exception": false,
     "start_time": "2020-12-21T13:08:33.387665",
     "status": "completed"
    },
    "tags": []
   },
   "outputs": [],
   "source": [
    "free1 = sample[(sample['Type'] == 'Free')]\n",
    "paid1 = sample[(sample['Type'] == 'Paid')]\n"
   ]
  },
  {
   "cell_type": "code",
   "execution_count": 72,
   "metadata": {
    "execution": {
     "iopub.execute_input": "2020-12-21T13:08:33.857636Z",
     "iopub.status.busy": "2020-12-21T13:08:33.856541Z",
     "iopub.status.idle": "2020-12-21T13:08:34.070343Z",
     "shell.execute_reply": "2020-12-21T13:08:34.070889Z"
    },
    "papermill": {
     "duration": 0.378996,
     "end_time": "2020-12-21T13:08:34.071046",
     "exception": false,
     "start_time": "2020-12-21T13:08:33.692050",
     "status": "completed"
    },
    "tags": []
   },
   "outputs": [
    {
     "data": {
      "text/plain": [
       "<matplotlib.legend.Legend at 0x7fd198887790>"
      ]
     },
     "execution_count": 72,
     "metadata": {},
     "output_type": "execute_result"
    },
    {
     "data": {
      "image/png": "[encoded data removed]",
      "text/plain": [
       "<Figure size 1152x360 with 1 Axes>"
      ]
     },
     "metadata": {
      "needs_background": "light"
     },
     "output_type": "display_data"
    }
   ],
   "source": [
    "all_app_ratings = np.array(df['Rating'])\n",
    "paid_app_rating_kde = stats.gaussian_kde(paid1['Rating'])\n",
    "ratings = np.linspace(0, 7, 1000)\n",
    "plt.figure(figsize=(16,5))\n",
    "plt.plot(ratings, paid_app_rating_kde(ratings), label=\"Paid apps rating\")\n",
    "mean_paid_app_rating = np.mean(paid1['Rating'])\n",
    "prob_mean_paid_app_rating = paid_app_rating_kde(mean_paid_app_rating)[0]\n",
    "plt.vlines(x=mean_paid_app_rating, ymin=0, ymax=prob_mean_paid_app_rating, color='b', label=\"Mean rating for paid app\")\n",
    "\n",
    "plt.title(\"Rating distribution of paid apps\")\n",
    "plt.xlabel(\"Ratings\")\n",
    "plt.ylabel(\"Probability\")\n",
    "plt.legend()"
   ]
  },
  {
   "cell_type": "code",
   "execution_count": 73,
   "metadata": {
    "execution": {
     "iopub.execute_input": "2020-12-21T13:08:34.381171Z",
     "iopub.status.busy": "2020-12-21T13:08:34.379369Z",
     "iopub.status.idle": "2020-12-21T13:08:34.643594Z",
     "shell.execute_reply": "2020-12-21T13:08:34.642772Z"
    },
    "papermill": {
     "duration": 0.424318,
     "end_time": "2020-12-21T13:08:34.643717",
     "exception": false,
     "start_time": "2020-12-21T13:08:34.219399",
     "status": "completed"
    },
    "tags": []
   },
   "outputs": [
    {
     "data": {
      "text/plain": [
       "<matplotlib.legend.Legend at 0x7fd19880ef50>"
      ]
     },
     "execution_count": 73,
     "metadata": {},
     "output_type": "execute_result"
    },
    {
     "data": {
      "image/png": "[encoded data removed]",
      "text/plain": [
       "<Figure size 1152x360 with 1 Axes>"
      ]
     },
     "metadata": {
      "needs_background": "light"
     },
     "output_type": "display_data"
    }
   ],
   "source": [
    "free_app_rating_kde = stats.gaussian_kde(free1['Rating'])\n",
    "ratings = np.linspace(0, 7, 1000)\n",
    "plt.figure(figsize=(16,5))\n",
    "plt.plot(ratings, free_app_rating_kde(ratings), label=\"Free apps rating\")\n",
    "mean_free_app_rating = np.mean(free1['Rating'])\n",
    "prob_mean_free_app_rating = free_app_rating_kde(mean_free_app_rating)[0]\n",
    "plt.vlines(x=mean_free_app_rating, ymin=0, ymax=prob_mean_free_app_rating, color='g', label=\"Mean rating for free app\")\n",
    "plt.title(\"Rating distribution of free apps\")\n",
    "plt.xlabel(\"Ratings\")\n",
    "plt.ylabel(\"Probability\")\n",
    "plt.legend()"
   ]
  },
  {
   "cell_type": "code",
   "execution_count": 74,
   "metadata": {
    "execution": {
     "iopub.execute_input": "2020-12-21T13:08:34.958856Z",
     "iopub.status.busy": "2020-12-21T13:08:34.958090Z",
     "iopub.status.idle": "2020-12-21T13:08:34.963607Z",
     "shell.execute_reply": "2020-12-21T13:08:34.962776Z"
    },
    "papermill": {
     "duration": 0.168824,
     "end_time": "2020-12-21T13:08:34.963727",
     "exception": false,
     "start_time": "2020-12-21T13:08:34.794903",
     "status": "completed"
    },
    "tags": []
   },
   "outputs": [
    {
     "data": {
      "text/plain": [
       "8"
      ]
     },
     "execution_count": 74,
     "metadata": {},
     "output_type": "execute_result"
    }
   ],
   "source": [
    "free = sample[(sample['Type'] == 'Free')][\"Rating\"]\n",
    "len(free)\n",
    "paid = sample[(sample['Type'] == 'Paid')][\"Rating\"]\n",
    "len(paid)"
   ]
  },
  {
   "cell_type": "markdown",
   "metadata": {
    "papermill": {
     "duration": 0.148989,
     "end_time": "2020-12-21T13:08:35.279417",
     "exception": false,
     "start_time": "2020-12-21T13:08:35.130428",
     "status": "completed"
    },
    "tags": []
   },
   "source": [
    "#### LEVENE TEST TO ASSESS THE VARIANCES"
   ]
  },
  {
   "cell_type": "code",
   "execution_count": 75,
   "metadata": {
    "execution": {
     "iopub.execute_input": "2020-12-21T13:08:35.590056Z",
     "iopub.status.busy": "2020-12-21T13:08:35.589111Z",
     "iopub.status.idle": "2020-12-21T13:08:35.593183Z",
     "shell.execute_reply": "2020-12-21T13:08:35.592609Z"
    },
    "papermill": {
     "duration": 0.16414,
     "end_time": "2020-12-21T13:08:35.593300",
     "exception": false,
     "start_time": "2020-12-21T13:08:35.429160",
     "status": "completed"
    },
    "tags": []
   },
   "outputs": [
    {
     "name": "stdout",
     "output_type": "stream",
     "text": [
      "P-Value: 0.49172699214439053\n",
      "From the above result, we can see that the p-value is greater than 0.05, thus we can say that the population variances are equal.\n"
     ]
    }
   ],
   "source": [
    "stat, p_value = stats.levene(free,paid)\n",
    "print('P-Value:', p_value)\n",
    "print(\"From the above result, we can see that the p-value is greater than 0.05, thus we can say that the population variances are equal.\")"
   ]
  },
  {
   "cell_type": "markdown",
   "metadata": {
    "papermill": {
     "duration": 0.153929,
     "end_time": "2020-12-21T13:08:35.905595",
     "exception": false,
     "start_time": "2020-12-21T13:08:35.751666",
     "status": "completed"
    },
    "tags": []
   },
   "source": [
    "#### TWO SAMPLE T-TEST"
   ]
  },
  {
   "cell_type": "code",
   "execution_count": 76,
   "metadata": {
    "execution": {
     "iopub.execute_input": "2020-12-21T13:08:36.220505Z",
     "iopub.status.busy": "2020-12-21T13:08:36.219824Z",
     "iopub.status.idle": "2020-12-21T13:08:36.224736Z",
     "shell.execute_reply": "2020-12-21T13:08:36.224088Z"
    },
    "papermill": {
     "duration": 0.167144,
     "end_time": "2020-12-21T13:08:36.224848",
     "exception": false,
     "start_time": "2020-12-21T13:08:36.057704",
     "status": "completed"
    },
    "tags": []
   },
   "outputs": [
    {
     "name": "stdout",
     "output_type": "stream",
     "text": [
      "p-value: 0.373475796257156\n",
      "p-value is > 0.05 , thus we accept H0 and conclude that the type of app doesnt affect the ratings\n"
     ]
    }
   ],
   "source": [
    "test_stat, p_value = stats.ttest_ind(a = free, b = paid)\n",
    "print('p-value:', p_value)\n",
    "print(\"p-value is > 0.05 , thus we accept H0 and conclude that the type of app doesnt affect the ratings\")\n"
   ]
  },
  {
   "cell_type": "markdown",
   "metadata": {
    "papermill": {
     "duration": 0.159627,
     "end_time": "2020-12-21T13:08:36.537298",
     "exception": false,
     "start_time": "2020-12-21T13:08:36.377671",
     "status": "completed"
    },
    "tags": []
   },
   "source": [
    "### MANWHITNEY U TEST"
   ]
  },
  {
   "cell_type": "markdown",
   "metadata": {
    "papermill": {
     "duration": 0.15555,
     "end_time": "2020-12-21T13:08:36.844111",
     "exception": false,
     "start_time": "2020-12-21T13:08:36.688561",
     "status": "completed"
    },
    "tags": []
   },
   "source": [
    "## Free apps and paid apps have same number of installs ?\n",
    "Lets formulate our hypothesis to answer this question.\n",
    "\n",
    "##### Null Hypothesis ($H_0$)\n",
    "    The average installs for free and paid apps is same\n",
    "\n",
    "##### Alternative Hypothesis ($H_A$)\n",
    "    The average installs for free and paid apps is not same"
   ]
  },
  {
   "cell_type": "code",
   "execution_count": 77,
   "metadata": {
    "execution": {
     "iopub.execute_input": "2020-12-21T13:08:37.156556Z",
     "iopub.status.busy": "2020-12-21T13:08:37.155855Z",
     "iopub.status.idle": "2020-12-21T13:08:37.169634Z",
     "shell.execute_reply": "2020-12-21T13:08:37.168975Z"
    },
    "papermill": {
     "duration": 0.172216,
     "end_time": "2020-12-21T13:08:37.169760",
     "exception": false,
     "start_time": "2020-12-21T13:08:36.997544",
     "status": "completed"
    },
    "tags": []
   },
   "outputs": [
    {
     "data": {
      "text/plain": [
       "24"
      ]
     },
     "execution_count": 77,
     "metadata": {},
     "output_type": "execute_result"
    }
   ],
   "source": [
    "sample=df.groupby('Type').apply(lambda x:x.sample(12,random_state=5))\n",
    "len(sample)"
   ]
  },
  {
   "cell_type": "code",
   "execution_count": 78,
   "metadata": {
    "execution": {
     "iopub.execute_input": "2020-12-21T13:08:37.482491Z",
     "iopub.status.busy": "2020-12-21T13:08:37.481652Z",
     "iopub.status.idle": "2020-12-21T13:08:37.485879Z",
     "shell.execute_reply": "2020-12-21T13:08:37.485316Z"
    },
    "papermill": {
     "duration": 0.165794,
     "end_time": "2020-12-21T13:08:37.485997",
     "exception": false,
     "start_time": "2020-12-21T13:08:37.320203",
     "status": "completed"
    },
    "tags": []
   },
   "outputs": [
    {
     "data": {
      "text/plain": [
       "12"
      ]
     },
     "execution_count": 78,
     "metadata": {},
     "output_type": "execute_result"
    }
   ],
   "source": [
    "free = sample[(sample['Type'] == 'Free')][\"Installs\"]\n",
    "len(free)\n",
    "paid = sample[(sample['Type'] == 'Paid')][\"Installs\"]\n",
    "len(paid)"
   ]
  },
  {
   "cell_type": "code",
   "execution_count": 79,
   "metadata": {
    "execution": {
     "iopub.execute_input": "2020-12-21T13:08:37.797272Z",
     "iopub.status.busy": "2020-12-21T13:08:37.796277Z",
     "iopub.status.idle": "2020-12-21T13:08:37.802669Z",
     "shell.execute_reply": "2020-12-21T13:08:37.803842Z"
    },
    "papermill": {
     "duration": 0.166163,
     "end_time": "2020-12-21T13:08:37.804226",
     "exception": false,
     "start_time": "2020-12-21T13:08:37.638063",
     "status": "completed"
    },
    "tags": []
   },
   "outputs": [
    {
     "name": "stdout",
     "output_type": "stream",
     "text": [
      "P-Value: 1.2945519656248905e-10\n",
      "pval < 0.05 Therefore Ratings are Not normally distributed\n"
     ]
    }
   ],
   "source": [
    "stat, p_value = stats.shapiro(sample[\"Installs\"])\n",
    "\n",
    "# print the p-value \n",
    "print('P-Value:', p_value)\n",
    "print(\"pval < 0.05 Therefore Ratings are Not normally distributed\")"
   ]
  },
  {
   "cell_type": "code",
   "execution_count": 80,
   "metadata": {
    "execution": {
     "iopub.execute_input": "2020-12-21T13:08:38.122727Z",
     "iopub.status.busy": "2020-12-21T13:08:38.121609Z",
     "iopub.status.idle": "2020-12-21T13:08:38.128155Z",
     "shell.execute_reply": "2020-12-21T13:08:38.128709Z"
    },
    "papermill": {
     "duration": 0.168965,
     "end_time": "2020-12-21T13:08:38.128856",
     "exception": false,
     "start_time": "2020-12-21T13:08:37.959891",
     "status": "completed"
    },
    "tags": []
   },
   "outputs": [
    {
     "name": "stdout",
     "output_type": "stream",
     "text": [
      "P-Value: 0.009347252420777245\n"
     ]
    }
   ],
   "source": [
    "stat, p_value = stats.mannwhitneyu(free,paid,alternative=\"two-sided\")\n",
    "print('P-Value:', p_value)"
   ]
  },
  {
   "cell_type": "markdown",
   "metadata": {
    "papermill": {
     "duration": 0.155026,
     "end_time": "2020-12-21T13:08:38.439935",
     "exception": false,
     "start_time": "2020-12-21T13:08:38.284909",
     "status": "completed"
    },
    "tags": []
   },
   "source": [
    "we reject H0 therefore the avg number of installs for paid and free apps is not the same."
   ]
  },
  {
   "cell_type": "markdown",
   "metadata": {
    "papermill": {
     "duration": 0.157874,
     "end_time": "2020-12-21T13:08:38.755535",
     "exception": false,
     "start_time": "2020-12-21T13:08:38.597661",
     "status": "completed"
    },
    "tags": []
   },
   "source": [
    "### KRUSKALS TEST"
   ]
  },
  {
   "cell_type": "markdown",
   "metadata": {
    "papermill": {
     "duration": 0.15481,
     "end_time": "2020-12-21T13:08:39.069909",
     "exception": false,
     "start_time": "2020-12-21T13:08:38.915099",
     "status": "completed"
    },
    "tags": []
   },
   "source": [
    "\n",
    "Lets formulate our hypothesis to answer this question.\n",
    "\n",
    "##### Null Hypothesis ($H_0$)\n",
    "   Avg rating is same for all the categories of apps \n",
    "##### Alternative Hypothesis ($H_A$)\n",
    "   Avg rating for atleast one category is not the same\n"
   ]
  },
  {
   "cell_type": "code",
   "execution_count": 81,
   "metadata": {
    "execution": {
     "iopub.execute_input": "2020-12-21T13:08:39.393300Z",
     "iopub.status.busy": "2020-12-21T13:08:39.392150Z",
     "iopub.status.idle": "2020-12-21T13:08:39.555308Z",
     "shell.execute_reply": "2020-12-21T13:08:39.554279Z"
    },
    "papermill": {
     "duration": 0.330725,
     "end_time": "2020-12-21T13:08:39.555454",
     "exception": false,
     "start_time": "2020-12-21T13:08:39.224729",
     "status": "completed"
    },
    "tags": []
   },
   "outputs": [
    {
     "name": "stdout",
     "output_type": "stream",
     "text": [
      "sample size(n): 576\n"
     ]
    }
   ],
   "source": [
    "sample=df.groupby('Category').apply(lambda x:x.sample(32,random_state=40))\n",
    "print(\"sample size(n):\",len(sample))"
   ]
  },
  {
   "cell_type": "code",
   "execution_count": 82,
   "metadata": {
    "execution": {
     "iopub.execute_input": "2020-12-21T13:08:39.898717Z",
     "iopub.status.busy": "2020-12-21T13:08:39.897875Z",
     "iopub.status.idle": "2020-12-21T13:08:39.902635Z",
     "shell.execute_reply": "2020-12-21T13:08:39.901932Z"
    },
    "papermill": {
     "duration": 0.179275,
     "end_time": "2020-12-21T13:08:39.902761",
     "exception": false,
     "start_time": "2020-12-21T13:08:39.723486",
     "status": "completed"
    },
    "tags": []
   },
   "outputs": [
    {
     "data": {
      "text/plain": [
       "GAME                   278\n",
       "DATING                 205\n",
       "HEALTH_AND_FITNESS     125\n",
       "EDUCATION              111\n",
       "ENTERTAINMENT           90\n",
       "FINANCE                 87\n",
       "LIFESTYLE               77\n",
       "BUSINESS                72\n",
       "COMMUNICATION           69\n",
       "FOOD_AND_DRINK          56\n",
       "HOUSE_AND_HOME          52\n",
       "ART_AND_DESIGN          47\n",
       "LIBRARIES_AND_DEMO      45\n",
       "AUTO_AND_VEHICLES       41\n",
       "EVENTS                  39\n",
       "BEAUTY                  36\n",
       "BOOKS_AND_REFERENCE     35\n",
       "COMICS                  33\n",
       "Name: Category, dtype: int64"
      ]
     },
     "execution_count": 82,
     "metadata": {},
     "output_type": "execute_result"
    }
   ],
   "source": [
    "df.Category.value_counts()"
   ]
  },
  {
   "cell_type": "code",
   "execution_count": 83,
   "metadata": {
    "execution": {
     "iopub.execute_input": "2020-12-21T13:08:40.238468Z",
     "iopub.status.busy": "2020-12-21T13:08:40.236147Z",
     "iopub.status.idle": "2020-12-21T13:08:40.243159Z",
     "shell.execute_reply": "2020-12-21T13:08:40.242493Z"
    },
    "papermill": {
     "duration": 0.179442,
     "end_time": "2020-12-21T13:08:40.243281",
     "exception": false,
     "start_time": "2020-12-21T13:08:40.063839",
     "status": "completed"
    },
    "tags": []
   },
   "outputs": [
    {
     "data": {
      "text/plain": [
       "['ART_AND_DESIGN',\n",
       " 'AUTO_AND_VEHICLES',\n",
       " 'BEAUTY',\n",
       " 'BOOKS_AND_REFERENCE',\n",
       " 'BUSINESS',\n",
       " 'COMICS',\n",
       " 'COMMUNICATION',\n",
       " 'DATING',\n",
       " 'EDUCATION',\n",
       " 'ENTERTAINMENT',\n",
       " 'EVENTS',\n",
       " 'FINANCE',\n",
       " 'FOOD_AND_DRINK',\n",
       " 'GAME',\n",
       " 'HEALTH_AND_FITNESS',\n",
       " 'HOUSE_AND_HOME',\n",
       " 'LIBRARIES_AND_DEMO',\n",
       " 'LIFESTYLE']"
      ]
     },
     "execution_count": 83,
     "metadata": {},
     "output_type": "execute_result"
    }
   ],
   "source": [
    "Cat=sample.Category.unique()\n",
    "type(Cat)\n",
    "mylist=list(Cat)\n",
    "type(mylist)\n",
    "mylist"
   ]
  },
  {
   "cell_type": "code",
   "execution_count": 84,
   "metadata": {
    "execution": {
     "iopub.execute_input": "2020-12-21T13:08:40.579823Z",
     "iopub.status.busy": "2020-12-21T13:08:40.578952Z",
     "iopub.status.idle": "2020-12-21T13:08:40.610225Z",
     "shell.execute_reply": "2020-12-21T13:08:40.607294Z"
    },
    "papermill": {
     "duration": 0.206309,
     "end_time": "2020-12-21T13:08:40.610377",
     "exception": false,
     "start_time": "2020-12-21T13:08:40.404068",
     "status": "completed"
    },
    "tags": []
   },
   "outputs": [
    {
     "name": "stdout",
     "output_type": "stream",
     "text": [
      "ART_AND_DESIGN  :  0.016711384057998657\n",
      "AUTO_AND_VEHICLES  :  0.1861790269613266\n",
      "BEAUTY  :  0.5143148303031921\n",
      "BOOKS_AND_REFERENCE  :  0.0006812965730205178\n",
      "BUSINESS  :  0.8223279714584351\n",
      "COMICS  :  0.0014248091029003263\n",
      "COMMUNICATION  :  0.05174439400434494\n",
      "DATING  :  0.0008642252651043236\n",
      "EDUCATION  :  0.06818848848342896\n",
      "ENTERTAINMENT  :  0.08955409377813339\n",
      "EVENTS  :  0.04531426727771759\n",
      "FINANCE  :  0.0013455331791192293\n",
      "FOOD_AND_DRINK  :  0.06279417872428894\n",
      "GAME  :  0.10450655221939087\n",
      "HEALTH_AND_FITNESS  :  0.004036517348140478\n",
      "HOUSE_AND_HOME  :  0.08814556151628494\n",
      "LIBRARIES_AND_DEMO  :  0.0009444536408409476\n",
      "LIFESTYLE  :  0.003152424469590187\n"
     ]
    }
   ],
   "source": [
    "for item in mylist:\n",
    "    myd=sample[sample['Category']==item]['Rating']\n",
    "    test,p_val=stats.shapiro(myd)\n",
    "    print(item,' : ',p_val)"
   ]
  },
  {
   "cell_type": "code",
   "execution_count": 85,
   "metadata": {
    "execution": {
     "iopub.execute_input": "2020-12-21T13:08:40.958422Z",
     "iopub.status.busy": "2020-12-21T13:08:40.957340Z",
     "iopub.status.idle": "2020-12-21T13:08:40.959640Z",
     "shell.execute_reply": "2020-12-21T13:08:40.960277Z"
    },
    "papermill": {
     "duration": 0.173618,
     "end_time": "2020-12-21T13:08:40.960433",
     "exception": false,
     "start_time": "2020-12-21T13:08:40.786815",
     "status": "completed"
    },
    "tags": []
   },
   "outputs": [],
   "source": [
    "plt.rcParams[\"figure.figsize\"] = [25,25]\n",
    "\n",
    "# divide the plot into the specified number of subplots \n",
    "gs = gridspec.GridSpec(4, 5, width_ratios=[3, 3, 3, 3, 3], height_ratios=[1, 1, 1, 1])"
   ]
  },
  {
   "cell_type": "code",
   "execution_count": 86,
   "metadata": {
    "execution": {
     "iopub.execute_input": "2020-12-21T13:08:41.361626Z",
     "iopub.status.busy": "2020-12-21T13:08:41.360874Z",
     "iopub.status.idle": "2020-12-21T13:08:44.587103Z",
     "shell.execute_reply": "2020-12-21T13:08:44.587668Z"
    },
    "papermill": {
     "duration": 3.452644,
     "end_time": "2020-12-21T13:08:44.587818",
     "exception": false,
     "start_time": "2020-12-21T13:08:41.135174",
     "status": "completed"
    },
    "tags": []
   },
   "outputs": [
    {
     "data": {
      "image/png": "[encoded data removed]",
      "text/plain": [
       "<Figure size 1800x1800 with 18 Axes>"
      ]
     },
     "metadata": {
      "needs_background": "light"
     },
     "output_type": "display_data"
    }
   ],
   "source": [
    "#***********************************Plotting for Auto_Vehicles*****************************************************\n",
    "Auto_Veh=sample[sample['Category']=='AUTO_AND_VEHICLES']['Rating']\n",
    "plt.subplot(gs[0,0])\n",
    "plt.title('Dense_Auto_Vehicle')\n",
    "sns.distplot(Auto_Veh,color='green')  #Normal so green\n",
    "#***********************************Plotting for Beauty************************************************************\n",
    "Beauty=sample[sample['Category']=='BEAUTY']['Rating']\n",
    "plt.subplot(gs[0,1])\n",
    "plt.title('Dense_Beauty')\n",
    "sns.distplot(Beauty,color='green')  #Normal so green\n",
    "#***********************************Plotting for Books_Reference***************************************************\n",
    "Book_Ref=sample[sample['Category']=='BOOKS_AND_REFERENCE']['Rating']\n",
    "plt.subplot(gs[0,2])\n",
    "plt.title('Dense_Books_Reference')\n",
    "sns.distplot(Book_Ref,color='brown')  #Not normal so brown\n",
    "#***********************************Plotting for Business**********************************************************\n",
    "Business=sample[sample['Category']=='BUSINESS']['Rating']\n",
    "plt.subplot(gs[0,3])\n",
    "plt.title('Dense_Business')\n",
    "sns.distplot(Business,color='green')  #Normal so green\n",
    "#***********************************Plotting for Communication**********************************************************\n",
    "Comm=sample[sample['Category']=='COMMUNICATION']['Rating']\n",
    "plt.subplot(gs[0,4])\n",
    "plt.title('Dense_Communication')\n",
    "sns.distplot(Comm,color='green')  #Normal so green\n",
    "#***********************************Plotting for Dating************************************************************\n",
    "Dating=sample[sample['Category']=='DATING']['Rating']\n",
    "plt.subplot(gs[1,0])\n",
    "plt.title('Dense_Dating')\n",
    "sns.distplot(Dating,color='brown')  #Not normal so brown\n",
    "#***********************************Plotting for Entertainment************************************************************\n",
    "Entrtnmnt=sample[sample['Category']=='ENTERTAINMENT']['Rating']\n",
    "plt.subplot(gs[1,1])\n",
    "plt.title('Dense_Entertainment')\n",
    "sns.distplot(Entrtnmnt,color='brown')  #Not normal so brown\n",
    "#***********************************Plotting for Events************************************************************\n",
    "Events=sample[sample['Category']=='EVENTS']['Rating']\n",
    "plt.subplot(gs[1,2])\n",
    "plt.title('Dense_Events')\n",
    "sns.distplot(Events,color='green')  #Normal so green\n",
    "#***********************************Plotting for Finance************************************************************\n",
    "Fin=sample[sample['Category']=='FINANCE']['Rating']\n",
    "plt.subplot(gs[1,3])\n",
    "plt.title('Dense_Finance')\n",
    "sns.distplot(Fin,color='brown') #Not normal so brown\n",
    "#***********************************Plotting for Comics************************************************************\n",
    "Comics=sample[sample['Category']=='COMICS']['Rating']\n",
    "plt.subplot(gs[1,4])\n",
    "plt.title('Dense_Comics')\n",
    "sns.distplot(Comics,color='brown') #Not normal so brown\n",
    "#***********************************Plotting for Education************************************************************\n",
    "Edu=sample[sample['Category']=='EDUCATION']['Rating']\n",
    "plt.subplot(gs[2,0])\n",
    "plt.title('Dense_Education')\n",
    "sns.distplot(Edu,color='green')  #Normal so green\n",
    "#***********************************Plotting for Food_And_Drink************************************************************\n",
    "Food_Drink=sample[sample['Category']=='FOOD_AND_DRINK']['Rating']\n",
    "plt.subplot(gs[2,1])\n",
    "plt.title('Dense_Food_Drink')\n",
    "sns.distplot(Food_Drink,color='green')  #Normal so green\n",
    "#***********************************Plotting for Game************************************************************\n",
    "Game=sample[sample['Category']=='GAME']['Rating']\n",
    "plt.subplot(gs[2,2])\n",
    "plt.title('Dense_Game')\n",
    "sns.distplot(Game,color='brown')  #Not normal so brown\n",
    "#***********************************Plotting for Health_And_Fitness************************************************************\n",
    "Health_Fit=sample[sample['Category']=='HEALTH_AND_FITNESS']['Rating']\n",
    "plt.subplot(gs[2,3])\n",
    "plt.title('Dense_Health_Fitness')\n",
    "sns.distplot(Health_Fit,color='brown') #Not normal so brown\n",
    "#***********************************Plotting for House_Home************************************************************\n",
    "House_Home=sample[sample['Category']=='HOUSE_AND_HOME']['Rating']\n",
    "plt.subplot(gs[2,4])\n",
    "plt.title('Dense_House_Home')\n",
    "sns.distplot(House_Home,color='green') #Normal so green\n",
    "#***********************************Plotting for Libraries_And_Demo************************************************************\n",
    "Lib_Demo=sample[sample['Category']=='LIBRARIES_AND_DEMO']['Rating']\n",
    "plt.subplot(gs[3,0])\n",
    "plt.title('Dense_Lib_Demo')\n",
    "sns.distplot(Lib_Demo,color='brown') #Not normal so brown\n",
    "#***********************************Plotting for Lifestyle************************************************************\n",
    "Lifestyle=sample[sample['Category']=='LIFESTYLE']['Rating']\n",
    "plt.subplot(gs[3,1])\n",
    "plt.title('Dense_LifeStyle')\n",
    "sns.distplot(Lifestyle,color='brown') #Not normal so brown\n",
    "#***********************************Plotting for Art_Design*****************************************************\n",
    "Art_Design=sample[sample['Category']=='ART_AND_DESIGN']['Rating']\n",
    "plt.subplot(gs[3,2])\n",
    "plt.title('Dense_Art_Design')\n",
    "sns.distplot(Art_Design,color='brown') #Not normal so brown\n",
    "plt.show()"
   ]
  },
  {
   "cell_type": "code",
   "execution_count": 87,
   "metadata": {
    "execution": {
     "iopub.execute_input": "2020-12-21T13:08:44.921510Z",
     "iopub.status.busy": "2020-12-21T13:08:44.920774Z",
     "iopub.status.idle": "2020-12-21T13:08:44.928561Z",
     "shell.execute_reply": "2020-12-21T13:08:44.929030Z"
    },
    "papermill": {
     "duration": 0.177509,
     "end_time": "2020-12-21T13:08:44.929192",
     "exception": false,
     "start_time": "2020-12-21T13:08:44.751683",
     "status": "completed"
    },
    "tags": []
   },
   "outputs": [
    {
     "data": {
      "text/plain": [
       "LeveneResult(statistic=3.467053134014824, pvalue=3.5429092165986464e-06)"
      ]
     },
     "execution_count": 87,
     "metadata": {},
     "output_type": "execute_result"
    }
   ],
   "source": [
    "stats.levene(Art_Design,Auto_Veh,Beauty,Book_Ref,Business,Comm,Dating,Entrtnmnt,Events,Fin,Comics,Edu,Food_Drink,Game,Health_Fit,House_Home,Lib_Demo,Lifestyle)"
   ]
  },
  {
   "cell_type": "markdown",
   "metadata": {
    "papermill": {
     "duration": 0.16333,
     "end_time": "2020-12-21T13:08:45.262184",
     "exception": false,
     "start_time": "2020-12-21T13:08:45.098854",
     "status": "completed"
    },
    "tags": []
   },
   "source": [
    "As some of the categories are failing to satisfy Shapiro test and levene test is not combinedly satisfied we can not perform ANOVA. So we have to go for non-parametric Kruskal Test."
   ]
  },
  {
   "cell_type": "markdown",
   "metadata": {
    "papermill": {
     "duration": 0.164254,
     "end_time": "2020-12-21T13:08:45.588176",
     "exception": false,
     "start_time": "2020-12-21T13:08:45.423922",
     "status": "completed"
    },
    "tags": []
   },
   "source": [
    "# KRUSKAL'S TEST"
   ]
  },
  {
   "cell_type": "code",
   "execution_count": 88,
   "metadata": {
    "execution": {
     "iopub.execute_input": "2020-12-21T13:08:45.925284Z",
     "iopub.status.busy": "2020-12-21T13:08:45.924617Z",
     "iopub.status.idle": "2020-12-21T13:08:45.935246Z",
     "shell.execute_reply": "2020-12-21T13:08:45.934711Z"
    },
    "papermill": {
     "duration": 0.183533,
     "end_time": "2020-12-21T13:08:45.935363",
     "exception": false,
     "start_time": "2020-12-21T13:08:45.751830",
     "status": "completed"
    },
    "tags": []
   },
   "outputs": [
    {
     "name": "stdout",
     "output_type": "stream",
     "text": [
      "pval : KruskalResult(statistic=65.53823987518909, pvalue=1.2462083921037888e-07)\n",
      "Since p_value < 0.05 we reject H0 and thus we conclude that average rating is not the same   for all the category of apps\n"
     ]
    }
   ],
   "source": [
    "p_val = stats.kruskal(Art_Design,Auto_Veh,Beauty,Book_Ref,Business,Comm,\n",
    "              Dating,Entrtnmnt,Events,Fin,Comics,Edu,Food_Drink,Game,Health_Fit,\n",
    "              House_Home,Lib_Demo,Lifestyle)\n",
    "print(\"pval :\",p_val)\n",
    "print(\"Since p_value < 0.05 we reject H0 and thus we conclude that average rating is not the same   for all the category of apps\")"
   ]
  },
  {
   "cell_type": "code",
   "execution_count": 89,
   "metadata": {
    "execution": {
     "iopub.execute_input": "2020-12-21T13:08:46.316575Z",
     "iopub.status.busy": "2020-12-21T13:08:46.315819Z",
     "iopub.status.idle": "2020-12-21T13:08:46.323872Z",
     "shell.execute_reply": "2020-12-21T13:08:46.322731Z"
    },
    "papermill": {
     "duration": 0.225651,
     "end_time": "2020-12-21T13:08:46.324074",
     "exception": false,
     "start_time": "2020-12-21T13:08:46.098423",
     "status": "completed"
    },
    "tags": []
   },
   "outputs": [
    {
     "data": {
      "text/plain": [
       "Everyone           1040\n",
       "Mature 17+          208\n",
       "Teen                179\n",
       "Everyone 10+         70\n",
       "Adults only 18+       1\n",
       "Name: Content Rating, dtype: int64"
      ]
     },
     "execution_count": 89,
     "metadata": {},
     "output_type": "execute_result"
    }
   ],
   "source": [
    "df['Content Rating'].value_counts()"
   ]
  },
  {
   "cell_type": "code",
   "execution_count": 90,
   "metadata": {
    "execution": {
     "iopub.execute_input": "2020-12-21T13:08:46.687376Z",
     "iopub.status.busy": "2020-12-21T13:08:46.686395Z",
     "iopub.status.idle": "2020-12-21T13:08:46.691508Z",
     "shell.execute_reply": "2020-12-21T13:08:46.692108Z"
    },
    "papermill": {
     "duration": 0.188849,
     "end_time": "2020-12-21T13:08:46.692262",
     "exception": false,
     "start_time": "2020-12-21T13:08:46.503413",
     "status": "completed"
    },
    "tags": []
   },
   "outputs": [
    {
     "data": {
      "text/html": [
       "<div>\n",
       "<style scoped>\n",
       "    .dataframe tbody tr th:only-of-type {\n",
       "        vertical-align: middle;\n",
       "    }\n",
       "\n",
       "    .dataframe tbody tr th {\n",
       "        vertical-align: top;\n",
       "    }\n",
       "\n",
       "    .dataframe thead th {\n",
       "        text-align: right;\n",
       "    }\n",
       "</style>\n",
       "<table border=\"1\" class=\"dataframe\">\n",
       "  <thead>\n",
       "    <tr style=\"text-align: right;\">\n",
       "      <th></th>\n",
       "      <th>App</th>\n",
       "      <th>Category</th>\n",
       "      <th>Rating</th>\n",
       "      <th>Reviews</th>\n",
       "      <th>Size</th>\n",
       "      <th>Installs</th>\n",
       "      <th>Type</th>\n",
       "      <th>Content Rating</th>\n",
       "    </tr>\n",
       "  </thead>\n",
       "  <tbody>\n",
       "    <tr>\n",
       "      <th>298</th>\n",
       "      <td>Manga Master - Best manga &amp; comic reader</td>\n",
       "      <td>COMICS</td>\n",
       "      <td>4.6</td>\n",
       "      <td>24005</td>\n",
       "      <td>4.9e+6</td>\n",
       "      <td>500000</td>\n",
       "      <td>Free</td>\n",
       "      <td>Adults only 18+</td>\n",
       "    </tr>\n",
       "  </tbody>\n",
       "</table>\n",
       "</div>"
      ],
      "text/plain": [
       "                                          App Category  Rating  Reviews  \\\n",
       "298  Manga Master - Best manga & comic reader   COMICS     4.6    24005   \n",
       "\n",
       "       Size Installs  Type   Content Rating  \n",
       "298  4.9e+6   500000  Free  Adults only 18+  "
      ]
     },
     "execution_count": 90,
     "metadata": {},
     "output_type": "execute_result"
    }
   ],
   "source": [
    "df[df['Content Rating']=='Adults only 18+']"
   ]
  },
  {
   "cell_type": "code",
   "execution_count": 91,
   "metadata": {
    "execution": {
     "iopub.execute_input": "2020-12-21T13:08:47.053915Z",
     "iopub.status.busy": "2020-12-21T13:08:47.053147Z",
     "iopub.status.idle": "2020-12-21T13:08:47.055626Z",
     "shell.execute_reply": "2020-12-21T13:08:47.056101Z"
    },
    "papermill": {
     "duration": 0.192648,
     "end_time": "2020-12-21T13:08:47.056255",
     "exception": false,
     "start_time": "2020-12-21T13:08:46.863607",
     "status": "completed"
    },
    "tags": []
   },
   "outputs": [],
   "source": [
    "df.drop([298], axis=0, inplace=True)"
   ]
  },
  {
   "cell_type": "code",
   "execution_count": 92,
   "metadata": {
    "execution": {
     "iopub.execute_input": "2020-12-21T13:08:47.393813Z",
     "iopub.status.busy": "2020-12-21T13:08:47.393092Z",
     "iopub.status.idle": "2020-12-21T13:08:47.402081Z",
     "shell.execute_reply": "2020-12-21T13:08:47.401311Z"
    },
    "papermill": {
     "duration": 0.177793,
     "end_time": "2020-12-21T13:08:47.402199",
     "exception": false,
     "start_time": "2020-12-21T13:08:47.224406",
     "status": "completed"
    },
    "tags": []
   },
   "outputs": [
    {
     "data": {
      "text/plain": [
       "Everyone        1040\n",
       "Mature 17+       208\n",
       "Teen             179\n",
       "Everyone 10+      70\n",
       "Name: Content Rating, dtype: int64"
      ]
     },
     "execution_count": 92,
     "metadata": {},
     "output_type": "execute_result"
    }
   ],
   "source": [
    "df['Content Rating'].value_counts()"
   ]
  },
  {
   "cell_type": "code",
   "execution_count": 93,
   "metadata": {
    "execution": {
     "iopub.execute_input": "2020-12-21T13:08:47.744095Z",
     "iopub.status.busy": "2020-12-21T13:08:47.743341Z",
     "iopub.status.idle": "2020-12-21T13:08:47.756826Z",
     "shell.execute_reply": "2020-12-21T13:08:47.757393Z"
    },
    "papermill": {
     "duration": 0.189702,
     "end_time": "2020-12-21T13:08:47.757561",
     "exception": false,
     "start_time": "2020-12-21T13:08:47.567859",
     "status": "completed"
    },
    "tags": []
   },
   "outputs": [
    {
     "data": {
      "text/plain": [
       "(120, 8)"
      ]
     },
     "execution_count": 93,
     "metadata": {},
     "output_type": "execute_result"
    }
   ],
   "source": [
    "sample=df.groupby('Content Rating', group_keys=False).apply(lambda x:x.sample(30,random_state=1))\n",
    "sample.shape"
   ]
  },
  {
   "cell_type": "markdown",
   "metadata": {
    "papermill": {
     "duration": 0.165371,
     "end_time": "2020-12-21T13:08:48.092459",
     "exception": false,
     "start_time": "2020-12-21T13:08:47.927088",
     "status": "completed"
    },
    "tags": []
   },
   "source": [
    "### CHI-SQUARE TEST"
   ]
  },
  {
   "cell_type": "markdown",
   "metadata": {
    "papermill": {
     "duration": 0.167441,
     "end_time": "2020-12-21T13:08:48.441609",
     "exception": false,
     "start_time": "2020-12-21T13:08:48.274168",
     "status": "completed"
    },
    "tags": []
   },
   "source": [
    "### Is there significant difference between quality of free apps and paid apps?\n",
    "Lets formulate our hypothesis to answer this question.\n",
    "\n",
    "##### Null Hypothesis ($H_0$)\n",
    "    The content rating is independent of application category.\n",
    "\n",
    "##### Alternative Hypothesis ($H_A$)\n",
    "    The content rating is dependent of application category."
   ]
  },
  {
   "cell_type": "code",
   "execution_count": 94,
   "metadata": {
    "execution": {
     "iopub.execute_input": "2020-12-21T13:08:48.781099Z",
     "iopub.status.busy": "2020-12-21T13:08:48.780351Z",
     "iopub.status.idle": "2020-12-21T13:08:48.790266Z",
     "shell.execute_reply": "2020-12-21T13:08:48.789734Z"
    },
    "papermill": {
     "duration": 0.180001,
     "end_time": "2020-12-21T13:08:48.790384",
     "exception": false,
     "start_time": "2020-12-21T13:08:48.610383",
     "status": "completed"
    },
    "tags": []
   },
   "outputs": [
    {
     "data": {
      "text/plain": [
       "App               0\n",
       "Category          0\n",
       "Rating            0\n",
       "Reviews           0\n",
       "Size              0\n",
       "Installs          0\n",
       "Type              0\n",
       "Content Rating    0\n",
       "dtype: int64"
      ]
     },
     "execution_count": 94,
     "metadata": {},
     "output_type": "execute_result"
    }
   ],
   "source": [
    "df.isna().sum()"
   ]
  },
  {
   "cell_type": "code",
   "execution_count": 95,
   "metadata": {
    "execution": {
     "iopub.execute_input": "2020-12-21T13:08:49.135093Z",
     "iopub.status.busy": "2020-12-21T13:08:49.133283Z",
     "iopub.status.idle": "2020-12-21T13:08:49.139407Z",
     "shell.execute_reply": "2020-12-21T13:08:49.139932Z"
    },
    "papermill": {
     "duration": 0.181039,
     "end_time": "2020-12-21T13:08:49.140091",
     "exception": false,
     "start_time": "2020-12-21T13:08:48.959052",
     "status": "completed"
    },
    "tags": []
   },
   "outputs": [],
   "source": [
    "from statsmodels.stats.multicomp import pairwise_tukeyhsd\n",
    "from statsmodels.formula.api import ols\n",
    "from statsmodels.stats.anova import anova_lm"
   ]
  },
  {
   "cell_type": "code",
   "execution_count": 96,
   "metadata": {
    "execution": {
     "iopub.execute_input": "2020-12-21T13:08:49.499786Z",
     "iopub.status.busy": "2020-12-21T13:08:49.498773Z",
     "iopub.status.idle": "2020-12-21T13:08:49.504786Z",
     "shell.execute_reply": "2020-12-21T13:08:49.505242Z"
    },
    "papermill": {
     "duration": 0.191474,
     "end_time": "2020-12-21T13:08:49.505397",
     "exception": false,
     "start_time": "2020-12-21T13:08:49.313923",
     "status": "completed"
    },
    "tags": []
   },
   "outputs": [
    {
     "data": {
      "text/plain": [
       "Index(['App', 'Category', 'Rating', 'Reviews', 'Size', 'Installs', 'Type',\n",
       "       'Content Rating'],\n",
       "      dtype='object')"
      ]
     },
     "execution_count": 96,
     "metadata": {},
     "output_type": "execute_result"
    }
   ],
   "source": [
    "df.columns"
   ]
  },
  {
   "cell_type": "code",
   "execution_count": 97,
   "metadata": {
    "execution": {
     "iopub.execute_input": "2020-12-21T13:08:49.856428Z",
     "iopub.status.busy": "2020-12-21T13:08:49.855409Z",
     "iopub.status.idle": "2020-12-21T13:08:49.859633Z",
     "shell.execute_reply": "2020-12-21T13:08:49.860328Z"
    },
    "papermill": {
     "duration": 0.186795,
     "end_time": "2020-12-21T13:08:49.860500",
     "exception": false,
     "start_time": "2020-12-21T13:08:49.673705",
     "status": "completed"
    },
    "tags": []
   },
   "outputs": [
    {
     "data": {
      "text/plain": [
       "GAME                   278\n",
       "DATING                 205\n",
       "HEALTH_AND_FITNESS     125\n",
       "EDUCATION              111\n",
       "ENTERTAINMENT           90\n",
       "FINANCE                 87\n",
       "LIFESTYLE               77\n",
       "BUSINESS                72\n",
       "COMMUNICATION           69\n",
       "FOOD_AND_DRINK          56\n",
       "HOUSE_AND_HOME          52\n",
       "ART_AND_DESIGN          47\n",
       "LIBRARIES_AND_DEMO      45\n",
       "AUTO_AND_VEHICLES       41\n",
       "EVENTS                  39\n",
       "BEAUTY                  36\n",
       "BOOKS_AND_REFERENCE     35\n",
       "COMICS                  32\n",
       "Name: Category, dtype: int64"
      ]
     },
     "execution_count": 97,
     "metadata": {},
     "output_type": "execute_result"
    }
   ],
   "source": [
    "df['Category'].value_counts()"
   ]
  },
  {
   "cell_type": "code",
   "execution_count": 98,
   "metadata": {
    "execution": {
     "iopub.execute_input": "2020-12-21T13:08:50.214793Z",
     "iopub.status.busy": "2020-12-21T13:08:50.213726Z",
     "iopub.status.idle": "2020-12-21T13:08:50.221803Z",
     "shell.execute_reply": "2020-12-21T13:08:50.222518Z"
    },
    "papermill": {
     "duration": 0.186107,
     "end_time": "2020-12-21T13:08:50.222681",
     "exception": false,
     "start_time": "2020-12-21T13:08:50.036574",
     "status": "completed"
    },
    "tags": []
   },
   "outputs": [
    {
     "data": {
      "text/plain": [
       "18"
      ]
     },
     "execution_count": 98,
     "metadata": {},
     "output_type": "execute_result"
    }
   ],
   "source": [
    "df['Category'].nunique()"
   ]
  },
  {
   "cell_type": "code",
   "execution_count": 99,
   "metadata": {
    "execution": {
     "iopub.execute_input": "2020-12-21T13:08:50.566993Z",
     "iopub.status.busy": "2020-12-21T13:08:50.566224Z",
     "iopub.status.idle": "2020-12-21T13:08:50.569857Z",
     "shell.execute_reply": "2020-12-21T13:08:50.570411Z"
    },
    "papermill": {
     "duration": 0.181098,
     "end_time": "2020-12-21T13:08:50.570589",
     "exception": false,
     "start_time": "2020-12-21T13:08:50.389491",
     "status": "completed"
    },
    "tags": []
   },
   "outputs": [
    {
     "data": {
      "text/plain": [
       "Everyone        1040\n",
       "Mature 17+       208\n",
       "Teen             179\n",
       "Everyone 10+      70\n",
       "Name: Content Rating, dtype: int64"
      ]
     },
     "execution_count": 99,
     "metadata": {},
     "output_type": "execute_result"
    }
   ],
   "source": [
    "df['Content Rating'].value_counts()"
   ]
  },
  {
   "cell_type": "code",
   "execution_count": 100,
   "metadata": {
    "execution": {
     "iopub.execute_input": "2020-12-21T13:08:50.911369Z",
     "iopub.status.busy": "2020-12-21T13:08:50.910329Z",
     "iopub.status.idle": "2020-12-21T13:08:50.918811Z",
     "shell.execute_reply": "2020-12-21T13:08:50.919341Z"
    },
    "papermill": {
     "duration": 0.178653,
     "end_time": "2020-12-21T13:08:50.919508",
     "exception": false,
     "start_time": "2020-12-21T13:08:50.740855",
     "status": "completed"
    },
    "tags": []
   },
   "outputs": [
    {
     "data": {
      "text/plain": [
       "Everyone        1040\n",
       "Mature 17+       208\n",
       "Teen             179\n",
       "Everyone 10+      70\n",
       "Name: Content Rating, dtype: int64"
      ]
     },
     "execution_count": 100,
     "metadata": {},
     "output_type": "execute_result"
    }
   ],
   "source": [
    "df['Content Rating'].value_counts()"
   ]
  },
  {
   "cell_type": "code",
   "execution_count": 101,
   "metadata": {
    "execution": {
     "iopub.execute_input": "2020-12-21T13:08:51.261359Z",
     "iopub.status.busy": "2020-12-21T13:08:51.260333Z",
     "iopub.status.idle": "2020-12-21T13:08:51.263363Z",
     "shell.execute_reply": "2020-12-21T13:08:51.263867Z"
    },
    "papermill": {
     "duration": 0.175163,
     "end_time": "2020-12-21T13:08:51.264018",
     "exception": false,
     "start_time": "2020-12-21T13:08:51.088855",
     "status": "completed"
    },
    "tags": []
   },
   "outputs": [],
   "source": [
    "## H0 : The content rating is independent of category\n",
    "## H1 : The content rating is dependent of category"
   ]
  },
  {
   "cell_type": "code",
   "execution_count": 102,
   "metadata": {
    "execution": {
     "iopub.execute_input": "2020-12-21T13:08:51.611284Z",
     "iopub.status.busy": "2020-12-21T13:08:51.610419Z",
     "iopub.status.idle": "2020-12-21T13:08:51.640300Z",
     "shell.execute_reply": "2020-12-21T13:08:51.639646Z"
    },
    "papermill": {
     "duration": 0.203819,
     "end_time": "2020-12-21T13:08:51.640413",
     "exception": false,
     "start_time": "2020-12-21T13:08:51.436594",
     "status": "completed"
    },
    "tags": []
   },
   "outputs": [
    {
     "data": {
      "text/html": [
       "<div>\n",
       "<style scoped>\n",
       "    .dataframe tbody tr th:only-of-type {\n",
       "        vertical-align: middle;\n",
       "    }\n",
       "\n",
       "    .dataframe tbody tr th {\n",
       "        vertical-align: top;\n",
       "    }\n",
       "\n",
       "    .dataframe thead th {\n",
       "        text-align: right;\n",
       "    }\n",
       "</style>\n",
       "<table border=\"1\" class=\"dataframe\">\n",
       "  <thead>\n",
       "    <tr style=\"text-align: right;\">\n",
       "      <th></th>\n",
       "      <th>App</th>\n",
       "      <th>Category</th>\n",
       "      <th>Rating</th>\n",
       "      <th>Reviews</th>\n",
       "      <th>Size</th>\n",
       "      <th>Installs</th>\n",
       "      <th>Type</th>\n",
       "      <th>Content Rating</th>\n",
       "    </tr>\n",
       "  </thead>\n",
       "  <tbody>\n",
       "    <tr>\n",
       "      <th>1433</th>\n",
       "      <td>Brain Waves - Binaural Beats</td>\n",
       "      <td>HEALTH_AND_FITNESS</td>\n",
       "      <td>4.400000</td>\n",
       "      <td>5038</td>\n",
       "      <td>10e+6</td>\n",
       "      <td>500000</td>\n",
       "      <td>Free</td>\n",
       "      <td>Everyone</td>\n",
       "    </tr>\n",
       "    <tr>\n",
       "      <th>1027</th>\n",
       "      <td>vide-greniers.org</td>\n",
       "      <td>EVENTS</td>\n",
       "      <td>4.300000</td>\n",
       "      <td>5839</td>\n",
       "      <td>3.5e+6</td>\n",
       "      <td>100000</td>\n",
       "      <td>Free</td>\n",
       "      <td>Everyone</td>\n",
       "    </tr>\n",
       "    <tr>\n",
       "      <th>1494</th>\n",
       "      <td>Room Painting Ideas</td>\n",
       "      <td>HOUSE_AND_HOME</td>\n",
       "      <td>4.000000</td>\n",
       "      <td>4450</td>\n",
       "      <td>7.6e+6</td>\n",
       "      <td>1000000</td>\n",
       "      <td>Free</td>\n",
       "      <td>Everyone</td>\n",
       "    </tr>\n",
       "    <tr>\n",
       "      <th>1235</th>\n",
       "      <td>OpenTable: Restaurants Near Me</td>\n",
       "      <td>FOOD_AND_DRINK</td>\n",
       "      <td>4.600000</td>\n",
       "      <td>90242</td>\n",
       "      <td>19e+6</td>\n",
       "      <td>5000000</td>\n",
       "      <td>Free</td>\n",
       "      <td>Everyone</td>\n",
       "    </tr>\n",
       "    <tr>\n",
       "      <th>96</th>\n",
       "      <td>Inquiry Fines and Debits of Vehicles</td>\n",
       "      <td>AUTO_AND_VEHICLES</td>\n",
       "      <td>4.400000</td>\n",
       "      <td>2680</td>\n",
       "      <td>2.2e+6</td>\n",
       "      <td>500000</td>\n",
       "      <td>Free</td>\n",
       "      <td>Everyone</td>\n",
       "    </tr>\n",
       "    <tr>\n",
       "      <th>...</th>\n",
       "      <td>...</td>\n",
       "      <td>...</td>\n",
       "      <td>...</td>\n",
       "      <td>...</td>\n",
       "      <td>...</td>\n",
       "      <td>...</td>\n",
       "      <td>...</td>\n",
       "      <td>...</td>\n",
       "    </tr>\n",
       "    <tr>\n",
       "      <th>864</th>\n",
       "      <td>Vigo Lite</td>\n",
       "      <td>ENTERTAINMENT</td>\n",
       "      <td>4.200000</td>\n",
       "      <td>10291</td>\n",
       "      <td>6.5e+6</td>\n",
       "      <td>5000000</td>\n",
       "      <td>Free</td>\n",
       "      <td>Teen</td>\n",
       "    </tr>\n",
       "    <tr>\n",
       "      <th>907</th>\n",
       "      <td>Animal Planet GO</td>\n",
       "      <td>ENTERTAINMENT</td>\n",
       "      <td>4.200000</td>\n",
       "      <td>2442</td>\n",
       "      <td>9.6e+6</td>\n",
       "      <td>100000</td>\n",
       "      <td>Free</td>\n",
       "      <td>Teen</td>\n",
       "    </tr>\n",
       "    <tr>\n",
       "      <th>945</th>\n",
       "      <td>WWE</td>\n",
       "      <td>ENTERTAINMENT</td>\n",
       "      <td>4.500000</td>\n",
       "      <td>736864</td>\n",
       "      <td>20e+6</td>\n",
       "      <td>10000000</td>\n",
       "      <td>Free</td>\n",
       "      <td>Teen</td>\n",
       "    </tr>\n",
       "    <tr>\n",
       "      <th>957</th>\n",
       "      <td>Telemundo Now</td>\n",
       "      <td>ENTERTAINMENT</td>\n",
       "      <td>3.900000</td>\n",
       "      <td>8674</td>\n",
       "      <td>19e+6</td>\n",
       "      <td>1000000</td>\n",
       "      <td>Free</td>\n",
       "      <td>Teen</td>\n",
       "    </tr>\n",
       "    <tr>\n",
       "      <th>620</th>\n",
       "      <td>Ost. Zombies Cast - New Music and Lyrics</td>\n",
       "      <td>DATING</td>\n",
       "      <td>4.291554</td>\n",
       "      <td>1</td>\n",
       "      <td>4.6e+6</td>\n",
       "      <td>100</td>\n",
       "      <td>Free</td>\n",
       "      <td>Teen</td>\n",
       "    </tr>\n",
       "  </tbody>\n",
       "</table>\n",
       "<p>120 rows × 8 columns</p>\n",
       "</div>"
      ],
      "text/plain": [
       "                                           App            Category    Rating  \\\n",
       "1433              Brain Waves - Binaural Beats  HEALTH_AND_FITNESS  4.400000   \n",
       "1027                         vide-greniers.org              EVENTS  4.300000   \n",
       "1494                       Room Painting Ideas      HOUSE_AND_HOME  4.000000   \n",
       "1235            OpenTable: Restaurants Near Me      FOOD_AND_DRINK  4.600000   \n",
       "96        Inquiry Fines and Debits of Vehicles   AUTO_AND_VEHICLES  4.400000   \n",
       "...                                        ...                 ...       ...   \n",
       "864                                  Vigo Lite       ENTERTAINMENT  4.200000   \n",
       "907                           Animal Planet GO       ENTERTAINMENT  4.200000   \n",
       "945                                        WWE       ENTERTAINMENT  4.500000   \n",
       "957                              Telemundo Now       ENTERTAINMENT  3.900000   \n",
       "620   Ost. Zombies Cast - New Music and Lyrics              DATING  4.291554   \n",
       "\n",
       "      Reviews    Size  Installs  Type Content Rating  \n",
       "1433     5038   10e+6    500000  Free       Everyone  \n",
       "1027     5839  3.5e+6    100000  Free       Everyone  \n",
       "1494     4450  7.6e+6   1000000  Free       Everyone  \n",
       "1235    90242   19e+6   5000000  Free       Everyone  \n",
       "96       2680  2.2e+6    500000  Free       Everyone  \n",
       "...       ...     ...       ...   ...            ...  \n",
       "864     10291  6.5e+6   5000000  Free           Teen  \n",
       "907      2442  9.6e+6    100000  Free           Teen  \n",
       "945    736864   20e+6  10000000  Free           Teen  \n",
       "957      8674   19e+6   1000000  Free           Teen  \n",
       "620         1  4.6e+6       100  Free           Teen  \n",
       "\n",
       "[120 rows x 8 columns]"
      ]
     },
     "execution_count": 102,
     "metadata": {},
     "output_type": "execute_result"
    }
   ],
   "source": [
    "sample=df.groupby('Content Rating', group_keys=False).apply(lambda x:x.sample(30,random_state=1))\n",
    "sample"
   ]
  },
  {
   "cell_type": "code",
   "execution_count": 103,
   "metadata": {
    "execution": {
     "iopub.execute_input": "2020-12-21T13:08:51.988094Z",
     "iopub.status.busy": "2020-12-21T13:08:51.987011Z",
     "iopub.status.idle": "2020-12-21T13:08:52.007226Z",
     "shell.execute_reply": "2020-12-21T13:08:52.006593Z"
    },
    "papermill": {
     "duration": 0.198751,
     "end_time": "2020-12-21T13:08:52.007349",
     "exception": false,
     "start_time": "2020-12-21T13:08:51.808598",
     "status": "completed"
    },
    "tags": []
   },
   "outputs": [
    {
     "name": "stdout",
     "output_type": "stream",
     "text": [
      "chi-stat : 195.62406015037595\n",
      "p-value : 8.3021537180809e-19\n"
     ]
    }
   ],
   "source": [
    "# for sample\n",
    "Content = pd.crosstab(sample['Category'], sample['Content Rating'])\n",
    "stat, pvalue, dof, arr = stats.chi2_contingency(Content)\n",
    "print(\"chi-stat :\",stat)\n",
    "print(\"p-value :\",pvalue)"
   ]
  },
  {
   "cell_type": "markdown",
   "metadata": {
    "papermill": {
     "duration": 0.172179,
     "end_time": "2020-12-21T13:08:52.351246",
     "exception": false,
     "start_time": "2020-12-21T13:08:52.179067",
     "status": "completed"
    },
    "tags": []
   },
   "source": [
    "Since p-value<0.05, we reject Null hypothesis Thus we can conclude that Content Rating and Category of applications are associated with each other"
   ]
  },
  {
   "cell_type": "markdown",
   "metadata": {
    "papermill": {
     "duration": 0.178529,
     "end_time": "2020-12-21T13:08:52.706986",
     "exception": false,
     "start_time": "2020-12-21T13:08:52.528457",
     "status": "completed"
    },
    "tags": []
   },
   "source": [
    "### Is  application Type dependent on Content Rating?\n",
    "Lets formulate our hypothesis to answer this question.\n",
    "\n",
    "##### Null Hypothesis ($H_0$)\n",
    "    The application type is independent of Content Rating.\n",
    "\n",
    "##### Alternative Hypothesis ($H_A$)\n",
    "    The application type is dependent of Content Rating."
   ]
  },
  {
   "cell_type": "code",
   "execution_count": 104,
   "metadata": {
    "execution": {
     "iopub.execute_input": "2020-12-21T13:08:53.065556Z",
     "iopub.status.busy": "2020-12-21T13:08:53.064831Z",
     "iopub.status.idle": "2020-12-21T13:08:53.076549Z",
     "shell.execute_reply": "2020-12-21T13:08:53.077091Z"
    },
    "papermill": {
     "duration": 0.192025,
     "end_time": "2020-12-21T13:08:53.077240",
     "exception": false,
     "start_time": "2020-12-21T13:08:52.885215",
     "status": "completed"
    },
    "tags": []
   },
   "outputs": [],
   "source": [
    "sample2 = df.groupby('Type', group_keys=False).apply(lambda x:x.sample(20,random_state=3))"
   ]
  },
  {
   "cell_type": "code",
   "execution_count": 105,
   "metadata": {
    "execution": {
     "iopub.execute_input": "2020-12-21T13:08:53.423258Z",
     "iopub.status.busy": "2020-12-21T13:08:53.422558Z",
     "iopub.status.idle": "2020-12-21T13:08:53.430280Z",
     "shell.execute_reply": "2020-12-21T13:08:53.430866Z"
    },
    "papermill": {
     "duration": 0.184222,
     "end_time": "2020-12-21T13:08:53.431017",
     "exception": false,
     "start_time": "2020-12-21T13:08:53.246795",
     "status": "completed"
    },
    "tags": []
   },
   "outputs": [
    {
     "data": {
      "text/plain": [
       "Everyone        24\n",
       "Teen             7\n",
       "Everyone 10+     5\n",
       "Mature 17+       4\n",
       "Name: Content Rating, dtype: int64"
      ]
     },
     "execution_count": 105,
     "metadata": {},
     "output_type": "execute_result"
    }
   ],
   "source": [
    "sample2['Content Rating'].value_counts()"
   ]
  },
  {
   "cell_type": "code",
   "execution_count": 106,
   "metadata": {
    "execution": {
     "iopub.execute_input": "2020-12-21T13:08:53.789560Z",
     "iopub.status.busy": "2020-12-21T13:08:53.784795Z",
     "iopub.status.idle": "2020-12-21T13:08:53.800162Z",
     "shell.execute_reply": "2020-12-21T13:08:53.800784Z"
    },
    "papermill": {
     "duration": 0.199451,
     "end_time": "2020-12-21T13:08:53.800952",
     "exception": false,
     "start_time": "2020-12-21T13:08:53.601501",
     "status": "completed"
    },
    "tags": []
   },
   "outputs": [
    {
     "data": {
      "text/html": [
       "<div>\n",
       "<style scoped>\n",
       "    .dataframe tbody tr th:only-of-type {\n",
       "        vertical-align: middle;\n",
       "    }\n",
       "\n",
       "    .dataframe tbody tr th {\n",
       "        vertical-align: top;\n",
       "    }\n",
       "\n",
       "    .dataframe thead th {\n",
       "        text-align: right;\n",
       "    }\n",
       "</style>\n",
       "<table border=\"1\" class=\"dataframe\">\n",
       "  <thead>\n",
       "    <tr style=\"text-align: right;\">\n",
       "      <th>Content Rating</th>\n",
       "      <th>Everyone</th>\n",
       "      <th>Everyone 10+</th>\n",
       "      <th>Mature 17+</th>\n",
       "      <th>Teen</th>\n",
       "    </tr>\n",
       "    <tr>\n",
       "      <th>Type</th>\n",
       "      <th></th>\n",
       "      <th></th>\n",
       "      <th></th>\n",
       "      <th></th>\n",
       "    </tr>\n",
       "  </thead>\n",
       "  <tbody>\n",
       "    <tr>\n",
       "      <th>Free</th>\n",
       "      <td>10</td>\n",
       "      <td>4</td>\n",
       "      <td>3</td>\n",
       "      <td>3</td>\n",
       "    </tr>\n",
       "    <tr>\n",
       "      <th>Paid</th>\n",
       "      <td>14</td>\n",
       "      <td>1</td>\n",
       "      <td>1</td>\n",
       "      <td>4</td>\n",
       "    </tr>\n",
       "  </tbody>\n",
       "</table>\n",
       "</div>"
      ],
      "text/plain": [
       "Content Rating  Everyone  Everyone 10+  Mature 17+  Teen\n",
       "Type                                                    \n",
       "Free                  10             4           3     3\n",
       "Paid                  14             1           1     4"
      ]
     },
     "execution_count": 106,
     "metadata": {},
     "output_type": "execute_result"
    }
   ],
   "source": [
    "table_type = pd.crosstab(sample2['Type'],sample2['Content Rating'])\n",
    "table_type"
   ]
  },
  {
   "cell_type": "code",
   "execution_count": 107,
   "metadata": {
    "execution": {
     "iopub.execute_input": "2020-12-21T13:08:54.194086Z",
     "iopub.status.busy": "2020-12-21T13:08:54.193392Z",
     "iopub.status.idle": "2020-12-21T13:08:54.390572Z",
     "shell.execute_reply": "2020-12-21T13:08:54.391391Z"
    },
    "papermill": {
     "duration": 0.414197,
     "end_time": "2020-12-21T13:08:54.391590",
     "exception": false,
     "start_time": "2020-12-21T13:08:53.977393",
     "status": "completed"
    },
    "tags": []
   },
   "outputs": [
    {
     "data": {
      "text/plain": [
       "<matplotlib.legend.Legend at 0x7fd199647a90>"
      ]
     },
     "execution_count": 107,
     "metadata": {},
     "output_type": "execute_result"
    },
    {
     "data": {
      "image/png": "[encoded data removed]",
      "text/plain": [
       "<Figure size 1152x360 with 1 Axes>"
      ]
     },
     "metadata": {
      "needs_background": "light"
     },
     "output_type": "display_data"
    }
   ],
   "source": [
    "plt.figure(figsize=(16,5))\n",
    "sns.countplot(sample2['Content Rating'], hue=sample2['Type'])\n",
    "plt.title(\"Number of Free and Paid applications for each Content Rating\")\n",
    "plt.xlabel(\"Content Rating\")\n",
    "plt.ylabel(\"Count\")\n",
    "plt.legend()\n"
   ]
  },
  {
   "cell_type": "code",
   "execution_count": 108,
   "metadata": {
    "execution": {
     "iopub.execute_input": "2020-12-21T13:08:54.746805Z",
     "iopub.status.busy": "2020-12-21T13:08:54.745786Z",
     "iopub.status.idle": "2020-12-21T13:08:54.756706Z",
     "shell.execute_reply": "2020-12-21T13:08:54.756103Z"
    },
    "papermill": {
     "duration": 0.189372,
     "end_time": "2020-12-21T13:08:54.756823",
     "exception": false,
     "start_time": "2020-12-21T13:08:54.567451",
     "status": "completed"
    },
    "tags": []
   },
   "outputs": [
    {
     "name": "stdout",
     "output_type": "stream",
     "text": [
      "chi-stat : 3.6095238095238096\n",
      "p-value : 0.3068325875752555\n",
      "Degrees of Freedom : 3\n",
      "Expected array :\n",
      " [[12.  2.  2.  4.]\n",
      " [12.  2.  2.  4.]]\n"
     ]
    }
   ],
   "source": [
    "# Test Of Independence\n",
    "stat, pvalue, dof, arr = stats.chi2_contingency(table_type)\n",
    "print(\"chi-stat :\",stat)\n",
    "print(\"p-value :\",pvalue)\n",
    "print(\"Degrees of Freedom :\",dof)\n",
    "print(\"Expected array :\\n\",np.round(arr))"
   ]
  },
  {
   "cell_type": "markdown",
   "metadata": {
    "papermill": {
     "duration": 0.179839,
     "end_time": "2020-12-21T13:08:55.116388",
     "exception": false,
     "start_time": "2020-12-21T13:08:54.936549",
     "status": "completed"
    },
    "tags": []
   },
   "source": [
    "Since p-value > 0.05, we fail to reject Null Hypothesis."
   ]
  },
  {
   "cell_type": "markdown",
   "metadata": {
    "papermill": {
     "duration": 0.178731,
     "end_time": "2020-12-21T13:08:55.468842",
     "exception": false,
     "start_time": "2020-12-21T13:08:55.290111",
     "status": "completed"
    },
    "tags": []
   },
   "source": [
    "## Thus we can conclude that the Content Rating of application is independent of application Type"
   ]
  },
  {
   "cell_type": "code",
   "execution_count": 109,
   "metadata": {
    "execution": {
     "iopub.execute_input": "2020-12-21T13:08:55.825495Z",
     "iopub.status.busy": "2020-12-21T13:08:55.824791Z",
     "iopub.status.idle": "2020-12-21T13:08:55.851332Z",
     "shell.execute_reply": "2020-12-21T13:08:55.851981Z"
    },
    "papermill": {
     "duration": 0.209503,
     "end_time": "2020-12-21T13:08:55.852139",
     "exception": false,
     "start_time": "2020-12-21T13:08:55.642636",
     "status": "completed"
    },
    "tags": []
   },
   "outputs": [
    {
     "data": {
      "text/html": [
       "<div>\n",
       "<style scoped>\n",
       "    .dataframe tbody tr th:only-of-type {\n",
       "        vertical-align: middle;\n",
       "    }\n",
       "\n",
       "    .dataframe tbody tr th {\n",
       "        vertical-align: top;\n",
       "    }\n",
       "\n",
       "    .dataframe thead th {\n",
       "        text-align: right;\n",
       "    }\n",
       "</style>\n",
       "<table border=\"1\" class=\"dataframe\">\n",
       "  <thead>\n",
       "    <tr style=\"text-align: right;\">\n",
       "      <th></th>\n",
       "      <th>App</th>\n",
       "      <th>Category</th>\n",
       "      <th>Rating</th>\n",
       "      <th>Reviews</th>\n",
       "      <th>Size</th>\n",
       "      <th>Installs</th>\n",
       "      <th>Type</th>\n",
       "      <th>Content Rating</th>\n",
       "    </tr>\n",
       "  </thead>\n",
       "  <tbody>\n",
       "    <tr>\n",
       "      <th>0</th>\n",
       "      <td>Photo Editor &amp; Candy Camera &amp; Grid &amp; ScrapBook</td>\n",
       "      <td>ART_AND_DESIGN</td>\n",
       "      <td>4.1</td>\n",
       "      <td>159</td>\n",
       "      <td>19M</td>\n",
       "      <td>10,000+</td>\n",
       "      <td>Free</td>\n",
       "      <td>Everyone</td>\n",
       "    </tr>\n",
       "    <tr>\n",
       "      <th>1</th>\n",
       "      <td>Coloring book moana</td>\n",
       "      <td>ART_AND_DESIGN</td>\n",
       "      <td>3.9</td>\n",
       "      <td>967</td>\n",
       "      <td>14M</td>\n",
       "      <td>500,000+</td>\n",
       "      <td>Free</td>\n",
       "      <td>Everyone</td>\n",
       "    </tr>\n",
       "    <tr>\n",
       "      <th>2</th>\n",
       "      <td>U Launcher Lite – FREE Live Cool Themes, Hide ...</td>\n",
       "      <td>ART_AND_DESIGN</td>\n",
       "      <td>4.7</td>\n",
       "      <td>87510</td>\n",
       "      <td>8.7M</td>\n",
       "      <td>5,000,000+</td>\n",
       "      <td>Free</td>\n",
       "      <td>Everyone</td>\n",
       "    </tr>\n",
       "    <tr>\n",
       "      <th>3</th>\n",
       "      <td>Sketch - Draw &amp; Paint</td>\n",
       "      <td>ART_AND_DESIGN</td>\n",
       "      <td>4.5</td>\n",
       "      <td>215644</td>\n",
       "      <td>25M</td>\n",
       "      <td>50,000,000+</td>\n",
       "      <td>Free</td>\n",
       "      <td>Teen</td>\n",
       "    </tr>\n",
       "    <tr>\n",
       "      <th>4</th>\n",
       "      <td>Pixel Draw - Number Art Coloring Book</td>\n",
       "      <td>ART_AND_DESIGN</td>\n",
       "      <td>4.3</td>\n",
       "      <td>967</td>\n",
       "      <td>2.8M</td>\n",
       "      <td>100,000+</td>\n",
       "      <td>Free</td>\n",
       "      <td>Everyone</td>\n",
       "    </tr>\n",
       "    <tr>\n",
       "      <th>...</th>\n",
       "      <td>...</td>\n",
       "      <td>...</td>\n",
       "      <td>...</td>\n",
       "      <td>...</td>\n",
       "      <td>...</td>\n",
       "      <td>...</td>\n",
       "      <td>...</td>\n",
       "      <td>...</td>\n",
       "    </tr>\n",
       "    <tr>\n",
       "      <th>1995</th>\n",
       "      <td>Bubble Shooter Space</td>\n",
       "      <td>GAME</td>\n",
       "      <td>4.2</td>\n",
       "      <td>4355</td>\n",
       "      <td>Varies with device</td>\n",
       "      <td>1,000,000+</td>\n",
       "      <td>Free</td>\n",
       "      <td>Everyone</td>\n",
       "    </tr>\n",
       "    <tr>\n",
       "      <th>1996</th>\n",
       "      <td>Swamp Attack</td>\n",
       "      <td>GAME</td>\n",
       "      <td>4.4</td>\n",
       "      <td>2119235</td>\n",
       "      <td>70M</td>\n",
       "      <td>50,000,000+</td>\n",
       "      <td>Free</td>\n",
       "      <td>Everyone 10+</td>\n",
       "    </tr>\n",
       "    <tr>\n",
       "      <th>1997</th>\n",
       "      <td>1LINE – One Line with One Touch</td>\n",
       "      <td>GAME</td>\n",
       "      <td>4.6</td>\n",
       "      <td>214878</td>\n",
       "      <td>10M</td>\n",
       "      <td>10,000,000+</td>\n",
       "      <td>Free</td>\n",
       "      <td>Everyone</td>\n",
       "    </tr>\n",
       "    <tr>\n",
       "      <th>1998</th>\n",
       "      <td>Stick War: Legacy</td>\n",
       "      <td>GAME</td>\n",
       "      <td>4.6</td>\n",
       "      <td>811040</td>\n",
       "      <td>77M</td>\n",
       "      <td>10,000,000+</td>\n",
       "      <td>Free</td>\n",
       "      <td>Teen</td>\n",
       "    </tr>\n",
       "    <tr>\n",
       "      <th>1999</th>\n",
       "      <td>Bowmasters</td>\n",
       "      <td>GAME</td>\n",
       "      <td>4.7</td>\n",
       "      <td>1536349</td>\n",
       "      <td>Varies with device</td>\n",
       "      <td>50,000,000+</td>\n",
       "      <td>Free</td>\n",
       "      <td>Teen</td>\n",
       "    </tr>\n",
       "  </tbody>\n",
       "</table>\n",
       "<p>2000 rows × 8 columns</p>\n",
       "</div>"
      ],
      "text/plain": [
       "                                                    App        Category  \\\n",
       "0        Photo Editor & Candy Camera & Grid & ScrapBook  ART_AND_DESIGN   \n",
       "1                                   Coloring book moana  ART_AND_DESIGN   \n",
       "2     U Launcher Lite – FREE Live Cool Themes, Hide ...  ART_AND_DESIGN   \n",
       "3                                 Sketch - Draw & Paint  ART_AND_DESIGN   \n",
       "4                 Pixel Draw - Number Art Coloring Book  ART_AND_DESIGN   \n",
       "...                                                 ...             ...   \n",
       "1995                               Bubble Shooter Space            GAME   \n",
       "1996                                       Swamp Attack            GAME   \n",
       "1997                    1LINE – One Line with One Touch            GAME   \n",
       "1998                                  Stick War: Legacy            GAME   \n",
       "1999                                         Bowmasters            GAME   \n",
       "\n",
       "      Rating  Reviews                Size     Installs  Type Content Rating  \n",
       "0        4.1      159                 19M      10,000+  Free       Everyone  \n",
       "1        3.9      967                 14M     500,000+  Free       Everyone  \n",
       "2        4.7    87510                8.7M   5,000,000+  Free       Everyone  \n",
       "3        4.5   215644                 25M  50,000,000+  Free           Teen  \n",
       "4        4.3      967                2.8M     100,000+  Free       Everyone  \n",
       "...      ...      ...                 ...          ...   ...            ...  \n",
       "1995     4.2     4355  Varies with device   1,000,000+  Free       Everyone  \n",
       "1996     4.4  2119235                 70M  50,000,000+  Free   Everyone 10+  \n",
       "1997     4.6   214878                 10M  10,000,000+  Free       Everyone  \n",
       "1998     4.6   811040                 77M  10,000,000+  Free           Teen  \n",
       "1999     4.7  1536349  Varies with device  50,000,000+  Free           Teen  \n",
       "\n",
       "[2000 rows x 8 columns]"
      ]
     },
     "execution_count": 109,
     "metadata": {},
     "output_type": "execute_result"
    }
   ],
   "source": [
    "p=pd.read_csv('../input/google-playstore-dataset/playstore.csv')\n",
    "p"
   ]
  },
  {
   "cell_type": "code",
   "execution_count": 110,
   "metadata": {
    "execution": {
     "iopub.execute_input": "2020-12-21T13:08:56.211989Z",
     "iopub.status.busy": "2020-12-21T13:08:56.211193Z",
     "iopub.status.idle": "2020-12-21T13:08:56.376133Z",
     "shell.execute_reply": "2020-12-21T13:08:56.376731Z"
    },
    "papermill": {
     "duration": 0.342382,
     "end_time": "2020-12-21T13:08:56.376901",
     "exception": false,
     "start_time": "2020-12-21T13:08:56.034519",
     "status": "completed"
    },
    "tags": []
   },
   "outputs": [],
   "source": [
    "# Central Limit Theorem\n",
    "def central_limit_theorem(data,n_samples = 1000, sample_size = 500):\n",
    "    \"\"\" Use this function to demonstrate Central Limit Theorem. \n",
    "        data = 1D array, or a pd.Series\n",
    "        n_samples = number of samples to be created\n",
    "        sample_size = size of the individual sample \"\"\"\n",
    "    %matplotlib inline\n",
    "    import pandas as pd\n",
    "    import numpy as np\n",
    "    import matplotlib.pyplot as plt\n",
    "    import seaborn as sns\n",
    "    min_value = 0  # minimum index of the data\n",
    "    max_value = data.count()  # maximum index of the data\n",
    "    b = {}\n",
    "    for i in range(n_samples):\n",
    "        x = np.unique(np.random.randint(min_value, max_value, size = sample_size)) # set of random numbers with a specific size\n",
    "        b[i] = data[x].mean()   # mean of each sample\n",
    "    c = pd.DataFrame()\n",
    "    c['sample'] = b.keys()  # sample number \n",
    "    c['Mean'] = b.values()  # mean of that particular sample\n",
    "    plt.figure(figsize= (15,5))\n",
    "\n",
    "    plt.subplot(1,2,2)\n",
    "    sns.distplot(c.Mean,color='b')\n",
    "    plt.title(f\"Sampling Distribution. \\n \\u03bc = {round(c.Mean.mean(), 3)} & SE = {round(c.Mean.std(),3)}\")\n",
    "    plt.xlabel('data')\n",
    "    plt.ylabel('freq')\n",
    "\n",
    "    plt.subplot(1,2,1)\n",
    "    sns.distplot(data,color='g')\n",
    "    plt.title(f\"Population Distribution. \\n \\u03bc = {round(data.mean(), 3)} & \\u03C3 = {round(data.std(),3)}\")\n",
    "    plt.xlabel('data')\n",
    "    plt.ylabel('freq')\n",
    "    plt.show()\n"
   ]
  },
  {
   "cell_type": "code",
   "execution_count": 111,
   "metadata": {
    "execution": {
     "iopub.execute_input": "2020-12-21T13:08:56.784390Z",
     "iopub.status.busy": "2020-12-21T13:08:56.783688Z",
     "iopub.status.idle": "2020-12-21T13:08:57.755989Z",
     "shell.execute_reply": "2020-12-21T13:08:57.755218Z"
    },
    "papermill": {
     "duration": 1.152094,
     "end_time": "2020-12-21T13:08:57.756109",
     "exception": false,
     "start_time": "2020-12-21T13:08:56.604015",
     "status": "completed"
    },
    "tags": []
   },
   "outputs": [
    {
     "data": {
      "image/png": "[encoded data removed]",
      "text/plain": [
       "<Figure size 1080x360 with 2 Axes>"
      ]
     },
     "metadata": {
      "needs_background": "light"
     },
     "output_type": "display_data"
    }
   ],
   "source": [
    "central_limit_theorem(p.Rating)"
   ]
  },
  {
   "cell_type": "code",
   "execution_count": 112,
   "metadata": {
    "execution": {
     "iopub.execute_input": "2020-12-21T13:08:58.120011Z",
     "iopub.status.busy": "2020-12-21T13:08:58.119312Z",
     "iopub.status.idle": "2020-12-21T13:08:58.123703Z",
     "shell.execute_reply": "2020-12-21T13:08:58.123150Z"
    },
    "papermill": {
     "duration": 0.189231,
     "end_time": "2020-12-21T13:08:58.123824",
     "exception": false,
     "start_time": "2020-12-21T13:08:57.934593",
     "status": "completed"
    },
    "tags": []
   },
   "outputs": [
    {
     "ename": "SyntaxError",
     "evalue": "invalid syntax (<ipython-input-112-ca8de7fde8da>, line 1)",
     "output_type": "error",
     "traceback": [
      "\u001b[0;36m  File \u001b[0;32m\"<ipython-input-112-ca8de7fde8da>\"\u001b[0;36m, line \u001b[0;32m1\u001b[0m\n\u001b[0;31m    If tencent is launching a new game when will the rating of the app be above 4\u001b[0m\n\u001b[0m             ^\u001b[0m\n\u001b[0;31mSyntaxError\u001b[0m\u001b[0;31m:\u001b[0m invalid syntax\n"
     ]
    }
   ],
   "source": [
    "If tencent is launching a new game when will the rating of the app be above 4"
   ]
  },
  {
   "cell_type": "code",
   "execution_count": 113,
   "metadata": {
    "execution": {
     "iopub.execute_input": "2020-12-21T13:08:58.491012Z",
     "iopub.status.busy": "2020-12-21T13:08:58.486093Z",
     "iopub.status.idle": "2020-12-21T13:08:58.494979Z",
     "shell.execute_reply": "2020-12-21T13:08:58.495471Z"
    },
    "papermill": {
     "duration": 0.194313,
     "end_time": "2020-12-21T13:08:58.495616",
     "exception": false,
     "start_time": "2020-12-21T13:08:58.301303",
     "status": "completed"
    },
    "tags": []
   },
   "outputs": [
    {
     "name": "stdout",
     "output_type": "stream",
     "text": [
      "Frequency of ratings above 4 is 0.193\n"
     ]
    }
   ],
   "source": [
    "def rati(t):\n",
    "  count=0\n",
    "  for i in t:\n",
    "     if i>=4:\n",
    "       count +=1\n",
    "  total_5 = count\n",
    "  return float(total_5) / len(t)\n",
    "\n",
    "t=  [np.random.uniform(0,5) for i in range(1000)]\n",
    "freq = rati(t)\n",
    "print(f\"Frequency of ratings above 4 is {freq}\")"
   ]
  },
  {
   "cell_type": "code",
   "execution_count": 114,
   "metadata": {
    "execution": {
     "iopub.execute_input": "2020-12-21T13:08:58.869124Z",
     "iopub.status.busy": "2020-12-21T13:08:58.868284Z",
     "iopub.status.idle": "2020-12-21T13:08:59.449528Z",
     "shell.execute_reply": "2020-12-21T13:08:59.448453Z"
    },
    "papermill": {
     "duration": 0.77607,
     "end_time": "2020-12-21T13:08:59.449654",
     "exception": false,
     "start_time": "2020-12-21T13:08:58.673584",
     "status": "completed"
    },
    "tags": []
   },
   "outputs": [
    {
     "data": {
      "image/png": "[encoded data removed]",
      "text/plain": [
       "<Figure size 1200x800 with 1 Axes>"
      ]
     },
     "metadata": {},
     "output_type": "display_data"
    }
   ],
   "source": [
    "j=[]\n",
    "f=[]\n",
    "g=0\n",
    "for i in range(1,10001):\n",
    "    j.append(i)\n",
    "    h=0\n",
    "    r=np.random.choice([i for i in np.arange(0, 5.1, 0.1)] )\n",
    "    if r>4:\n",
    "        g=g+1\n",
    "    f.append(g/i)\n",
    "plt.figure(figsize=(15, 10), dpi=80, facecolor='w', edgecolor='k')  \n",
    "plt.plot(f,color='r')\n",
    "plt.xlabel('No of Installs')\n",
    "plt.show()"
   ]
  },
  {
   "cell_type": "markdown",
   "metadata": {
    "papermill": {
     "duration": 0.182524,
     "end_time": "2020-12-21T13:08:59.816643",
     "exception": false,
     "start_time": "2020-12-21T13:08:59.634119",
     "status": "completed"
    },
    "tags": []
   },
   "source": [
    "**INSIGHTS**\n",
    "\n",
    "1.After data cleaning from the descriptive statistics we can see that there are 18 different categories of apps with 1498 rows(apps) and 8 columns and Gaming category has most of the apps\n",
    "\n",
    "2.From Hypothesis 1 its clear that the type of the app doesn’t have any influence on the rating.\n",
    "\n",
    "3.Hypothesis 2 proved that the number of installs for paid and free apps are not the same. Tencent can concentrate on free apps if they need more installs.\n",
    "\n",
    "4.The average rating for the categories of apps are different which can be seen from hypothesis 3. If Tencent’s aim is to have good ratings then they have to concentrate on the category of app which they are launching.\n",
    "\n",
    "5.Hypothesis 4 shows that the content rating is independent of application type.\n",
    "\n",
    "6.If Tencent is launching an app into the market, the rating of the app stabilizes above a rating of 4 after 2000 installs from the simulation result considering the app isn’t buggy.\n",
    "\n"
   ]
  }
 ],
 "metadata": {
  "kernelspec": {
   "display_name": "Python 3",
   "language": "python",
   "name": "python3"
  },
  "language_info": {
   "codemirror_mode": {
    "name": "ipython",
    "version": 3
   },
   "file_extension": ".py",
   "mimetype": "text/x-python",
   "name": "python",
   "nbconvert_exporter": "python",
   "pygments_lexer": "ipython3",
   "version": "3.7.6"
  },
  "papermill": {
   "duration": 68.664089,
   "end_time": "2020-12-21T13:09:00.151862",
   "environment_variables": {},
   "exception": null,
   "input_path": "__notebook__.ipynb",
   "output_path": "__notebook__.ipynb",
   "parameters": {},
   "start_time": "2020-12-21T13:07:51.487773",
   "version": "2.1.0"
  }
 },
 "nbformat": 4,
 "nbformat_minor": 4
}
